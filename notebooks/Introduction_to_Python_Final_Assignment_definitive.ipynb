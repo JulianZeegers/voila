{
  "nbformat": 4,
  "nbformat_minor": 0,
  "metadata": {
    "colab": {
      "provenance": []
    },
    "kernelspec": {
      "name": "python3",
      "display_name": "Python 3"
    },
    "language_info": {
      "name": "python"
    },
    "widgets": {
      "application/vnd.jupyter.widget-state+json": {
        "4e6a3d352baa46cf88a09eea0c2b5e51": {
          "model_module": "@jupyter-widgets/controls",
          "model_name": "VBoxModel",
          "model_module_version": "1.5.0",
          "state": {
            "_dom_classes": [
              "widget-interact"
            ],
            "_model_module": "@jupyter-widgets/controls",
            "_model_module_version": "1.5.0",
            "_model_name": "VBoxModel",
            "_view_count": null,
            "_view_module": "@jupyter-widgets/controls",
            "_view_module_version": "1.5.0",
            "_view_name": "VBoxView",
            "box_style": "",
            "children": [
              "IPY_MODEL_961e207bec424295919113ee5a24293f",
              "IPY_MODEL_eb4a3a0158994d5baddb08831c02511a"
            ],
            "layout": "IPY_MODEL_b6db509b193b4e5ab3dca4869bdc8591"
          }
        },
        "961e207bec424295919113ee5a24293f": {
          "model_module": "@jupyter-widgets/controls",
          "model_name": "DropdownModel",
          "model_module_version": "1.5.0",
          "state": {
            "_dom_classes": [],
            "_model_module": "@jupyter-widgets/controls",
            "_model_module_version": "1.5.0",
            "_model_name": "DropdownModel",
            "_options_labels": [
              "553.32894",
              "494.358832",
              "4463.394675",
              "3529.53482",
              "1276.265",
              "3218.381655",
              "5842.85784",
              "2722.1389",
              "757.6717572",
              "1595.91232",
              "63.38877",
              "4438.23741",
              "4344.15177",
              "757.695974",
              "2178.921383",
              "4611.47298",
              "6843.263289",
              "575.4464527",
              "231.1943256",
              "3312.825985",
              "785.6928841",
              "1286.17764",
              "456.512487",
              "625.65544",
              "769.1742883",
              "8199.414621",
              "1355.74586",
              "5676.14143",
              "3818.46396",
              "5841.41122",
              "5451.6696",
              "4657.32361",
              "3474.392445",
              "482.14994",
              "341.39992",
              "3651.966784",
              "4622.41516",
              "473.34279",
              "2964.47734",
              "1312.67557",
              "7365.666659",
              "2825.5247",
              "438.7513346",
              "326.281212",
              "662.2795182",
              "1932.85829",
              "1325.53379",
              "1345.77153",
              "3113.48635",
              "452.74948",
              "3661.994",
              "4682.728424",
              "4457.67639",
              "3679.19275",
              "97.649972",
              "1493.1651",
              "8763.826274",
              "327.42597",
              "1212.56217",
              "412.739341",
              "971.356987",
              "633.79498",
              "78.377632",
              "2187.79469",
              "123.383675",
              "8.376432",
              "8959.581416",
              "265.353659",
              "6682.281158",
              "2834.2472",
              "987.7365832",
              "592.1835216",
              "5338.25483",
              "1526.497938",
              "348.151511",
              "1928.74739",
              "14.142268",
              "7937.259931",
              "1366.879112",
              "3225.591754",
              "522.493191",
              "2129.499242",
              "736.22784",
              "8297.483621",
              "1674.98771",
              "563.491487",
              "3453.487434",
              "1129.754961",
              "11.631377",
              "5411.87744",
              "184.68447",
              "45.128418",
              "1272.44825",
              "3736.228",
              "2819.511161",
              "1476.47887",
              "833.31332",
              "5276.25591",
              "738.3475227",
              "575.32176",
              "849.8626972",
              "3547.59975",
              "414.15177",
              "1672.5693",
              "4439.23",
              "2965.142365",
              "3549.14832",
              "1377.8214",
              "2965.82434"
            ],
            "_view_count": null,
            "_view_module": "@jupyter-widgets/controls",
            "_view_module_version": "1.5.0",
            "_view_name": "DropdownView",
            "description": "gdp",
            "description_tooltip": null,
            "disabled": false,
            "index": 0,
            "layout": "IPY_MODEL_0e2a9e2706ae4bff9a2156e526649c17",
            "style": "IPY_MODEL_cc0c77e58875419e9c82cbda6a6c48b2"
          }
        },
        "eb4a3a0158994d5baddb08831c02511a": {
          "model_module": "@jupyter-widgets/output",
          "model_name": "OutputModel",
          "model_module_version": "1.0.0",
          "state": {
            "_dom_classes": [],
            "_model_module": "@jupyter-widgets/output",
            "_model_module_version": "1.0.0",
            "_model_name": "OutputModel",
            "_view_count": null,
            "_view_module": "@jupyter-widgets/output",
            "_view_module_version": "1.0.0",
            "_view_name": "OutputView",
            "layout": "IPY_MODEL_48831f6dc41b42ef89bb369f8ce9e06b",
            "msg_id": "",
            "outputs": [
              {
                "output_type": "display_data",
                "data": {
                  "text/plain": "0.5239463295"
                },
                "metadata": {}
              }
            ]
          }
        },
        "b6db509b193b4e5ab3dca4869bdc8591": {
          "model_module": "@jupyter-widgets/base",
          "model_name": "LayoutModel",
          "model_module_version": "1.2.0",
          "state": {
            "_model_module": "@jupyter-widgets/base",
            "_model_module_version": "1.2.0",
            "_model_name": "LayoutModel",
            "_view_count": null,
            "_view_module": "@jupyter-widgets/base",
            "_view_module_version": "1.2.0",
            "_view_name": "LayoutView",
            "align_content": null,
            "align_items": null,
            "align_self": null,
            "border": null,
            "bottom": null,
            "display": null,
            "flex": null,
            "flex_flow": null,
            "grid_area": null,
            "grid_auto_columns": null,
            "grid_auto_flow": null,
            "grid_auto_rows": null,
            "grid_column": null,
            "grid_gap": null,
            "grid_row": null,
            "grid_template_areas": null,
            "grid_template_columns": null,
            "grid_template_rows": null,
            "height": null,
            "justify_content": null,
            "justify_items": null,
            "left": null,
            "margin": null,
            "max_height": null,
            "max_width": null,
            "min_height": null,
            "min_width": null,
            "object_fit": null,
            "object_position": null,
            "order": null,
            "overflow": null,
            "overflow_x": null,
            "overflow_y": null,
            "padding": null,
            "right": null,
            "top": null,
            "visibility": null,
            "width": null
          }
        },
        "0e2a9e2706ae4bff9a2156e526649c17": {
          "model_module": "@jupyter-widgets/base",
          "model_name": "LayoutModel",
          "model_module_version": "1.2.0",
          "state": {
            "_model_module": "@jupyter-widgets/base",
            "_model_module_version": "1.2.0",
            "_model_name": "LayoutModel",
            "_view_count": null,
            "_view_module": "@jupyter-widgets/base",
            "_view_module_version": "1.2.0",
            "_view_name": "LayoutView",
            "align_content": null,
            "align_items": null,
            "align_self": null,
            "border": null,
            "bottom": null,
            "display": null,
            "flex": null,
            "flex_flow": null,
            "grid_area": null,
            "grid_auto_columns": null,
            "grid_auto_flow": null,
            "grid_auto_rows": null,
            "grid_column": null,
            "grid_gap": null,
            "grid_row": null,
            "grid_template_areas": null,
            "grid_template_columns": null,
            "grid_template_rows": null,
            "height": null,
            "justify_content": null,
            "justify_items": null,
            "left": null,
            "margin": null,
            "max_height": null,
            "max_width": null,
            "min_height": null,
            "min_width": null,
            "object_fit": null,
            "object_position": null,
            "order": null,
            "overflow": null,
            "overflow_x": null,
            "overflow_y": null,
            "padding": null,
            "right": null,
            "top": null,
            "visibility": null,
            "width": null
          }
        },
        "cc0c77e58875419e9c82cbda6a6c48b2": {
          "model_module": "@jupyter-widgets/controls",
          "model_name": "DescriptionStyleModel",
          "model_module_version": "1.5.0",
          "state": {
            "_model_module": "@jupyter-widgets/controls",
            "_model_module_version": "1.5.0",
            "_model_name": "DescriptionStyleModel",
            "_view_count": null,
            "_view_module": "@jupyter-widgets/base",
            "_view_module_version": "1.2.0",
            "_view_name": "StyleView",
            "description_width": ""
          }
        },
        "48831f6dc41b42ef89bb369f8ce9e06b": {
          "model_module": "@jupyter-widgets/base",
          "model_name": "LayoutModel",
          "model_module_version": "1.2.0",
          "state": {
            "_model_module": "@jupyter-widgets/base",
            "_model_module_version": "1.2.0",
            "_model_name": "LayoutModel",
            "_view_count": null,
            "_view_module": "@jupyter-widgets/base",
            "_view_module_version": "1.2.0",
            "_view_name": "LayoutView",
            "align_content": null,
            "align_items": null,
            "align_self": null,
            "border": null,
            "bottom": null,
            "display": null,
            "flex": null,
            "flex_flow": null,
            "grid_area": null,
            "grid_auto_columns": null,
            "grid_auto_flow": null,
            "grid_auto_rows": null,
            "grid_column": null,
            "grid_gap": null,
            "grid_row": null,
            "grid_template_areas": null,
            "grid_template_columns": null,
            "grid_template_rows": null,
            "height": null,
            "justify_content": null,
            "justify_items": null,
            "left": null,
            "margin": null,
            "max_height": null,
            "max_width": null,
            "min_height": null,
            "min_width": null,
            "object_fit": null,
            "object_position": null,
            "order": null,
            "overflow": null,
            "overflow_x": null,
            "overflow_y": null,
            "padding": null,
            "right": null,
            "top": null,
            "visibility": null,
            "width": null
          }
        },
        "e5296e1354ac435faba6dc2a9ae99c60": {
          "model_module": "@jupyter-widgets/controls",
          "model_name": "VBoxModel",
          "model_module_version": "1.5.0",
          "state": {
            "_dom_classes": [
              "widget-interact"
            ],
            "_model_module": "@jupyter-widgets/controls",
            "_model_module_version": "1.5.0",
            "_model_name": "VBoxModel",
            "_view_count": null,
            "_view_module": "@jupyter-widgets/controls",
            "_view_module_version": "1.5.0",
            "_view_name": "VBoxView",
            "box_style": "",
            "children": [
              "IPY_MODEL_80db57bd8b884218b9f5a4425cc88515",
              "IPY_MODEL_9af24291f4384aceb81b5077e0ba10f1"
            ],
            "layout": "IPY_MODEL_e7d0cd2f8bb64bbf8ab78b77fab6a19f"
          }
        },
        "80db57bd8b884218b9f5a4425cc88515": {
          "model_module": "@jupyter-widgets/controls",
          "model_name": "DropdownModel",
          "model_module_version": "1.5.0",
          "state": {
            "_dom_classes": [],
            "_model_module": "@jupyter-widgets/controls",
            "_model_module_version": "1.5.0",
            "_model_name": "DropdownModel",
            "_options_labels": [
              "Afghanistan",
              "Albania",
              "Algeria",
              "Angola",
              "Argentina",
              "Armenia",
              "Azerbaijan",
              "Bahrain",
              "Bangladesh",
              "Barbados",
              "Belarus",
              "Belgium",
              "Belize",
              "Benin",
              "Bhutan",
              "Bosnia and Herzegovina",
              "Bulgaria",
              "Burkina Faso",
              "Burundi",
              "Cabo Verde",
              "Cambodia",
              "Chile",
              "China",
              "Colombia",
              "Comoros",
              "Costa Rica",
              "Croatia",
              "Cuba",
              "Cyprus",
              "Denmark",
              "Dominican Republic",
              "Ecuador",
              "El Salvador",
              "Eritrea",
              "Ethiopia",
              "Fiji",
              "Finland",
              "France",
              "Georgia",
              "Ghana",
              "Grenada",
              "Guatemala",
              "Guinea",
              "Guyana",
              "Haiti",
              "Honduras",
              "Hungary",
              "India",
              "Indonesia",
              "Iraq",
              "Israel",
              "Jamaica",
              "Japan",
              "Jordan",
              "Kazakhstan",
              "Kiribati",
              "Lebanon",
              "Liberia",
              "Libya",
              "Madagascar",
              "Malaysia",
              "Maldives",
              "Mali",
              "Malta",
              "Mauritania",
              "Mauritius",
              "Mexico",
              "Mongolia",
              "Montenegro",
              "Morocco",
              "Myanmar",
              "Nepal",
              "Netherlands",
              "Nicaragua",
              "Niger",
              "Oman",
              "Pakistan",
              "Panama",
              "Papua New Guinea",
              "Paraguay",
              "Peru",
              "Philippines",
              "Qatar",
              "Romania",
              "Russian Federation",
              "Rwanda",
              "Samoa",
              "Sao Tome and Principe",
              "Senegal",
              "Serbia",
              "Seychelles",
              "Sierra Leone",
              "Solomon Islands",
              "Spain",
              "Sri Lanka",
              "Sudan",
              "Suriname",
              "Sweden",
              "Tajikistan",
              "Thailand",
              "Timor-Leste",
              "Tonga",
              "Tunisia",
              "Turkey",
              "Turkmenistan",
              "Ukraine",
              "United Arab Emirates",
              "Uzbekistan",
              "Vanuatu"
            ],
            "_view_count": null,
            "_view_module": "@jupyter-widgets/controls",
            "_view_module_version": "1.5.0",
            "_view_name": "DropdownView",
            "description": "country",
            "description_tooltip": null,
            "disabled": false,
            "index": 0,
            "layout": "IPY_MODEL_39753a702f254a37b862cda611575e8f",
            "style": "IPY_MODEL_8de030a8c1854216a825fa5bc62a6530"
          }
        },
        "9af24291f4384aceb81b5077e0ba10f1": {
          "model_module": "@jupyter-widgets/output",
          "model_name": "OutputModel",
          "model_module_version": "1.0.0",
          "state": {
            "_dom_classes": [],
            "_model_module": "@jupyter-widgets/output",
            "_model_module_version": "1.0.0",
            "_model_name": "OutputModel",
            "_view_count": null,
            "_view_module": "@jupyter-widgets/output",
            "_view_module_version": "1.0.0",
            "_view_name": "OutputView",
            "layout": "IPY_MODEL_d0bcb268728848378fa6587dce1a2b6b",
            "msg_id": "",
            "outputs": [
              {
                "output_type": "display_data",
                "data": {
                  "text/html": "\n<div id=\"altair-viz-47288781a465406d96df5a056a2718a7\"></div>\n<script type=\"text/javascript\">\n  var VEGA_DEBUG = (typeof VEGA_DEBUG == \"undefined\") ? {} : VEGA_DEBUG;\n  (function(spec, embedOpt){\n    let outputDiv = document.currentScript.previousElementSibling;\n    if (outputDiv.id !== \"altair-viz-47288781a465406d96df5a056a2718a7\") {\n      outputDiv = document.getElementById(\"altair-viz-47288781a465406d96df5a056a2718a7\");\n    }\n    const paths = {\n      \"vega\": \"https://cdn.jsdelivr.net/npm//vega@5?noext\",\n      \"vega-lib\": \"https://cdn.jsdelivr.net/npm//vega-lib?noext\",\n      \"vega-lite\": \"https://cdn.jsdelivr.net/npm//vega-lite@4.17.0?noext\",\n      \"vega-embed\": \"https://cdn.jsdelivr.net/npm//vega-embed@6?noext\",\n    };\n\n    function maybeLoadScript(lib, version) {\n      var key = `${lib.replace(\"-\", \"\")}_version`;\n      return (VEGA_DEBUG[key] == version) ?\n        Promise.resolve(paths[lib]) :\n        new Promise(function(resolve, reject) {\n          var s = document.createElement('script');\n          document.getElementsByTagName(\"head\")[0].appendChild(s);\n          s.async = true;\n          s.onload = () => {\n            VEGA_DEBUG[key] = version;\n            return resolve(paths[lib]);\n          };\n          s.onerror = () => reject(`Error loading script: ${paths[lib]}`);\n          s.src = paths[lib];\n        });\n    }\n\n    function showError(err) {\n      outputDiv.innerHTML = `<div class=\"error\" style=\"color:red;\">${err}</div>`;\n      throw err;\n    }\n\n    function displayChart(vegaEmbed) {\n      vegaEmbed(outputDiv, spec, embedOpt)\n        .catch(err => showError(`Javascript Error: ${err.message}<br>This usually means there's a typo in your chart specification. See the javascript console for the full traceback.`));\n    }\n\n    if(typeof define === \"function\" && define.amd) {\n      requirejs.config({paths});\n      require([\"vega-embed\"], displayChart, err => showError(`Error loading script: ${err.message}`));\n    } else {\n      maybeLoadScript(\"vega\", \"5\")\n        .then(() => maybeLoadScript(\"vega-lite\", \"4.17.0\"))\n        .then(() => maybeLoadScript(\"vega-embed\", \"6\"))\n        .catch(showError)\n        .then(() => displayChart(vegaEmbed));\n    }\n  })({\"config\": {\"view\": {\"continuousWidth\": 400, \"continuousHeight\": 300}}, \"data\": {\"name\": \"data-42b803e59de95dc4c2596aed34f49446\"}, \"mark\": \"bar\", \"encoding\": {\"tooltip\": {\"field\": \"country\", \"type\": \"nominal\"}, \"x\": {\"field\": \"gdp\", \"type\": \"quantitative\"}, \"y\": {\"field\": \"hiv_aids\", \"type\": \"quantitative\"}}, \"$schema\": \"https://vega.github.io/schema/vega-lite/v4.17.0.json\", \"datasets\": {\"data-42b803e59de95dc4c2596aed34f49446\": [{\"country\": \"Afghanistan\", \"year\": 2010, \"gdp\": 553.32894, \"hiv_aids\": 0.1, \"status\": \"Developing\"}]}}, {\"mode\": \"vega-lite\"});\n</script>",
                  "text/plain": "alt.Chart(...)"
                },
                "metadata": {}
              }
            ]
          }
        },
        "e7d0cd2f8bb64bbf8ab78b77fab6a19f": {
          "model_module": "@jupyter-widgets/base",
          "model_name": "LayoutModel",
          "model_module_version": "1.2.0",
          "state": {
            "_model_module": "@jupyter-widgets/base",
            "_model_module_version": "1.2.0",
            "_model_name": "LayoutModel",
            "_view_count": null,
            "_view_module": "@jupyter-widgets/base",
            "_view_module_version": "1.2.0",
            "_view_name": "LayoutView",
            "align_content": null,
            "align_items": null,
            "align_self": null,
            "border": null,
            "bottom": null,
            "display": null,
            "flex": null,
            "flex_flow": null,
            "grid_area": null,
            "grid_auto_columns": null,
            "grid_auto_flow": null,
            "grid_auto_rows": null,
            "grid_column": null,
            "grid_gap": null,
            "grid_row": null,
            "grid_template_areas": null,
            "grid_template_columns": null,
            "grid_template_rows": null,
            "height": null,
            "justify_content": null,
            "justify_items": null,
            "left": null,
            "margin": null,
            "max_height": null,
            "max_width": null,
            "min_height": null,
            "min_width": null,
            "object_fit": null,
            "object_position": null,
            "order": null,
            "overflow": null,
            "overflow_x": null,
            "overflow_y": null,
            "padding": null,
            "right": null,
            "top": null,
            "visibility": null,
            "width": null
          }
        },
        "39753a702f254a37b862cda611575e8f": {
          "model_module": "@jupyter-widgets/base",
          "model_name": "LayoutModel",
          "model_module_version": "1.2.0",
          "state": {
            "_model_module": "@jupyter-widgets/base",
            "_model_module_version": "1.2.0",
            "_model_name": "LayoutModel",
            "_view_count": null,
            "_view_module": "@jupyter-widgets/base",
            "_view_module_version": "1.2.0",
            "_view_name": "LayoutView",
            "align_content": null,
            "align_items": null,
            "align_self": null,
            "border": null,
            "bottom": null,
            "display": null,
            "flex": null,
            "flex_flow": null,
            "grid_area": null,
            "grid_auto_columns": null,
            "grid_auto_flow": null,
            "grid_auto_rows": null,
            "grid_column": null,
            "grid_gap": null,
            "grid_row": null,
            "grid_template_areas": null,
            "grid_template_columns": null,
            "grid_template_rows": null,
            "height": null,
            "justify_content": null,
            "justify_items": null,
            "left": null,
            "margin": null,
            "max_height": null,
            "max_width": null,
            "min_height": null,
            "min_width": null,
            "object_fit": null,
            "object_position": null,
            "order": null,
            "overflow": null,
            "overflow_x": null,
            "overflow_y": null,
            "padding": null,
            "right": null,
            "top": null,
            "visibility": null,
            "width": null
          }
        },
        "8de030a8c1854216a825fa5bc62a6530": {
          "model_module": "@jupyter-widgets/controls",
          "model_name": "DescriptionStyleModel",
          "model_module_version": "1.5.0",
          "state": {
            "_model_module": "@jupyter-widgets/controls",
            "_model_module_version": "1.5.0",
            "_model_name": "DescriptionStyleModel",
            "_view_count": null,
            "_view_module": "@jupyter-widgets/base",
            "_view_module_version": "1.2.0",
            "_view_name": "StyleView",
            "description_width": ""
          }
        },
        "d0bcb268728848378fa6587dce1a2b6b": {
          "model_module": "@jupyter-widgets/base",
          "model_name": "LayoutModel",
          "model_module_version": "1.2.0",
          "state": {
            "_model_module": "@jupyter-widgets/base",
            "_model_module_version": "1.2.0",
            "_model_name": "LayoutModel",
            "_view_count": null,
            "_view_module": "@jupyter-widgets/base",
            "_view_module_version": "1.2.0",
            "_view_name": "LayoutView",
            "align_content": null,
            "align_items": null,
            "align_self": null,
            "border": null,
            "bottom": null,
            "display": null,
            "flex": null,
            "flex_flow": null,
            "grid_area": null,
            "grid_auto_columns": null,
            "grid_auto_flow": null,
            "grid_auto_rows": null,
            "grid_column": null,
            "grid_gap": null,
            "grid_row": null,
            "grid_template_areas": null,
            "grid_template_columns": null,
            "grid_template_rows": null,
            "height": null,
            "justify_content": null,
            "justify_items": null,
            "left": null,
            "margin": null,
            "max_height": null,
            "max_width": null,
            "min_height": null,
            "min_width": null,
            "object_fit": null,
            "object_position": null,
            "order": null,
            "overflow": null,
            "overflow_x": null,
            "overflow_y": null,
            "padding": null,
            "right": null,
            "top": null,
            "visibility": null,
            "width": null
          }
        }
      }
    }
  },
  "cells": [
    {
      "cell_type": "markdown",
      "source": [
        "## **The Influence of welfare on HIV/AIDS incidence and Vaccination Rate**"
      ],
      "metadata": {
        "id": "KqJr2zNyrPv7"
      }
    },
    {
      "cell_type": "markdown",
      "source": [
        "1. **Introduction**"
      ],
      "metadata": {
        "id": "eKSZVetSra2O"
      }
    },
    {
      "cell_type": "markdown",
      "source": [
        "Julian Zeegers, i6222866\n",
        "Angella Namuyomba, i6325452"
      ],
      "metadata": {
        "id": "rHu2glOHeIih"
      }
    },
    {
      "cell_type": "markdown",
      "source": [
        "Does a country's welfare have an influence on HIV/AIDS incidence and vaccination rate? \n",
        "\n",
        "Welfare in this aspect is a very broad term. We aim to look at two independent variables that involve welfare. First, we want to look at the GDP of countries and second, we want to investigate the total expenditure of countries. \n",
        "\n",
        "Sub research questions:\n",
        "\n",
        "- Was there an association between a country's GDP and incidences of HIV/AIDS  in 2010?\n",
        "(overall data versus 25 percentile (low gdp) and 75 percentile (high gdp))\n",
        " \n",
        "- Is there an association between a country's under five deaths and the vaccination rates (polio, measles, diphtheria) and is this vaccination rate due to differences in total expenditure?\n",
        "\n",
        "This Notebook will answer the first research question."
      ],
      "metadata": {
        "id": "zPeafXgzFvPz"
      }
    },
    {
      "cell_type": "markdown",
      "source": [
        "**2. Data Preparation**\n"
      ],
      "metadata": {
        "id": "SjDOKbKireGv"
      }
    },
    {
      "cell_type": "code",
      "execution_count": 1,
      "metadata": {
        "id": "1O6clxoZMhJh"
      },
      "outputs": [],
      "source": [
        "import pandas as pd\n",
        "Health_factors = pd.read_csv(\"https://raw.githubusercontent.com/NHameleers/dtz2025-datasets/master/CountryHealthFactors.csv\")"
      ]
    },
    {
      "cell_type": "code",
      "source": [
        "Health_factors"
      ],
      "metadata": {
        "colab": {
          "base_uri": "https://localhost:8080/",
          "height": 539
        },
        "id": "jYZlfrMTQCDo",
        "outputId": "f171d854-93b0-480c-86f3-a02a40efe168"
      },
      "execution_count": 2,
      "outputs": [
        {
          "output_type": "execute_result",
          "data": {
            "text/plain": [
              "          Country  Year      Status  Life expectancy   Adult Mortality  \\\n",
              "0     Afghanistan  2015  Developing              65.0            263.0   \n",
              "1     Afghanistan  2014  Developing              59.9            271.0   \n",
              "2     Afghanistan  2013  Developing              59.9            268.0   \n",
              "3     Afghanistan  2012  Developing              59.5            272.0   \n",
              "4     Afghanistan  2011  Developing              59.2            275.0   \n",
              "...           ...   ...         ...               ...              ...   \n",
              "2933     Zimbabwe  2004  Developing              44.3            723.0   \n",
              "2934     Zimbabwe  2003  Developing              44.5            715.0   \n",
              "2935     Zimbabwe  2002  Developing              44.8             73.0   \n",
              "2936     Zimbabwe  2001  Developing              45.3            686.0   \n",
              "2937     Zimbabwe  2000  Developing              46.0            665.0   \n",
              "\n",
              "      infant deaths  Alcohol  percentage expenditure  Hepatitis B  Measles   \\\n",
              "0                62     0.01               71.279624         65.0      1154   \n",
              "1                64     0.01               73.523582         62.0       492   \n",
              "2                66     0.01               73.219243         64.0       430   \n",
              "3                69     0.01               78.184215         67.0      2787   \n",
              "4                71     0.01                7.097109         68.0      3013   \n",
              "...             ...      ...                     ...          ...       ...   \n",
              "2933             27     4.36                0.000000         68.0        31   \n",
              "2934             26     4.06                0.000000          7.0       998   \n",
              "2935             25     4.43                0.000000         73.0       304   \n",
              "2936             25     1.72                0.000000         76.0       529   \n",
              "2937             24     1.68                0.000000         79.0      1483   \n",
              "\n",
              "      ...  Polio  Total expenditure  Diphtheria    HIV/AIDS         GDP  \\\n",
              "0     ...    6.0               8.16         65.0        0.1  584.259210   \n",
              "1     ...   58.0               8.18         62.0        0.1  612.696514   \n",
              "2     ...   62.0               8.13         64.0        0.1  631.744976   \n",
              "3     ...   67.0               8.52         67.0        0.1  669.959000   \n",
              "4     ...   68.0               7.87         68.0        0.1   63.537231   \n",
              "...   ...    ...                ...          ...        ...         ...   \n",
              "2933  ...   67.0               7.13         65.0       33.6  454.366654   \n",
              "2934  ...    7.0               6.52         68.0       36.7  453.351155   \n",
              "2935  ...   73.0               6.53         71.0       39.8   57.348340   \n",
              "2936  ...   76.0               6.16         75.0       42.1  548.587312   \n",
              "2937  ...   78.0               7.10         78.0       43.5  547.358878   \n",
              "\n",
              "      Population   thinness  1-19 years   thinness 5-9 years  \\\n",
              "0     33736494.0                   17.2                 17.3   \n",
              "1       327582.0                   17.5                 17.5   \n",
              "2     31731688.0                   17.7                 17.7   \n",
              "3      3696958.0                   17.9                 18.0   \n",
              "4      2978599.0                   18.2                 18.2   \n",
              "...          ...                    ...                  ...   \n",
              "2933  12777511.0                    9.4                  9.4   \n",
              "2934  12633897.0                    9.8                  9.9   \n",
              "2935    125525.0                    1.2                  1.3   \n",
              "2936  12366165.0                    1.6                  1.7   \n",
              "2937  12222251.0                   11.0                 11.2   \n",
              "\n",
              "      Income composition of resources  Schooling  \n",
              "0                               0.479       10.1  \n",
              "1                               0.476       10.0  \n",
              "2                               0.470        9.9  \n",
              "3                               0.463        9.8  \n",
              "4                               0.454        9.5  \n",
              "...                               ...        ...  \n",
              "2933                            0.407        9.2  \n",
              "2934                            0.418        9.5  \n",
              "2935                            0.427       10.0  \n",
              "2936                            0.427        9.8  \n",
              "2937                            0.434        9.8  \n",
              "\n",
              "[2938 rows x 22 columns]"
            ],
            "text/html": [
              "\n",
              "  <div id=\"df-df96e522-45c4-4c57-8127-e61058886772\">\n",
              "    <div class=\"colab-df-container\">\n",
              "      <div>\n",
              "<style scoped>\n",
              "    .dataframe tbody tr th:only-of-type {\n",
              "        vertical-align: middle;\n",
              "    }\n",
              "\n",
              "    .dataframe tbody tr th {\n",
              "        vertical-align: top;\n",
              "    }\n",
              "\n",
              "    .dataframe thead th {\n",
              "        text-align: right;\n",
              "    }\n",
              "</style>\n",
              "<table border=\"1\" class=\"dataframe\">\n",
              "  <thead>\n",
              "    <tr style=\"text-align: right;\">\n",
              "      <th></th>\n",
              "      <th>Country</th>\n",
              "      <th>Year</th>\n",
              "      <th>Status</th>\n",
              "      <th>Life expectancy</th>\n",
              "      <th>Adult Mortality</th>\n",
              "      <th>infant deaths</th>\n",
              "      <th>Alcohol</th>\n",
              "      <th>percentage expenditure</th>\n",
              "      <th>Hepatitis B</th>\n",
              "      <th>Measles</th>\n",
              "      <th>...</th>\n",
              "      <th>Polio</th>\n",
              "      <th>Total expenditure</th>\n",
              "      <th>Diphtheria</th>\n",
              "      <th>HIV/AIDS</th>\n",
              "      <th>GDP</th>\n",
              "      <th>Population</th>\n",
              "      <th>thinness  1-19 years</th>\n",
              "      <th>thinness 5-9 years</th>\n",
              "      <th>Income composition of resources</th>\n",
              "      <th>Schooling</th>\n",
              "    </tr>\n",
              "  </thead>\n",
              "  <tbody>\n",
              "    <tr>\n",
              "      <th>0</th>\n",
              "      <td>Afghanistan</td>\n",
              "      <td>2015</td>\n",
              "      <td>Developing</td>\n",
              "      <td>65.0</td>\n",
              "      <td>263.0</td>\n",
              "      <td>62</td>\n",
              "      <td>0.01</td>\n",
              "      <td>71.279624</td>\n",
              "      <td>65.0</td>\n",
              "      <td>1154</td>\n",
              "      <td>...</td>\n",
              "      <td>6.0</td>\n",
              "      <td>8.16</td>\n",
              "      <td>65.0</td>\n",
              "      <td>0.1</td>\n",
              "      <td>584.259210</td>\n",
              "      <td>33736494.0</td>\n",
              "      <td>17.2</td>\n",
              "      <td>17.3</td>\n",
              "      <td>0.479</td>\n",
              "      <td>10.1</td>\n",
              "    </tr>\n",
              "    <tr>\n",
              "      <th>1</th>\n",
              "      <td>Afghanistan</td>\n",
              "      <td>2014</td>\n",
              "      <td>Developing</td>\n",
              "      <td>59.9</td>\n",
              "      <td>271.0</td>\n",
              "      <td>64</td>\n",
              "      <td>0.01</td>\n",
              "      <td>73.523582</td>\n",
              "      <td>62.0</td>\n",
              "      <td>492</td>\n",
              "      <td>...</td>\n",
              "      <td>58.0</td>\n",
              "      <td>8.18</td>\n",
              "      <td>62.0</td>\n",
              "      <td>0.1</td>\n",
              "      <td>612.696514</td>\n",
              "      <td>327582.0</td>\n",
              "      <td>17.5</td>\n",
              "      <td>17.5</td>\n",
              "      <td>0.476</td>\n",
              "      <td>10.0</td>\n",
              "    </tr>\n",
              "    <tr>\n",
              "      <th>2</th>\n",
              "      <td>Afghanistan</td>\n",
              "      <td>2013</td>\n",
              "      <td>Developing</td>\n",
              "      <td>59.9</td>\n",
              "      <td>268.0</td>\n",
              "      <td>66</td>\n",
              "      <td>0.01</td>\n",
              "      <td>73.219243</td>\n",
              "      <td>64.0</td>\n",
              "      <td>430</td>\n",
              "      <td>...</td>\n",
              "      <td>62.0</td>\n",
              "      <td>8.13</td>\n",
              "      <td>64.0</td>\n",
              "      <td>0.1</td>\n",
              "      <td>631.744976</td>\n",
              "      <td>31731688.0</td>\n",
              "      <td>17.7</td>\n",
              "      <td>17.7</td>\n",
              "      <td>0.470</td>\n",
              "      <td>9.9</td>\n",
              "    </tr>\n",
              "    <tr>\n",
              "      <th>3</th>\n",
              "      <td>Afghanistan</td>\n",
              "      <td>2012</td>\n",
              "      <td>Developing</td>\n",
              "      <td>59.5</td>\n",
              "      <td>272.0</td>\n",
              "      <td>69</td>\n",
              "      <td>0.01</td>\n",
              "      <td>78.184215</td>\n",
              "      <td>67.0</td>\n",
              "      <td>2787</td>\n",
              "      <td>...</td>\n",
              "      <td>67.0</td>\n",
              "      <td>8.52</td>\n",
              "      <td>67.0</td>\n",
              "      <td>0.1</td>\n",
              "      <td>669.959000</td>\n",
              "      <td>3696958.0</td>\n",
              "      <td>17.9</td>\n",
              "      <td>18.0</td>\n",
              "      <td>0.463</td>\n",
              "      <td>9.8</td>\n",
              "    </tr>\n",
              "    <tr>\n",
              "      <th>4</th>\n",
              "      <td>Afghanistan</td>\n",
              "      <td>2011</td>\n",
              "      <td>Developing</td>\n",
              "      <td>59.2</td>\n",
              "      <td>275.0</td>\n",
              "      <td>71</td>\n",
              "      <td>0.01</td>\n",
              "      <td>7.097109</td>\n",
              "      <td>68.0</td>\n",
              "      <td>3013</td>\n",
              "      <td>...</td>\n",
              "      <td>68.0</td>\n",
              "      <td>7.87</td>\n",
              "      <td>68.0</td>\n",
              "      <td>0.1</td>\n",
              "      <td>63.537231</td>\n",
              "      <td>2978599.0</td>\n",
              "      <td>18.2</td>\n",
              "      <td>18.2</td>\n",
              "      <td>0.454</td>\n",
              "      <td>9.5</td>\n",
              "    </tr>\n",
              "    <tr>\n",
              "      <th>...</th>\n",
              "      <td>...</td>\n",
              "      <td>...</td>\n",
              "      <td>...</td>\n",
              "      <td>...</td>\n",
              "      <td>...</td>\n",
              "      <td>...</td>\n",
              "      <td>...</td>\n",
              "      <td>...</td>\n",
              "      <td>...</td>\n",
              "      <td>...</td>\n",
              "      <td>...</td>\n",
              "      <td>...</td>\n",
              "      <td>...</td>\n",
              "      <td>...</td>\n",
              "      <td>...</td>\n",
              "      <td>...</td>\n",
              "      <td>...</td>\n",
              "      <td>...</td>\n",
              "      <td>...</td>\n",
              "      <td>...</td>\n",
              "      <td>...</td>\n",
              "    </tr>\n",
              "    <tr>\n",
              "      <th>2933</th>\n",
              "      <td>Zimbabwe</td>\n",
              "      <td>2004</td>\n",
              "      <td>Developing</td>\n",
              "      <td>44.3</td>\n",
              "      <td>723.0</td>\n",
              "      <td>27</td>\n",
              "      <td>4.36</td>\n",
              "      <td>0.000000</td>\n",
              "      <td>68.0</td>\n",
              "      <td>31</td>\n",
              "      <td>...</td>\n",
              "      <td>67.0</td>\n",
              "      <td>7.13</td>\n",
              "      <td>65.0</td>\n",
              "      <td>33.6</td>\n",
              "      <td>454.366654</td>\n",
              "      <td>12777511.0</td>\n",
              "      <td>9.4</td>\n",
              "      <td>9.4</td>\n",
              "      <td>0.407</td>\n",
              "      <td>9.2</td>\n",
              "    </tr>\n",
              "    <tr>\n",
              "      <th>2934</th>\n",
              "      <td>Zimbabwe</td>\n",
              "      <td>2003</td>\n",
              "      <td>Developing</td>\n",
              "      <td>44.5</td>\n",
              "      <td>715.0</td>\n",
              "      <td>26</td>\n",
              "      <td>4.06</td>\n",
              "      <td>0.000000</td>\n",
              "      <td>7.0</td>\n",
              "      <td>998</td>\n",
              "      <td>...</td>\n",
              "      <td>7.0</td>\n",
              "      <td>6.52</td>\n",
              "      <td>68.0</td>\n",
              "      <td>36.7</td>\n",
              "      <td>453.351155</td>\n",
              "      <td>12633897.0</td>\n",
              "      <td>9.8</td>\n",
              "      <td>9.9</td>\n",
              "      <td>0.418</td>\n",
              "      <td>9.5</td>\n",
              "    </tr>\n",
              "    <tr>\n",
              "      <th>2935</th>\n",
              "      <td>Zimbabwe</td>\n",
              "      <td>2002</td>\n",
              "      <td>Developing</td>\n",
              "      <td>44.8</td>\n",
              "      <td>73.0</td>\n",
              "      <td>25</td>\n",
              "      <td>4.43</td>\n",
              "      <td>0.000000</td>\n",
              "      <td>73.0</td>\n",
              "      <td>304</td>\n",
              "      <td>...</td>\n",
              "      <td>73.0</td>\n",
              "      <td>6.53</td>\n",
              "      <td>71.0</td>\n",
              "      <td>39.8</td>\n",
              "      <td>57.348340</td>\n",
              "      <td>125525.0</td>\n",
              "      <td>1.2</td>\n",
              "      <td>1.3</td>\n",
              "      <td>0.427</td>\n",
              "      <td>10.0</td>\n",
              "    </tr>\n",
              "    <tr>\n",
              "      <th>2936</th>\n",
              "      <td>Zimbabwe</td>\n",
              "      <td>2001</td>\n",
              "      <td>Developing</td>\n",
              "      <td>45.3</td>\n",
              "      <td>686.0</td>\n",
              "      <td>25</td>\n",
              "      <td>1.72</td>\n",
              "      <td>0.000000</td>\n",
              "      <td>76.0</td>\n",
              "      <td>529</td>\n",
              "      <td>...</td>\n",
              "      <td>76.0</td>\n",
              "      <td>6.16</td>\n",
              "      <td>75.0</td>\n",
              "      <td>42.1</td>\n",
              "      <td>548.587312</td>\n",
              "      <td>12366165.0</td>\n",
              "      <td>1.6</td>\n",
              "      <td>1.7</td>\n",
              "      <td>0.427</td>\n",
              "      <td>9.8</td>\n",
              "    </tr>\n",
              "    <tr>\n",
              "      <th>2937</th>\n",
              "      <td>Zimbabwe</td>\n",
              "      <td>2000</td>\n",
              "      <td>Developing</td>\n",
              "      <td>46.0</td>\n",
              "      <td>665.0</td>\n",
              "      <td>24</td>\n",
              "      <td>1.68</td>\n",
              "      <td>0.000000</td>\n",
              "      <td>79.0</td>\n",
              "      <td>1483</td>\n",
              "      <td>...</td>\n",
              "      <td>78.0</td>\n",
              "      <td>7.10</td>\n",
              "      <td>78.0</td>\n",
              "      <td>43.5</td>\n",
              "      <td>547.358878</td>\n",
              "      <td>12222251.0</td>\n",
              "      <td>11.0</td>\n",
              "      <td>11.2</td>\n",
              "      <td>0.434</td>\n",
              "      <td>9.8</td>\n",
              "    </tr>\n",
              "  </tbody>\n",
              "</table>\n",
              "<p>2938 rows × 22 columns</p>\n",
              "</div>\n",
              "      <button class=\"colab-df-convert\" onclick=\"convertToInteractive('df-df96e522-45c4-4c57-8127-e61058886772')\"\n",
              "              title=\"Convert this dataframe to an interactive table.\"\n",
              "              style=\"display:none;\">\n",
              "        \n",
              "  <svg xmlns=\"http://www.w3.org/2000/svg\" height=\"24px\"viewBox=\"0 0 24 24\"\n",
              "       width=\"24px\">\n",
              "    <path d=\"M0 0h24v24H0V0z\" fill=\"none\"/>\n",
              "    <path d=\"M18.56 5.44l.94 2.06.94-2.06 2.06-.94-2.06-.94-.94-2.06-.94 2.06-2.06.94zm-11 1L8.5 8.5l.94-2.06 2.06-.94-2.06-.94L8.5 2.5l-.94 2.06-2.06.94zm10 10l.94 2.06.94-2.06 2.06-.94-2.06-.94-.94-2.06-.94 2.06-2.06.94z\"/><path d=\"M17.41 7.96l-1.37-1.37c-.4-.4-.92-.59-1.43-.59-.52 0-1.04.2-1.43.59L10.3 9.45l-7.72 7.72c-.78.78-.78 2.05 0 2.83L4 21.41c.39.39.9.59 1.41.59.51 0 1.02-.2 1.41-.59l7.78-7.78 2.81-2.81c.8-.78.8-2.07 0-2.86zM5.41 20L4 18.59l7.72-7.72 1.47 1.35L5.41 20z\"/>\n",
              "  </svg>\n",
              "      </button>\n",
              "      \n",
              "  <style>\n",
              "    .colab-df-container {\n",
              "      display:flex;\n",
              "      flex-wrap:wrap;\n",
              "      gap: 12px;\n",
              "    }\n",
              "\n",
              "    .colab-df-convert {\n",
              "      background-color: #E8F0FE;\n",
              "      border: none;\n",
              "      border-radius: 50%;\n",
              "      cursor: pointer;\n",
              "      display: none;\n",
              "      fill: #1967D2;\n",
              "      height: 32px;\n",
              "      padding: 0 0 0 0;\n",
              "      width: 32px;\n",
              "    }\n",
              "\n",
              "    .colab-df-convert:hover {\n",
              "      background-color: #E2EBFA;\n",
              "      box-shadow: 0px 1px 2px rgba(60, 64, 67, 0.3), 0px 1px 3px 1px rgba(60, 64, 67, 0.15);\n",
              "      fill: #174EA6;\n",
              "    }\n",
              "\n",
              "    [theme=dark] .colab-df-convert {\n",
              "      background-color: #3B4455;\n",
              "      fill: #D2E3FC;\n",
              "    }\n",
              "\n",
              "    [theme=dark] .colab-df-convert:hover {\n",
              "      background-color: #434B5C;\n",
              "      box-shadow: 0px 1px 3px 1px rgba(0, 0, 0, 0.15);\n",
              "      filter: drop-shadow(0px 1px 2px rgba(0, 0, 0, 0.3));\n",
              "      fill: #FFFFFF;\n",
              "    }\n",
              "  </style>\n",
              "\n",
              "      <script>\n",
              "        const buttonEl =\n",
              "          document.querySelector('#df-df96e522-45c4-4c57-8127-e61058886772 button.colab-df-convert');\n",
              "        buttonEl.style.display =\n",
              "          google.colab.kernel.accessAllowed ? 'block' : 'none';\n",
              "\n",
              "        async function convertToInteractive(key) {\n",
              "          const element = document.querySelector('#df-df96e522-45c4-4c57-8127-e61058886772');\n",
              "          const dataTable =\n",
              "            await google.colab.kernel.invokeFunction('convertToInteractive',\n",
              "                                                     [key], {});\n",
              "          if (!dataTable) return;\n",
              "\n",
              "          const docLinkHtml = 'Like what you see? Visit the ' +\n",
              "            '<a target=\"_blank\" href=https://colab.research.google.com/notebooks/data_table.ipynb>data table notebook</a>'\n",
              "            + ' to learn more about interactive tables.';\n",
              "          element.innerHTML = '';\n",
              "          dataTable['output_type'] = 'display_data';\n",
              "          await google.colab.output.renderOutput(dataTable, element);\n",
              "          const docLink = document.createElement('div');\n",
              "          docLink.innerHTML = docLinkHtml;\n",
              "          element.appendChild(docLink);\n",
              "        }\n",
              "      </script>\n",
              "    </div>\n",
              "  </div>\n",
              "  "
            ]
          },
          "metadata": {},
          "execution_count": 2
        }
      ]
    },
    {
      "cell_type": "code",
      "source": [
        "Health_factors.columns"
      ],
      "metadata": {
        "colab": {
          "base_uri": "https://localhost:8080/"
        },
        "id": "pDHhFy0LDkoy",
        "outputId": "bbe86cc7-6542-4fd1-d47f-e728affd945f"
      },
      "execution_count": 3,
      "outputs": [
        {
          "output_type": "execute_result",
          "data": {
            "text/plain": [
              "Index(['Country', 'Year', 'Status', 'Life expectancy ', 'Adult Mortality',\n",
              "       'infant deaths', 'Alcohol', 'percentage expenditure', 'Hepatitis B',\n",
              "       'Measles ', ' BMI ', 'under-five deaths ', 'Polio', 'Total expenditure',\n",
              "       'Diphtheria ', ' HIV/AIDS', 'GDP', 'Population',\n",
              "       ' thinness  1-19 years', ' thinness 5-9 years',\n",
              "       'Income composition of resources', 'Schooling'],\n",
              "      dtype='object')"
            ]
          },
          "metadata": {},
          "execution_count": 3
        }
      ]
    },
    {
      "cell_type": "markdown",
      "source": [
        "Here, it is visible that the column names of the dataset have some trailing spaces. Therefore, we use the strip() method to remove those spaces according to the code below: "
      ],
      "metadata": {
        "id": "iZ39N0PBUS4A"
      }
    },
    {
      "cell_type": "code",
      "source": [
        "Health_factors = Health_factors.rename(columns = str.strip)\n",
        "Health_factors.columns"
      ],
      "metadata": {
        "colab": {
          "base_uri": "https://localhost:8080/"
        },
        "id": "iCeFQ0ExUFeM",
        "outputId": "f1e79e8b-369a-417c-93e4-65db86cd1425"
      },
      "execution_count": 4,
      "outputs": [
        {
          "output_type": "execute_result",
          "data": {
            "text/plain": [
              "Index(['Country', 'Year', 'Status', 'Life expectancy', 'Adult Mortality',\n",
              "       'infant deaths', 'Alcohol', 'percentage expenditure', 'Hepatitis B',\n",
              "       'Measles', 'BMI', 'under-five deaths', 'Polio', 'Total expenditure',\n",
              "       'Diphtheria', 'HIV/AIDS', 'GDP', 'Population', 'thinness  1-19 years',\n",
              "       'thinness 5-9 years', 'Income composition of resources', 'Schooling'],\n",
              "      dtype='object')"
            ]
          },
          "metadata": {},
          "execution_count": 4
        }
      ]
    },
    {
      "cell_type": "markdown",
      "source": [
        "There is still a lot of variability in case, e.g. some variables start with an upper case whereas others start with a lower case. We will homogenize it to lower case according to the code below. This to prevent potential Syntax errors in our analysis."
      ],
      "metadata": {
        "id": "h6qLuf98VFoV"
      }
    },
    {
      "cell_type": "code",
      "source": [
        "Health_factors = Health_factors.rename(columns = str.lower)\n",
        "Health_factors.columns"
      ],
      "metadata": {
        "colab": {
          "base_uri": "https://localhost:8080/"
        },
        "id": "SSQ0i3rdVRox",
        "outputId": "52a15b14-51c9-450e-ef2d-fa8b181ad071"
      },
      "execution_count": 5,
      "outputs": [
        {
          "output_type": "execute_result",
          "data": {
            "text/plain": [
              "Index(['country', 'year', 'status', 'life expectancy', 'adult mortality',\n",
              "       'infant deaths', 'alcohol', 'percentage expenditure', 'hepatitis b',\n",
              "       'measles', 'bmi', 'under-five deaths', 'polio', 'total expenditure',\n",
              "       'diphtheria', 'hiv/aids', 'gdp', 'population', 'thinness  1-19 years',\n",
              "       'thinness 5-9 years', 'income composition of resources', 'schooling'],\n",
              "      dtype='object')"
            ]
          },
          "metadata": {},
          "execution_count": 5
        }
      ]
    },
    {
      "cell_type": "markdown",
      "source": [
        "Let's see how many rows and columns the data have"
      ],
      "metadata": {
        "id": "OCYVYoBSumij"
      }
    },
    {
      "cell_type": "code",
      "source": [
        "\n",
        "Health_factors.shape"
      ],
      "metadata": {
        "colab": {
          "base_uri": "https://localhost:8080/"
        },
        "id": "f06sixrjfaIZ",
        "outputId": "23e17430-b922-4cc5-e076-bcad06c67a32"
      },
      "execution_count": 6,
      "outputs": [
        {
          "output_type": "execute_result",
          "data": {
            "text/plain": [
              "(2938, 22)"
            ]
          },
          "metadata": {},
          "execution_count": 6
        }
      ]
    },
    {
      "cell_type": "markdown",
      "source": [
        "We only want to select the country rows belonging to year 2010 and the columns of values of gdp, incidences of hiv/aids, and status."
      ],
      "metadata": {
        "id": "6n3b24T8uo99"
      }
    },
    {
      "cell_type": "code",
      "source": [
        "\n",
        "new_dataframe = Health_factors.loc[Health_factors.year == 2010, ['country', 'year', 'gdp', 'hiv/aids', 'status']]\n",
        "print(new_dataframe)\n",
        "\n",
        "\n",
        "\n"
      ],
      "metadata": {
        "colab": {
          "base_uri": "https://localhost:8080/"
        },
        "id": "eaAtyDAehAfh",
        "outputId": "9d7948ed-d671-45a0-974c-183731fb24ec"
      },
      "execution_count": 7,
      "outputs": [
        {
          "output_type": "stream",
          "name": "stdout",
          "text": [
            "                                 country  year           gdp  hiv/aids  \\\n",
            "5                            Afghanistan  2010    553.328940       0.1   \n",
            "21                               Albania  2010    494.358832       0.1   \n",
            "37                               Algeria  2010   4463.394675       0.1   \n",
            "53                                Angola  2010   3529.534820       2.5   \n",
            "69                   Antigua and Barbuda  2010  12126.876140       0.1   \n",
            "...                                  ...   ...           ...       ...   \n",
            "2863  Venezuela (Bolivarian Republic of)  2010           NaN       0.1   \n",
            "2879                            Viet Nam  2010           NaN       0.1   \n",
            "2895                               Yemen  2010           NaN       0.1   \n",
            "2911                              Zambia  2010   1463.213573       6.8   \n",
            "2927                            Zimbabwe  2010    713.635620      15.7   \n",
            "\n",
            "          status  \n",
            "5     Developing  \n",
            "21    Developing  \n",
            "37    Developing  \n",
            "53    Developing  \n",
            "69    Developing  \n",
            "...          ...  \n",
            "2863  Developing  \n",
            "2879  Developing  \n",
            "2895  Developing  \n",
            "2911  Developing  \n",
            "2927  Developing  \n",
            "\n",
            "[183 rows x 5 columns]\n"
          ]
        }
      ]
    },
    {
      "cell_type": "markdown",
      "source": [],
      "metadata": {
        "id": "FgGh-fKCe5YS"
      }
    },
    {
      "cell_type": "markdown",
      "source": [
        "**3. Explore and Clean the Data by**"
      ],
      "metadata": {
        "id": "-uugpiLlr-zT"
      }
    },
    {
      "cell_type": "markdown",
      "source": [
        "We want to investigate how many NaN values exist in the dataframe.\n"
      ],
      "metadata": {
        "id": "a4AolNAHut4S"
      }
    },
    {
      "cell_type": "code",
      "source": [
        "new_dataframe.isnull().sum()"
      ],
      "metadata": {
        "colab": {
          "base_uri": "https://localhost:8080/"
        },
        "id": "1-BzzrHlsIES",
        "outputId": "e8d70ca2-391a-4797-829d-2502490aaa44"
      },
      "execution_count": 8,
      "outputs": [
        {
          "output_type": "execute_result",
          "data": {
            "text/plain": [
              "country      0\n",
              "year         0\n",
              "gdp         27\n",
              "hiv/aids     0\n",
              "status       0\n",
              "dtype: int64"
            ]
          },
          "metadata": {},
          "execution_count": 8
        }
      ]
    },
    {
      "cell_type": "markdown",
      "source": [
        "We observe 27 null values for the 'gdp' column. We want to remove these NaN values from the dataframe."
      ],
      "metadata": {
        "id": "ragmg_tksVHV"
      }
    },
    {
      "cell_type": "code",
      "source": [
        "NaN_removed = new_dataframe.dropna()\n",
        "print(NaN_removed)"
      ],
      "metadata": {
        "colab": {
          "base_uri": "https://localhost:8080/"
        },
        "id": "7Dh77U8fpbJS",
        "outputId": "1cc89477-1527-4b13-81a8-7c95a4fee1e5"
      },
      "execution_count": 9,
      "outputs": [
        {
          "output_type": "stream",
          "name": "stdout",
          "text": [
            "                  country  year           gdp  hiv/aids      status\n",
            "5             Afghanistan  2010    553.328940       0.1  Developing\n",
            "21                Albania  2010    494.358832       0.1  Developing\n",
            "37                Algeria  2010   4463.394675       0.1  Developing\n",
            "53                 Angola  2010   3529.534820       2.5  Developing\n",
            "69    Antigua and Barbuda  2010  12126.876140       0.1  Developing\n",
            "...                   ...   ...           ...       ...         ...\n",
            "2815              Uruguay  2010  11938.212000       0.1  Developing\n",
            "2831           Uzbekistan  2010   1377.821400       0.2  Developing\n",
            "2847              Vanuatu  2010   2965.824340       0.1  Developing\n",
            "2911               Zambia  2010   1463.213573       6.8  Developing\n",
            "2927             Zimbabwe  2010    713.635620      15.7  Developing\n",
            "\n",
            "[156 rows x 5 columns]\n"
          ]
        }
      ]
    },
    {
      "cell_type": "markdown",
      "source": [
        "Let's see if the method worked."
      ],
      "metadata": {
        "id": "ogs4tJX9z0Tt"
      }
    },
    {
      "cell_type": "code",
      "source": [
        "NaN_removed.isnull().sum()"
      ],
      "metadata": {
        "colab": {
          "base_uri": "https://localhost:8080/"
        },
        "id": "amr7_MCfzuON",
        "outputId": "df38d097-08e0-49d0-93f6-3db48e6d5366"
      },
      "execution_count": 10,
      "outputs": [
        {
          "output_type": "execute_result",
          "data": {
            "text/plain": [
              "country     0\n",
              "year        0\n",
              "gdp         0\n",
              "hiv/aids    0\n",
              "status      0\n",
              "dtype: int64"
            ]
          },
          "metadata": {},
          "execution_count": 10
        }
      ]
    },
    {
      "cell_type": "markdown",
      "source": [
        "We now want to see descriptive statistics of the NaN_removed dataframe"
      ],
      "metadata": {
        "id": "jX9eKXwjvIsj"
      }
    },
    {
      "cell_type": "code",
      "source": [
        "NaN_removed.describe()"
      ],
      "metadata": {
        "colab": {
          "base_uri": "https://localhost:8080/",
          "height": 300
        },
        "id": "YFaZdMB4pcyK",
        "outputId": "e84bec14-e451-4eec-abc5-17c09f94de45"
      },
      "execution_count": 11,
      "outputs": [
        {
          "output_type": "execute_result",
          "data": {
            "text/plain": [
              "         year           gdp    hiv/aids\n",
              "count   156.0    156.000000  156.000000\n",
              "mean   2010.0   7464.487887    1.374359\n",
              "std       0.0  13959.522835    3.181334\n",
              "min    2010.0      8.376432    0.100000\n",
              "25%    2010.0    700.796595    0.100000\n",
              "50%    2010.0   2183.358036    0.100000\n",
              "75%    2010.0   5841.772875    0.500000\n",
              "max    2010.0  87646.753460   21.600000"
            ],
            "text/html": [
              "\n",
              "  <div id=\"df-a29f729f-4327-4456-9e22-73d2e061eeab\">\n",
              "    <div class=\"colab-df-container\">\n",
              "      <div>\n",
              "<style scoped>\n",
              "    .dataframe tbody tr th:only-of-type {\n",
              "        vertical-align: middle;\n",
              "    }\n",
              "\n",
              "    .dataframe tbody tr th {\n",
              "        vertical-align: top;\n",
              "    }\n",
              "\n",
              "    .dataframe thead th {\n",
              "        text-align: right;\n",
              "    }\n",
              "</style>\n",
              "<table border=\"1\" class=\"dataframe\">\n",
              "  <thead>\n",
              "    <tr style=\"text-align: right;\">\n",
              "      <th></th>\n",
              "      <th>year</th>\n",
              "      <th>gdp</th>\n",
              "      <th>hiv/aids</th>\n",
              "    </tr>\n",
              "  </thead>\n",
              "  <tbody>\n",
              "    <tr>\n",
              "      <th>count</th>\n",
              "      <td>156.0</td>\n",
              "      <td>156.000000</td>\n",
              "      <td>156.000000</td>\n",
              "    </tr>\n",
              "    <tr>\n",
              "      <th>mean</th>\n",
              "      <td>2010.0</td>\n",
              "      <td>7464.487887</td>\n",
              "      <td>1.374359</td>\n",
              "    </tr>\n",
              "    <tr>\n",
              "      <th>std</th>\n",
              "      <td>0.0</td>\n",
              "      <td>13959.522835</td>\n",
              "      <td>3.181334</td>\n",
              "    </tr>\n",
              "    <tr>\n",
              "      <th>min</th>\n",
              "      <td>2010.0</td>\n",
              "      <td>8.376432</td>\n",
              "      <td>0.100000</td>\n",
              "    </tr>\n",
              "    <tr>\n",
              "      <th>25%</th>\n",
              "      <td>2010.0</td>\n",
              "      <td>700.796595</td>\n",
              "      <td>0.100000</td>\n",
              "    </tr>\n",
              "    <tr>\n",
              "      <th>50%</th>\n",
              "      <td>2010.0</td>\n",
              "      <td>2183.358036</td>\n",
              "      <td>0.100000</td>\n",
              "    </tr>\n",
              "    <tr>\n",
              "      <th>75%</th>\n",
              "      <td>2010.0</td>\n",
              "      <td>5841.772875</td>\n",
              "      <td>0.500000</td>\n",
              "    </tr>\n",
              "    <tr>\n",
              "      <th>max</th>\n",
              "      <td>2010.0</td>\n",
              "      <td>87646.753460</td>\n",
              "      <td>21.600000</td>\n",
              "    </tr>\n",
              "  </tbody>\n",
              "</table>\n",
              "</div>\n",
              "      <button class=\"colab-df-convert\" onclick=\"convertToInteractive('df-a29f729f-4327-4456-9e22-73d2e061eeab')\"\n",
              "              title=\"Convert this dataframe to an interactive table.\"\n",
              "              style=\"display:none;\">\n",
              "        \n",
              "  <svg xmlns=\"http://www.w3.org/2000/svg\" height=\"24px\"viewBox=\"0 0 24 24\"\n",
              "       width=\"24px\">\n",
              "    <path d=\"M0 0h24v24H0V0z\" fill=\"none\"/>\n",
              "    <path d=\"M18.56 5.44l.94 2.06.94-2.06 2.06-.94-2.06-.94-.94-2.06-.94 2.06-2.06.94zm-11 1L8.5 8.5l.94-2.06 2.06-.94-2.06-.94L8.5 2.5l-.94 2.06-2.06.94zm10 10l.94 2.06.94-2.06 2.06-.94-2.06-.94-.94-2.06-.94 2.06-2.06.94z\"/><path d=\"M17.41 7.96l-1.37-1.37c-.4-.4-.92-.59-1.43-.59-.52 0-1.04.2-1.43.59L10.3 9.45l-7.72 7.72c-.78.78-.78 2.05 0 2.83L4 21.41c.39.39.9.59 1.41.59.51 0 1.02-.2 1.41-.59l7.78-7.78 2.81-2.81c.8-.78.8-2.07 0-2.86zM5.41 20L4 18.59l7.72-7.72 1.47 1.35L5.41 20z\"/>\n",
              "  </svg>\n",
              "      </button>\n",
              "      \n",
              "  <style>\n",
              "    .colab-df-container {\n",
              "      display:flex;\n",
              "      flex-wrap:wrap;\n",
              "      gap: 12px;\n",
              "    }\n",
              "\n",
              "    .colab-df-convert {\n",
              "      background-color: #E8F0FE;\n",
              "      border: none;\n",
              "      border-radius: 50%;\n",
              "      cursor: pointer;\n",
              "      display: none;\n",
              "      fill: #1967D2;\n",
              "      height: 32px;\n",
              "      padding: 0 0 0 0;\n",
              "      width: 32px;\n",
              "    }\n",
              "\n",
              "    .colab-df-convert:hover {\n",
              "      background-color: #E2EBFA;\n",
              "      box-shadow: 0px 1px 2px rgba(60, 64, 67, 0.3), 0px 1px 3px 1px rgba(60, 64, 67, 0.15);\n",
              "      fill: #174EA6;\n",
              "    }\n",
              "\n",
              "    [theme=dark] .colab-df-convert {\n",
              "      background-color: #3B4455;\n",
              "      fill: #D2E3FC;\n",
              "    }\n",
              "\n",
              "    [theme=dark] .colab-df-convert:hover {\n",
              "      background-color: #434B5C;\n",
              "      box-shadow: 0px 1px 3px 1px rgba(0, 0, 0, 0.15);\n",
              "      filter: drop-shadow(0px 1px 2px rgba(0, 0, 0, 0.3));\n",
              "      fill: #FFFFFF;\n",
              "    }\n",
              "  </style>\n",
              "\n",
              "      <script>\n",
              "        const buttonEl =\n",
              "          document.querySelector('#df-a29f729f-4327-4456-9e22-73d2e061eeab button.colab-df-convert');\n",
              "        buttonEl.style.display =\n",
              "          google.colab.kernel.accessAllowed ? 'block' : 'none';\n",
              "\n",
              "        async function convertToInteractive(key) {\n",
              "          const element = document.querySelector('#df-a29f729f-4327-4456-9e22-73d2e061eeab');\n",
              "          const dataTable =\n",
              "            await google.colab.kernel.invokeFunction('convertToInteractive',\n",
              "                                                     [key], {});\n",
              "          if (!dataTable) return;\n",
              "\n",
              "          const docLinkHtml = 'Like what you see? Visit the ' +\n",
              "            '<a target=\"_blank\" href=https://colab.research.google.com/notebooks/data_table.ipynb>data table notebook</a>'\n",
              "            + ' to learn more about interactive tables.';\n",
              "          element.innerHTML = '';\n",
              "          dataTable['output_type'] = 'display_data';\n",
              "          await google.colab.output.renderOutput(dataTable, element);\n",
              "          const docLink = document.createElement('div');\n",
              "          docLink.innerHTML = docLinkHtml;\n",
              "          element.appendChild(docLink);\n",
              "        }\n",
              "      </script>\n",
              "    </div>\n",
              "  </div>\n",
              "  "
            ]
          },
          "metadata": {},
          "execution_count": 11
        }
      ]
    },
    {
      "cell_type": "markdown",
      "source": [
        "The max gdp and hiv/aids values differ quite a lot from the mean, median, and 75% quartile. Let's check for potential outliers."
      ],
      "metadata": {
        "id": "QPNKI7Otw1-7"
      }
    },
    {
      "cell_type": "code",
      "source": [
        "import altair as alt\n",
        "alt.Chart(NaN_removed).mark_point().encode(\n",
        "    x = 'gdp',\n",
        ")"
      ],
      "metadata": {
        "colab": {
          "base_uri": "https://localhost:8080/",
          "height": 84
        },
        "id": "tZ0Rpruzxnmr",
        "outputId": "e1a05397-e410-49da-ad8a-19fb67618d6f"
      },
      "execution_count": 12,
      "outputs": [
        {
          "output_type": "execute_result",
          "data": {
            "text/html": [
              "\n",
              "<div id=\"altair-viz-9fe2f514d6de4dbeb7d1ac298b031ee4\"></div>\n",
              "<script type=\"text/javascript\">\n",
              "  var VEGA_DEBUG = (typeof VEGA_DEBUG == \"undefined\") ? {} : VEGA_DEBUG;\n",
              "  (function(spec, embedOpt){\n",
              "    let outputDiv = document.currentScript.previousElementSibling;\n",
              "    if (outputDiv.id !== \"altair-viz-9fe2f514d6de4dbeb7d1ac298b031ee4\") {\n",
              "      outputDiv = document.getElementById(\"altair-viz-9fe2f514d6de4dbeb7d1ac298b031ee4\");\n",
              "    }\n",
              "    const paths = {\n",
              "      \"vega\": \"https://cdn.jsdelivr.net/npm//vega@5?noext\",\n",
              "      \"vega-lib\": \"https://cdn.jsdelivr.net/npm//vega-lib?noext\",\n",
              "      \"vega-lite\": \"https://cdn.jsdelivr.net/npm//vega-lite@4.17.0?noext\",\n",
              "      \"vega-embed\": \"https://cdn.jsdelivr.net/npm//vega-embed@6?noext\",\n",
              "    };\n",
              "\n",
              "    function maybeLoadScript(lib, version) {\n",
              "      var key = `${lib.replace(\"-\", \"\")}_version`;\n",
              "      return (VEGA_DEBUG[key] == version) ?\n",
              "        Promise.resolve(paths[lib]) :\n",
              "        new Promise(function(resolve, reject) {\n",
              "          var s = document.createElement('script');\n",
              "          document.getElementsByTagName(\"head\")[0].appendChild(s);\n",
              "          s.async = true;\n",
              "          s.onload = () => {\n",
              "            VEGA_DEBUG[key] = version;\n",
              "            return resolve(paths[lib]);\n",
              "          };\n",
              "          s.onerror = () => reject(`Error loading script: ${paths[lib]}`);\n",
              "          s.src = paths[lib];\n",
              "        });\n",
              "    }\n",
              "\n",
              "    function showError(err) {\n",
              "      outputDiv.innerHTML = `<div class=\"error\" style=\"color:red;\">${err}</div>`;\n",
              "      throw err;\n",
              "    }\n",
              "\n",
              "    function displayChart(vegaEmbed) {\n",
              "      vegaEmbed(outputDiv, spec, embedOpt)\n",
              "        .catch(err => showError(`Javascript Error: ${err.message}<br>This usually means there's a typo in your chart specification. See the javascript console for the full traceback.`));\n",
              "    }\n",
              "\n",
              "    if(typeof define === \"function\" && define.amd) {\n",
              "      requirejs.config({paths});\n",
              "      require([\"vega-embed\"], displayChart, err => showError(`Error loading script: ${err.message}`));\n",
              "    } else {\n",
              "      maybeLoadScript(\"vega\", \"5\")\n",
              "        .then(() => maybeLoadScript(\"vega-lite\", \"4.17.0\"))\n",
              "        .then(() => maybeLoadScript(\"vega-embed\", \"6\"))\n",
              "        .catch(showError)\n",
              "        .then(() => displayChart(vegaEmbed));\n",
              "    }\n",
              "  })({\"config\": {\"view\": {\"continuousWidth\": 400, \"continuousHeight\": 300}}, \"data\": {\"name\": \"data-70b278ac6f95aab0387ee313eb1756d5\"}, \"mark\": \"point\", \"encoding\": {\"x\": {\"field\": \"gdp\", \"type\": \"quantitative\"}}, \"$schema\": \"https://vega.github.io/schema/vega-lite/v4.17.0.json\", \"datasets\": {\"data-70b278ac6f95aab0387ee313eb1756d5\": [{\"country\": \"Afghanistan\", \"year\": 2010, \"gdp\": 553.32894, \"hiv/aids\": 0.1, \"status\": \"Developing\"}, {\"country\": \"Albania\", \"year\": 2010, \"gdp\": 494.358832, \"hiv/aids\": 0.1, \"status\": \"Developing\"}, {\"country\": \"Algeria\", \"year\": 2010, \"gdp\": 4463.394675, \"hiv/aids\": 0.1, \"status\": \"Developing\"}, {\"country\": \"Angola\", \"year\": 2010, \"gdp\": 3529.53482, \"hiv/aids\": 2.5, \"status\": \"Developing\"}, {\"country\": \"Antigua and Barbuda\", \"year\": 2010, \"gdp\": 12126.87614, \"hiv/aids\": 0.1, \"status\": \"Developing\"}, {\"country\": \"Argentina\", \"year\": 2010, \"gdp\": 1276.265, \"hiv/aids\": 0.1, \"status\": \"Developing\"}, {\"country\": \"Armenia\", \"year\": 2010, \"gdp\": 3218.381655, \"hiv/aids\": 0.1, \"status\": \"Developing\"}, {\"country\": \"Australia\", \"year\": 2010, \"gdp\": 51874.848, \"hiv/aids\": 0.1, \"status\": \"Developed\"}, {\"country\": \"Austria\", \"year\": 2010, \"gdp\": 46657.629, \"hiv/aids\": 0.1, \"status\": \"Developed\"}, {\"country\": \"Azerbaijan\", \"year\": 2010, \"gdp\": 5842.85784, \"hiv/aids\": 0.1, \"status\": \"Developing\"}, {\"country\": \"Bahrain\", \"year\": 2010, \"gdp\": 2722.1389, \"hiv/aids\": 0.1, \"status\": \"Developing\"}, {\"country\": \"Bangladesh\", \"year\": 2010, \"gdp\": 757.6717572, \"hiv/aids\": 0.1, \"status\": \"Developing\"}, {\"country\": \"Barbados\", \"year\": 2010, \"gdp\": 1595.91232, \"hiv/aids\": 0.1, \"status\": \"Developing\"}, {\"country\": \"Belarus\", \"year\": 2010, \"gdp\": 63.38877, \"hiv/aids\": 0.1, \"status\": \"Developing\"}, {\"country\": \"Belgium\", \"year\": 2010, \"gdp\": 4438.23741, \"hiv/aids\": 0.1, \"status\": \"Developed\"}, {\"country\": \"Belize\", \"year\": 2010, \"gdp\": 4344.15177, \"hiv/aids\": 0.2, \"status\": \"Developing\"}, {\"country\": \"Benin\", \"year\": 2010, \"gdp\": 757.695974, \"hiv/aids\": 1.4, \"status\": \"Developing\"}, {\"country\": \"Bhutan\", \"year\": 2010, \"gdp\": 2178.921383, \"hiv/aids\": 0.5, \"status\": \"Developing\"}, {\"country\": \"Bosnia and Herzegovina\", \"year\": 2010, \"gdp\": 4611.47298, \"hiv/aids\": 0.1, \"status\": \"Developing\"}, {\"country\": \"Botswana\", \"year\": 2010, \"gdp\": 6346.15624, \"hiv/aids\": 6.2, \"status\": \"Developing\"}, {\"country\": \"Brazil\", \"year\": 2010, \"gdp\": 11224.1548, \"hiv/aids\": 0.1, \"status\": \"Developing\"}, {\"country\": \"Brunei Darussalam\", \"year\": 2010, \"gdp\": 35268.1117, \"hiv/aids\": 0.1, \"status\": \"Developing\"}, {\"country\": \"Bulgaria\", \"year\": 2010, \"gdp\": 6843.263289, \"hiv/aids\": 0.1, \"status\": \"Developed\"}, {\"country\": \"Burkina Faso\", \"year\": 2010, \"gdp\": 575.4464527, \"hiv/aids\": 1.0, \"status\": \"Developing\"}, {\"country\": \"Burundi\", \"year\": 2010, \"gdp\": 231.1943256, \"hiv/aids\": 1.9, \"status\": \"Developing\"}, {\"country\": \"Cabo Verde\", \"year\": 2010, \"gdp\": 3312.825985, \"hiv/aids\": 0.4, \"status\": \"Developing\"}, {\"country\": \"Cambodia\", \"year\": 2010, \"gdp\": 785.6928841, \"hiv/aids\": 0.5, \"status\": \"Developing\"}, {\"country\": \"Cameroon\", \"year\": 2010, \"gdp\": 1182.869227, \"hiv/aids\": 5.5, \"status\": \"Developing\"}, {\"country\": \"Canada\", \"year\": 2010, \"gdp\": 47447.4762, \"hiv/aids\": 0.1, \"status\": \"Developing\"}, {\"country\": \"Central African Republic\", \"year\": 2010, \"gdp\": 446.4434494, \"hiv/aids\": 6.6, \"status\": \"Developing\"}, {\"country\": \"Chad\", \"year\": 2010, \"gdp\": 896.5697341, \"hiv/aids\": 4.1, \"status\": \"Developing\"}, {\"country\": \"Chile\", \"year\": 2010, \"gdp\": 1286.17764, \"hiv/aids\": 0.1, \"status\": \"Developing\"}, {\"country\": \"China\", \"year\": 2010, \"gdp\": 456.512487, \"hiv/aids\": 0.1, \"status\": \"Developing\"}, {\"country\": \"Colombia\", \"year\": 2010, \"gdp\": 625.65544, \"hiv/aids\": 0.1, \"status\": \"Developing\"}, {\"country\": \"Comoros\", \"year\": 2010, \"gdp\": 769.1742883, \"hiv/aids\": 0.1, \"status\": \"Developing\"}, {\"country\": \"Costa Rica\", \"year\": 2010, \"gdp\": 8199.414621, \"hiv/aids\": 0.1, \"status\": \"Developing\"}, {\"country\": \"Croatia\", \"year\": 2010, \"gdp\": 1355.74586, \"hiv/aids\": 0.1, \"status\": \"Developed\"}, {\"country\": \"Cuba\", \"year\": 2010, \"gdp\": 5676.14143, \"hiv/aids\": 0.1, \"status\": \"Developing\"}, {\"country\": \"Cyprus\", \"year\": 2010, \"gdp\": 3818.46396, \"hiv/aids\": 0.1, \"status\": \"Developed\"}, {\"country\": \"Denmark\", \"year\": 2010, \"gdp\": 5841.41122, \"hiv/aids\": 0.1, \"status\": \"Developed\"}, {\"country\": \"Djibouti\", \"year\": 2010, \"gdp\": 1325.99724, \"hiv/aids\": 3.1, \"status\": \"Developing\"}, {\"country\": \"Dominican Republic\", \"year\": 2010, \"gdp\": 5451.6696, \"hiv/aids\": 0.9, \"status\": \"Developing\"}, {\"country\": \"Ecuador\", \"year\": 2010, \"gdp\": 4657.32361, \"hiv/aids\": 0.1, \"status\": \"Developing\"}, {\"country\": \"El Salvador\", \"year\": 2010, \"gdp\": 3474.392445, \"hiv/aids\": 0.3, \"status\": \"Developing\"}, {\"country\": \"Equatorial Guinea\", \"year\": 2010, \"gdp\": 17136.44568, \"hiv/aids\": 7.2, \"status\": \"Developing\"}, {\"country\": \"Eritrea\", \"year\": 2010, \"gdp\": 482.14994, \"hiv/aids\": 0.9, \"status\": \"Developing\"}, {\"country\": \"Estonia\", \"year\": 2010, \"gdp\": 14638.6482, \"hiv/aids\": 0.1, \"status\": \"Developing\"}, {\"country\": \"Ethiopia\", \"year\": 2010, \"gdp\": 341.39992, \"hiv/aids\": 1.7, \"status\": \"Developing\"}, {\"country\": \"Fiji\", \"year\": 2010, \"gdp\": 3651.966784, \"hiv/aids\": 0.1, \"status\": \"Developing\"}, {\"country\": \"Finland\", \"year\": 2010, \"gdp\": 4622.41516, \"hiv/aids\": 0.1, \"status\": \"Developing\"}, {\"country\": \"France\", \"year\": 2010, \"gdp\": 473.34279, \"hiv/aids\": 0.1, \"status\": \"Developing\"}, {\"country\": \"Gabon\", \"year\": 2010, \"gdp\": 8754.113376, \"hiv/aids\": 7.0, \"status\": \"Developing\"}, {\"country\": \"Georgia\", \"year\": 2010, \"gdp\": 2964.47734, \"hiv/aids\": 0.1, \"status\": \"Developing\"}, {\"country\": \"Germany\", \"year\": 2010, \"gdp\": 41785.55691, \"hiv/aids\": 0.1, \"status\": \"Developed\"}, {\"country\": \"Ghana\", \"year\": 2010, \"gdp\": 1312.67557, \"hiv/aids\": 1.9, \"status\": \"Developing\"}, {\"country\": \"Greece\", \"year\": 2010, \"gdp\": 26917.75898, \"hiv/aids\": 0.1, \"status\": \"Developing\"}, {\"country\": \"Grenada\", \"year\": 2010, \"gdp\": 7365.666659, \"hiv/aids\": 0.1, \"status\": \"Developing\"}, {\"country\": \"Guatemala\", \"year\": 2010, \"gdp\": 2825.5247, \"hiv/aids\": 0.4, \"status\": \"Developing\"}, {\"country\": \"Guinea\", \"year\": 2010, \"gdp\": 438.7513346, \"hiv/aids\": 2.2, \"status\": \"Developing\"}, {\"country\": \"Guinea-Bissau\", \"year\": 2010, \"gdp\": 543.957418, \"hiv/aids\": 5.9, \"status\": \"Developing\"}, {\"country\": \"Guyana\", \"year\": 2010, \"gdp\": 326.281212, \"hiv/aids\": 0.4, \"status\": \"Developing\"}, {\"country\": \"Haiti\", \"year\": 2010, \"gdp\": 662.2795182, \"hiv/aids\": 1.9, \"status\": \"Developing\"}, {\"country\": \"Honduras\", \"year\": 2010, \"gdp\": 1932.85829, \"hiv/aids\": 0.4, \"status\": \"Developing\"}, {\"country\": \"Hungary\", \"year\": 2010, \"gdp\": 1325.53379, \"hiv/aids\": 0.1, \"status\": \"Developed\"}, {\"country\": \"Iceland\", \"year\": 2010, \"gdp\": 41676.44527, \"hiv/aids\": 0.1, \"status\": \"Developed\"}, {\"country\": \"India\", \"year\": 2010, \"gdp\": 1345.77153, \"hiv/aids\": 0.2, \"status\": \"Developing\"}, {\"country\": \"Indonesia\", \"year\": 2010, \"gdp\": 3113.48635, \"hiv/aids\": 0.3, \"status\": \"Developing\"}, {\"country\": \"Iraq\", \"year\": 2010, \"gdp\": 452.74948, \"hiv/aids\": 0.1, \"status\": \"Developing\"}, {\"country\": \"Ireland\", \"year\": 2010, \"gdp\": 48538.58776, \"hiv/aids\": 0.1, \"status\": \"Developed\"}, {\"country\": \"Israel\", \"year\": 2010, \"gdp\": 3661.994, \"hiv/aids\": 0.1, \"status\": \"Developing\"}, {\"country\": \"Italy\", \"year\": 2010, \"gdp\": 35849.37364, \"hiv/aids\": 0.1, \"status\": \"Developed\"}, {\"country\": \"Jamaica\", \"year\": 2010, \"gdp\": 4682.728424, \"hiv/aids\": 0.5, \"status\": \"Developing\"}, {\"country\": \"Japan\", \"year\": 2010, \"gdp\": 4457.67639, \"hiv/aids\": 0.1, \"status\": \"Developed\"}, {\"country\": \"Jordan\", \"year\": 2010, \"gdp\": 3679.19275, \"hiv/aids\": 0.1, \"status\": \"Developing\"}, {\"country\": \"Kazakhstan\", \"year\": 2010, \"gdp\": 97.649972, \"hiv/aids\": 0.1, \"status\": \"Developing\"}, {\"country\": \"Kenya\", \"year\": 2010, \"gdp\": 967.34773, \"hiv/aids\": 4.3, \"status\": \"Developing\"}, {\"country\": \"Kiribati\", \"year\": 2010, \"gdp\": 1493.1651, \"hiv/aids\": 0.1, \"status\": \"Developing\"}, {\"country\": \"Kuwait\", \"year\": 2010, \"gdp\": 38497.61696, \"hiv/aids\": 0.1, \"status\": \"Developing\"}, {\"country\": \"Latvia\", \"year\": 2010, \"gdp\": 11326.21947, \"hiv/aids\": 0.1, \"status\": \"Developed\"}, {\"country\": \"Lebanon\", \"year\": 2010, \"gdp\": 8763.826274, \"hiv/aids\": 0.1, \"status\": \"Developing\"}, {\"country\": \"Lesotho\", \"year\": 2010, \"gdp\": 1173.26212, \"hiv/aids\": 13.4, \"status\": \"Developing\"}, {\"country\": \"Liberia\", \"year\": 2010, \"gdp\": 327.42597, \"hiv/aids\": 1.8, \"status\": \"Developing\"}, {\"country\": \"Libya\", \"year\": 2010, \"gdp\": 1212.56217, \"hiv/aids\": 0.1, \"status\": \"Developing\"}, {\"country\": \"Lithuania\", \"year\": 2010, \"gdp\": 11984.86857, \"hiv/aids\": 0.1, \"status\": \"Developed\"}, {\"country\": \"Luxembourg\", \"year\": 2010, \"gdp\": 14965.361, \"hiv/aids\": 0.1, \"status\": \"Developed\"}, {\"country\": \"Madagascar\", \"year\": 2010, \"gdp\": 412.739341, \"hiv/aids\": 0.5, \"status\": \"Developing\"}, {\"country\": \"Malawi\", \"year\": 2010, \"gdp\": 458.8681744, \"hiv/aids\": 13.7, \"status\": \"Developing\"}, {\"country\": \"Malaysia\", \"year\": 2010, \"gdp\": 971.356987, \"hiv/aids\": 0.1, \"status\": \"Developing\"}, {\"country\": \"Maldives\", \"year\": 2010, \"gdp\": 633.79498, \"hiv/aids\": 0.1, \"status\": \"Developing\"}, {\"country\": \"Mali\", \"year\": 2010, \"gdp\": 78.377632, \"hiv/aids\": 1.5, \"status\": \"Developing\"}, {\"country\": \"Malta\", \"year\": 2010, \"gdp\": 2187.79469, \"hiv/aids\": 0.1, \"status\": \"Developed\"}, {\"country\": \"Mauritania\", \"year\": 2010, \"gdp\": 123.383675, \"hiv/aids\": 1.2, \"status\": \"Developing\"}, {\"country\": \"Mauritius\", \"year\": 2010, \"gdp\": 8.376432, \"hiv/aids\": 0.2, \"status\": \"Developing\"}, {\"country\": \"Mexico\", \"year\": 2010, \"gdp\": 8959.581416, \"hiv/aids\": 0.1, \"status\": \"Developing\"}, {\"country\": \"Mongolia\", \"year\": 2010, \"gdp\": 265.353659, \"hiv/aids\": 0.1, \"status\": \"Developing\"}, {\"country\": \"Montenegro\", \"year\": 2010, \"gdp\": 6682.281158, \"hiv/aids\": 0.1, \"status\": \"Developing\"}, {\"country\": \"Morocco\", \"year\": 2010, \"gdp\": 2834.2472, \"hiv/aids\": 0.1, \"status\": \"Developing\"}, {\"country\": \"Mozambique\", \"year\": 2010, \"gdp\": 419.2258149, \"hiv/aids\": 10.8, \"status\": \"Developing\"}, {\"country\": \"Myanmar\", \"year\": 2010, \"gdp\": 987.7365832, \"hiv/aids\": 0.5, \"status\": \"Developing\"}, {\"country\": \"Namibia\", \"year\": 2010, \"gdp\": 5191.58381, \"hiv/aids\": 6.2, \"status\": \"Developing\"}, {\"country\": \"Nepal\", \"year\": 2010, \"gdp\": 592.1835216, \"hiv/aids\": 0.2, \"status\": \"Developing\"}, {\"country\": \"Netherlands\", \"year\": 2010, \"gdp\": 5338.25483, \"hiv/aids\": 0.1, \"status\": \"Developed\"}, {\"country\": \"New Zealand\", \"year\": 2010, \"gdp\": 33691.34837, \"hiv/aids\": 0.1, \"status\": \"Developed\"}, {\"country\": \"Nicaragua\", \"year\": 2010, \"gdp\": 1526.497938, \"hiv/aids\": 0.1, \"status\": \"Developing\"}, {\"country\": \"Niger\", \"year\": 2010, \"gdp\": 348.151511, \"hiv/aids\": 0.9, \"status\": \"Developing\"}, {\"country\": \"Nigeria\", \"year\": 2010, \"gdp\": 2327.3267, \"hiv/aids\": 4.8, \"status\": \"Developing\"}, {\"country\": \"Norway\", \"year\": 2010, \"gdp\": 87646.75346, \"hiv/aids\": 0.1, \"status\": \"Developed\"}, {\"country\": \"Oman\", \"year\": 2010, \"gdp\": 1928.74739, \"hiv/aids\": 0.1, \"status\": \"Developing\"}, {\"country\": \"Pakistan\", \"year\": 2010, \"gdp\": 14.142268, \"hiv/aids\": 0.1, \"status\": \"Developing\"}, {\"country\": \"Panama\", \"year\": 2010, \"gdp\": 7937.259931, \"hiv/aids\": 0.1, \"status\": \"Developing\"}, {\"country\": \"Papua New Guinea\", \"year\": 2010, \"gdp\": 1366.879112, \"hiv/aids\": 1.1, \"status\": \"Developing\"}, {\"country\": \"Paraguay\", \"year\": 2010, \"gdp\": 3225.591754, \"hiv/aids\": 0.1, \"status\": \"Developing\"}, {\"country\": \"Peru\", \"year\": 2010, \"gdp\": 522.493191, \"hiv/aids\": 0.2, \"status\": \"Developing\"}, {\"country\": \"Philippines\", \"year\": 2010, \"gdp\": 2129.499242, \"hiv/aids\": 0.1, \"status\": \"Developing\"}, {\"country\": \"Poland\", \"year\": 2010, \"gdp\": 12599.52486, \"hiv/aids\": 0.1, \"status\": \"Developed\"}, {\"country\": \"Portugal\", \"year\": 2010, \"gdp\": 22538.6548, \"hiv/aids\": 0.1, \"status\": \"Developed\"}, {\"country\": \"Qatar\", \"year\": 2010, \"gdp\": 736.22784, \"hiv/aids\": 0.1, \"status\": \"Developing\"}, {\"country\": \"Romania\", \"year\": 2010, \"gdp\": 8297.483621, \"hiv/aids\": 0.1, \"status\": \"Developed\"}, {\"country\": \"Russian Federation\", \"year\": 2010, \"gdp\": 1674.98771, \"hiv/aids\": 0.2, \"status\": \"Developing\"}, {\"country\": \"Rwanda\", \"year\": 2010, \"gdp\": 563.491487, \"hiv/aids\": 2.3, \"status\": \"Developing\"}, {\"country\": \"Samoa\", \"year\": 2010, \"gdp\": 3453.487434, \"hiv/aids\": 0.1, \"status\": \"Developing\"}, {\"country\": \"Sao Tome and Principe\", \"year\": 2010, \"gdp\": 1129.754961, \"hiv/aids\": 0.5, \"status\": \"Developing\"}, {\"country\": \"Saudi Arabia\", \"year\": 2010, \"gdp\": 19259.58726, \"hiv/aids\": 0.1, \"status\": \"Developing\"}, {\"country\": \"Senegal\", \"year\": 2010, \"gdp\": 11.631377, \"hiv/aids\": 0.4, \"status\": \"Developing\"}, {\"country\": \"Serbia\", \"year\": 2010, \"gdp\": 5411.87744, \"hiv/aids\": 0.1, \"status\": \"Developing\"}, {\"country\": \"Seychelles\", \"year\": 2010, \"gdp\": 184.68447, \"hiv/aids\": 0.1, \"status\": \"Developing\"}, {\"country\": \"Sierra Leone\", \"year\": 2010, \"gdp\": 45.128418, \"hiv/aids\": 1.6, \"status\": \"Developing\"}, {\"country\": \"Singapore\", \"year\": 2010, \"gdp\": 46569.67951, \"hiv/aids\": 0.1, \"status\": \"Developed\"}, {\"country\": \"Slovenia\", \"year\": 2010, \"gdp\": 23437.4722, \"hiv/aids\": 0.1, \"status\": \"Developed\"}, {\"country\": \"Solomon Islands\", \"year\": 2010, \"gdp\": 1272.44825, \"hiv/aids\": 0.1, \"status\": \"Developing\"}, {\"country\": \"South Africa\", \"year\": 2010, \"gdp\": 7362.76139, \"hiv/aids\": 11.0, \"status\": \"Developing\"}, {\"country\": \"South Sudan\", \"year\": 2010, \"gdp\": 1562.239346, \"hiv/aids\": 4.0, \"status\": \"Developing\"}, {\"country\": \"Spain\", \"year\": 2010, \"gdp\": 3736.228, \"hiv/aids\": 0.1, \"status\": \"Developed\"}, {\"country\": \"Sri Lanka\", \"year\": 2010, \"gdp\": 2819.511161, \"hiv/aids\": 0.1, \"status\": \"Developing\"}, {\"country\": \"Sudan\", \"year\": 2010, \"gdp\": 1476.47887, \"hiv/aids\": 0.3, \"status\": \"Developing\"}, {\"country\": \"Suriname\", \"year\": 2010, \"gdp\": 833.31332, \"hiv/aids\": 0.5, \"status\": \"Developing\"}, {\"country\": \"Swaziland\", \"year\": 2010, \"gdp\": 369.239336, \"hiv/aids\": 21.6, \"status\": \"Developing\"}, {\"country\": \"Sweden\", \"year\": 2010, \"gdp\": 5276.25591, \"hiv/aids\": 0.1, \"status\": \"Developed\"}, {\"country\": \"Switzerland\", \"year\": 2010, \"gdp\": 74276.71842, \"hiv/aids\": 0.1, \"status\": \"Developed\"}, {\"country\": \"Tajikistan\", \"year\": 2010, \"gdp\": 738.3475227, \"hiv/aids\": 0.2, \"status\": \"Developing\"}, {\"country\": \"Thailand\", \"year\": 2010, \"gdp\": 575.32176, \"hiv/aids\": 0.2, \"status\": \"Developing\"}, {\"country\": \"Timor-Leste\", \"year\": 2010, \"gdp\": 849.8626972, \"hiv/aids\": 0.1, \"status\": \"Developing\"}, {\"country\": \"Togo\", \"year\": 2010, \"gdp\": 487.9238913, \"hiv/aids\": 3.8, \"status\": \"Developing\"}, {\"country\": \"Tonga\", \"year\": 2010, \"gdp\": 3547.59975, \"hiv/aids\": 0.1, \"status\": \"Developing\"}, {\"country\": \"Trinidad and Tobago\", \"year\": 2010, \"gdp\": 16683.94578, \"hiv/aids\": 0.4, \"status\": \"Developing\"}, {\"country\": \"Tunisia\", \"year\": 2010, \"gdp\": 414.15177, \"hiv/aids\": 0.1, \"status\": \"Developing\"}, {\"country\": \"Turkey\", \"year\": 2010, \"gdp\": 1672.5693, \"hiv/aids\": 0.1, \"status\": \"Developing\"}, {\"country\": \"Turkmenistan\", \"year\": 2010, \"gdp\": 4439.23, \"hiv/aids\": 0.1, \"status\": \"Developing\"}, {\"country\": \"Uganda\", \"year\": 2010, \"gdp\": 594.9972557, \"hiv/aids\": 8.0, \"status\": \"Developing\"}, {\"country\": \"Ukraine\", \"year\": 2010, \"gdp\": 2965.142365, \"hiv/aids\": 0.2, \"status\": \"Developing\"}, {\"country\": \"United Arab Emirates\", \"year\": 2010, \"gdp\": 3549.14832, \"hiv/aids\": 0.1, \"status\": \"Developing\"}, {\"country\": \"Uruguay\", \"year\": 2010, \"gdp\": 11938.212, \"hiv/aids\": 0.1, \"status\": \"Developing\"}, {\"country\": \"Uzbekistan\", \"year\": 2010, \"gdp\": 1377.8214, \"hiv/aids\": 0.2, \"status\": \"Developing\"}, {\"country\": \"Vanuatu\", \"year\": 2010, \"gdp\": 2965.82434, \"hiv/aids\": 0.1, \"status\": \"Developing\"}, {\"country\": \"Zambia\", \"year\": 2010, \"gdp\": 1463.213573, \"hiv/aids\": 6.8, \"status\": \"Developing\"}, {\"country\": \"Zimbabwe\", \"year\": 2010, \"gdp\": 713.63562, \"hiv/aids\": 15.7, \"status\": \"Developing\"}]}}, {\"mode\": \"vega-lite\"});\n",
              "</script>"
            ],
            "text/plain": [
              "alt.Chart(...)"
            ]
          },
          "metadata": {},
          "execution_count": 12
        }
      ]
    },
    {
      "cell_type": "markdown",
      "source": [
        "As expected, there are major influential outliers for the 'gdp' variable. As a cutoff, we choose to only include countries with GDP values below 10,000."
      ],
      "metadata": {
        "id": "G-NQreR0yQo6"
      }
    },
    {
      "cell_type": "code",
      "source": [
        "alt.Chart(NaN_removed).mark_point().encode(\n",
        "    x = 'hiv/aids',\n",
        ")"
      ],
      "metadata": {
        "colab": {
          "base_uri": "https://localhost:8080/",
          "height": 84
        },
        "id": "xZpR3xX5zMy-",
        "outputId": "d7f18bd8-638b-4d39-945c-66d00aa10abd"
      },
      "execution_count": 13,
      "outputs": [
        {
          "output_type": "execute_result",
          "data": {
            "text/html": [
              "\n",
              "<div id=\"altair-viz-26a90a4e68694a3ca9161abe7d66bce2\"></div>\n",
              "<script type=\"text/javascript\">\n",
              "  var VEGA_DEBUG = (typeof VEGA_DEBUG == \"undefined\") ? {} : VEGA_DEBUG;\n",
              "  (function(spec, embedOpt){\n",
              "    let outputDiv = document.currentScript.previousElementSibling;\n",
              "    if (outputDiv.id !== \"altair-viz-26a90a4e68694a3ca9161abe7d66bce2\") {\n",
              "      outputDiv = document.getElementById(\"altair-viz-26a90a4e68694a3ca9161abe7d66bce2\");\n",
              "    }\n",
              "    const paths = {\n",
              "      \"vega\": \"https://cdn.jsdelivr.net/npm//vega@5?noext\",\n",
              "      \"vega-lib\": \"https://cdn.jsdelivr.net/npm//vega-lib?noext\",\n",
              "      \"vega-lite\": \"https://cdn.jsdelivr.net/npm//vega-lite@4.17.0?noext\",\n",
              "      \"vega-embed\": \"https://cdn.jsdelivr.net/npm//vega-embed@6?noext\",\n",
              "    };\n",
              "\n",
              "    function maybeLoadScript(lib, version) {\n",
              "      var key = `${lib.replace(\"-\", \"\")}_version`;\n",
              "      return (VEGA_DEBUG[key] == version) ?\n",
              "        Promise.resolve(paths[lib]) :\n",
              "        new Promise(function(resolve, reject) {\n",
              "          var s = document.createElement('script');\n",
              "          document.getElementsByTagName(\"head\")[0].appendChild(s);\n",
              "          s.async = true;\n",
              "          s.onload = () => {\n",
              "            VEGA_DEBUG[key] = version;\n",
              "            return resolve(paths[lib]);\n",
              "          };\n",
              "          s.onerror = () => reject(`Error loading script: ${paths[lib]}`);\n",
              "          s.src = paths[lib];\n",
              "        });\n",
              "    }\n",
              "\n",
              "    function showError(err) {\n",
              "      outputDiv.innerHTML = `<div class=\"error\" style=\"color:red;\">${err}</div>`;\n",
              "      throw err;\n",
              "    }\n",
              "\n",
              "    function displayChart(vegaEmbed) {\n",
              "      vegaEmbed(outputDiv, spec, embedOpt)\n",
              "        .catch(err => showError(`Javascript Error: ${err.message}<br>This usually means there's a typo in your chart specification. See the javascript console for the full traceback.`));\n",
              "    }\n",
              "\n",
              "    if(typeof define === \"function\" && define.amd) {\n",
              "      requirejs.config({paths});\n",
              "      require([\"vega-embed\"], displayChart, err => showError(`Error loading script: ${err.message}`));\n",
              "    } else {\n",
              "      maybeLoadScript(\"vega\", \"5\")\n",
              "        .then(() => maybeLoadScript(\"vega-lite\", \"4.17.0\"))\n",
              "        .then(() => maybeLoadScript(\"vega-embed\", \"6\"))\n",
              "        .catch(showError)\n",
              "        .then(() => displayChart(vegaEmbed));\n",
              "    }\n",
              "  })({\"config\": {\"view\": {\"continuousWidth\": 400, \"continuousHeight\": 300}}, \"data\": {\"name\": \"data-70b278ac6f95aab0387ee313eb1756d5\"}, \"mark\": \"point\", \"encoding\": {\"x\": {\"field\": \"hiv/aids\", \"type\": \"quantitative\"}}, \"$schema\": \"https://vega.github.io/schema/vega-lite/v4.17.0.json\", \"datasets\": {\"data-70b278ac6f95aab0387ee313eb1756d5\": [{\"country\": \"Afghanistan\", \"year\": 2010, \"gdp\": 553.32894, \"hiv/aids\": 0.1, \"status\": \"Developing\"}, {\"country\": \"Albania\", \"year\": 2010, \"gdp\": 494.358832, \"hiv/aids\": 0.1, \"status\": \"Developing\"}, {\"country\": \"Algeria\", \"year\": 2010, \"gdp\": 4463.394675, \"hiv/aids\": 0.1, \"status\": \"Developing\"}, {\"country\": \"Angola\", \"year\": 2010, \"gdp\": 3529.53482, \"hiv/aids\": 2.5, \"status\": \"Developing\"}, {\"country\": \"Antigua and Barbuda\", \"year\": 2010, \"gdp\": 12126.87614, \"hiv/aids\": 0.1, \"status\": \"Developing\"}, {\"country\": \"Argentina\", \"year\": 2010, \"gdp\": 1276.265, \"hiv/aids\": 0.1, \"status\": \"Developing\"}, {\"country\": \"Armenia\", \"year\": 2010, \"gdp\": 3218.381655, \"hiv/aids\": 0.1, \"status\": \"Developing\"}, {\"country\": \"Australia\", \"year\": 2010, \"gdp\": 51874.848, \"hiv/aids\": 0.1, \"status\": \"Developed\"}, {\"country\": \"Austria\", \"year\": 2010, \"gdp\": 46657.629, \"hiv/aids\": 0.1, \"status\": \"Developed\"}, {\"country\": \"Azerbaijan\", \"year\": 2010, \"gdp\": 5842.85784, \"hiv/aids\": 0.1, \"status\": \"Developing\"}, {\"country\": \"Bahrain\", \"year\": 2010, \"gdp\": 2722.1389, \"hiv/aids\": 0.1, \"status\": \"Developing\"}, {\"country\": \"Bangladesh\", \"year\": 2010, \"gdp\": 757.6717572, \"hiv/aids\": 0.1, \"status\": \"Developing\"}, {\"country\": \"Barbados\", \"year\": 2010, \"gdp\": 1595.91232, \"hiv/aids\": 0.1, \"status\": \"Developing\"}, {\"country\": \"Belarus\", \"year\": 2010, \"gdp\": 63.38877, \"hiv/aids\": 0.1, \"status\": \"Developing\"}, {\"country\": \"Belgium\", \"year\": 2010, \"gdp\": 4438.23741, \"hiv/aids\": 0.1, \"status\": \"Developed\"}, {\"country\": \"Belize\", \"year\": 2010, \"gdp\": 4344.15177, \"hiv/aids\": 0.2, \"status\": \"Developing\"}, {\"country\": \"Benin\", \"year\": 2010, \"gdp\": 757.695974, \"hiv/aids\": 1.4, \"status\": \"Developing\"}, {\"country\": \"Bhutan\", \"year\": 2010, \"gdp\": 2178.921383, \"hiv/aids\": 0.5, \"status\": \"Developing\"}, {\"country\": \"Bosnia and Herzegovina\", \"year\": 2010, \"gdp\": 4611.47298, \"hiv/aids\": 0.1, \"status\": \"Developing\"}, {\"country\": \"Botswana\", \"year\": 2010, \"gdp\": 6346.15624, \"hiv/aids\": 6.2, \"status\": \"Developing\"}, {\"country\": \"Brazil\", \"year\": 2010, \"gdp\": 11224.1548, \"hiv/aids\": 0.1, \"status\": \"Developing\"}, {\"country\": \"Brunei Darussalam\", \"year\": 2010, \"gdp\": 35268.1117, \"hiv/aids\": 0.1, \"status\": \"Developing\"}, {\"country\": \"Bulgaria\", \"year\": 2010, \"gdp\": 6843.263289, \"hiv/aids\": 0.1, \"status\": \"Developed\"}, {\"country\": \"Burkina Faso\", \"year\": 2010, \"gdp\": 575.4464527, \"hiv/aids\": 1.0, \"status\": \"Developing\"}, {\"country\": \"Burundi\", \"year\": 2010, \"gdp\": 231.1943256, \"hiv/aids\": 1.9, \"status\": \"Developing\"}, {\"country\": \"Cabo Verde\", \"year\": 2010, \"gdp\": 3312.825985, \"hiv/aids\": 0.4, \"status\": \"Developing\"}, {\"country\": \"Cambodia\", \"year\": 2010, \"gdp\": 785.6928841, \"hiv/aids\": 0.5, \"status\": \"Developing\"}, {\"country\": \"Cameroon\", \"year\": 2010, \"gdp\": 1182.869227, \"hiv/aids\": 5.5, \"status\": \"Developing\"}, {\"country\": \"Canada\", \"year\": 2010, \"gdp\": 47447.4762, \"hiv/aids\": 0.1, \"status\": \"Developing\"}, {\"country\": \"Central African Republic\", \"year\": 2010, \"gdp\": 446.4434494, \"hiv/aids\": 6.6, \"status\": \"Developing\"}, {\"country\": \"Chad\", \"year\": 2010, \"gdp\": 896.5697341, \"hiv/aids\": 4.1, \"status\": \"Developing\"}, {\"country\": \"Chile\", \"year\": 2010, \"gdp\": 1286.17764, \"hiv/aids\": 0.1, \"status\": \"Developing\"}, {\"country\": \"China\", \"year\": 2010, \"gdp\": 456.512487, \"hiv/aids\": 0.1, \"status\": \"Developing\"}, {\"country\": \"Colombia\", \"year\": 2010, \"gdp\": 625.65544, \"hiv/aids\": 0.1, \"status\": \"Developing\"}, {\"country\": \"Comoros\", \"year\": 2010, \"gdp\": 769.1742883, \"hiv/aids\": 0.1, \"status\": \"Developing\"}, {\"country\": \"Costa Rica\", \"year\": 2010, \"gdp\": 8199.414621, \"hiv/aids\": 0.1, \"status\": \"Developing\"}, {\"country\": \"Croatia\", \"year\": 2010, \"gdp\": 1355.74586, \"hiv/aids\": 0.1, \"status\": \"Developed\"}, {\"country\": \"Cuba\", \"year\": 2010, \"gdp\": 5676.14143, \"hiv/aids\": 0.1, \"status\": \"Developing\"}, {\"country\": \"Cyprus\", \"year\": 2010, \"gdp\": 3818.46396, \"hiv/aids\": 0.1, \"status\": \"Developed\"}, {\"country\": \"Denmark\", \"year\": 2010, \"gdp\": 5841.41122, \"hiv/aids\": 0.1, \"status\": \"Developed\"}, {\"country\": \"Djibouti\", \"year\": 2010, \"gdp\": 1325.99724, \"hiv/aids\": 3.1, \"status\": \"Developing\"}, {\"country\": \"Dominican Republic\", \"year\": 2010, \"gdp\": 5451.6696, \"hiv/aids\": 0.9, \"status\": \"Developing\"}, {\"country\": \"Ecuador\", \"year\": 2010, \"gdp\": 4657.32361, \"hiv/aids\": 0.1, \"status\": \"Developing\"}, {\"country\": \"El Salvador\", \"year\": 2010, \"gdp\": 3474.392445, \"hiv/aids\": 0.3, \"status\": \"Developing\"}, {\"country\": \"Equatorial Guinea\", \"year\": 2010, \"gdp\": 17136.44568, \"hiv/aids\": 7.2, \"status\": \"Developing\"}, {\"country\": \"Eritrea\", \"year\": 2010, \"gdp\": 482.14994, \"hiv/aids\": 0.9, \"status\": \"Developing\"}, {\"country\": \"Estonia\", \"year\": 2010, \"gdp\": 14638.6482, \"hiv/aids\": 0.1, \"status\": \"Developing\"}, {\"country\": \"Ethiopia\", \"year\": 2010, \"gdp\": 341.39992, \"hiv/aids\": 1.7, \"status\": \"Developing\"}, {\"country\": \"Fiji\", \"year\": 2010, \"gdp\": 3651.966784, \"hiv/aids\": 0.1, \"status\": \"Developing\"}, {\"country\": \"Finland\", \"year\": 2010, \"gdp\": 4622.41516, \"hiv/aids\": 0.1, \"status\": \"Developing\"}, {\"country\": \"France\", \"year\": 2010, \"gdp\": 473.34279, \"hiv/aids\": 0.1, \"status\": \"Developing\"}, {\"country\": \"Gabon\", \"year\": 2010, \"gdp\": 8754.113376, \"hiv/aids\": 7.0, \"status\": \"Developing\"}, {\"country\": \"Georgia\", \"year\": 2010, \"gdp\": 2964.47734, \"hiv/aids\": 0.1, \"status\": \"Developing\"}, {\"country\": \"Germany\", \"year\": 2010, \"gdp\": 41785.55691, \"hiv/aids\": 0.1, \"status\": \"Developed\"}, {\"country\": \"Ghana\", \"year\": 2010, \"gdp\": 1312.67557, \"hiv/aids\": 1.9, \"status\": \"Developing\"}, {\"country\": \"Greece\", \"year\": 2010, \"gdp\": 26917.75898, \"hiv/aids\": 0.1, \"status\": \"Developing\"}, {\"country\": \"Grenada\", \"year\": 2010, \"gdp\": 7365.666659, \"hiv/aids\": 0.1, \"status\": \"Developing\"}, {\"country\": \"Guatemala\", \"year\": 2010, \"gdp\": 2825.5247, \"hiv/aids\": 0.4, \"status\": \"Developing\"}, {\"country\": \"Guinea\", \"year\": 2010, \"gdp\": 438.7513346, \"hiv/aids\": 2.2, \"status\": \"Developing\"}, {\"country\": \"Guinea-Bissau\", \"year\": 2010, \"gdp\": 543.957418, \"hiv/aids\": 5.9, \"status\": \"Developing\"}, {\"country\": \"Guyana\", \"year\": 2010, \"gdp\": 326.281212, \"hiv/aids\": 0.4, \"status\": \"Developing\"}, {\"country\": \"Haiti\", \"year\": 2010, \"gdp\": 662.2795182, \"hiv/aids\": 1.9, \"status\": \"Developing\"}, {\"country\": \"Honduras\", \"year\": 2010, \"gdp\": 1932.85829, \"hiv/aids\": 0.4, \"status\": \"Developing\"}, {\"country\": \"Hungary\", \"year\": 2010, \"gdp\": 1325.53379, \"hiv/aids\": 0.1, \"status\": \"Developed\"}, {\"country\": \"Iceland\", \"year\": 2010, \"gdp\": 41676.44527, \"hiv/aids\": 0.1, \"status\": \"Developed\"}, {\"country\": \"India\", \"year\": 2010, \"gdp\": 1345.77153, \"hiv/aids\": 0.2, \"status\": \"Developing\"}, {\"country\": \"Indonesia\", \"year\": 2010, \"gdp\": 3113.48635, \"hiv/aids\": 0.3, \"status\": \"Developing\"}, {\"country\": \"Iraq\", \"year\": 2010, \"gdp\": 452.74948, \"hiv/aids\": 0.1, \"status\": \"Developing\"}, {\"country\": \"Ireland\", \"year\": 2010, \"gdp\": 48538.58776, \"hiv/aids\": 0.1, \"status\": \"Developed\"}, {\"country\": \"Israel\", \"year\": 2010, \"gdp\": 3661.994, \"hiv/aids\": 0.1, \"status\": \"Developing\"}, {\"country\": \"Italy\", \"year\": 2010, \"gdp\": 35849.37364, \"hiv/aids\": 0.1, \"status\": \"Developed\"}, {\"country\": \"Jamaica\", \"year\": 2010, \"gdp\": 4682.728424, \"hiv/aids\": 0.5, \"status\": \"Developing\"}, {\"country\": \"Japan\", \"year\": 2010, \"gdp\": 4457.67639, \"hiv/aids\": 0.1, \"status\": \"Developed\"}, {\"country\": \"Jordan\", \"year\": 2010, \"gdp\": 3679.19275, \"hiv/aids\": 0.1, \"status\": \"Developing\"}, {\"country\": \"Kazakhstan\", \"year\": 2010, \"gdp\": 97.649972, \"hiv/aids\": 0.1, \"status\": \"Developing\"}, {\"country\": \"Kenya\", \"year\": 2010, \"gdp\": 967.34773, \"hiv/aids\": 4.3, \"status\": \"Developing\"}, {\"country\": \"Kiribati\", \"year\": 2010, \"gdp\": 1493.1651, \"hiv/aids\": 0.1, \"status\": \"Developing\"}, {\"country\": \"Kuwait\", \"year\": 2010, \"gdp\": 38497.61696, \"hiv/aids\": 0.1, \"status\": \"Developing\"}, {\"country\": \"Latvia\", \"year\": 2010, \"gdp\": 11326.21947, \"hiv/aids\": 0.1, \"status\": \"Developed\"}, {\"country\": \"Lebanon\", \"year\": 2010, \"gdp\": 8763.826274, \"hiv/aids\": 0.1, \"status\": \"Developing\"}, {\"country\": \"Lesotho\", \"year\": 2010, \"gdp\": 1173.26212, \"hiv/aids\": 13.4, \"status\": \"Developing\"}, {\"country\": \"Liberia\", \"year\": 2010, \"gdp\": 327.42597, \"hiv/aids\": 1.8, \"status\": \"Developing\"}, {\"country\": \"Libya\", \"year\": 2010, \"gdp\": 1212.56217, \"hiv/aids\": 0.1, \"status\": \"Developing\"}, {\"country\": \"Lithuania\", \"year\": 2010, \"gdp\": 11984.86857, \"hiv/aids\": 0.1, \"status\": \"Developed\"}, {\"country\": \"Luxembourg\", \"year\": 2010, \"gdp\": 14965.361, \"hiv/aids\": 0.1, \"status\": \"Developed\"}, {\"country\": \"Madagascar\", \"year\": 2010, \"gdp\": 412.739341, \"hiv/aids\": 0.5, \"status\": \"Developing\"}, {\"country\": \"Malawi\", \"year\": 2010, \"gdp\": 458.8681744, \"hiv/aids\": 13.7, \"status\": \"Developing\"}, {\"country\": \"Malaysia\", \"year\": 2010, \"gdp\": 971.356987, \"hiv/aids\": 0.1, \"status\": \"Developing\"}, {\"country\": \"Maldives\", \"year\": 2010, \"gdp\": 633.79498, \"hiv/aids\": 0.1, \"status\": \"Developing\"}, {\"country\": \"Mali\", \"year\": 2010, \"gdp\": 78.377632, \"hiv/aids\": 1.5, \"status\": \"Developing\"}, {\"country\": \"Malta\", \"year\": 2010, \"gdp\": 2187.79469, \"hiv/aids\": 0.1, \"status\": \"Developed\"}, {\"country\": \"Mauritania\", \"year\": 2010, \"gdp\": 123.383675, \"hiv/aids\": 1.2, \"status\": \"Developing\"}, {\"country\": \"Mauritius\", \"year\": 2010, \"gdp\": 8.376432, \"hiv/aids\": 0.2, \"status\": \"Developing\"}, {\"country\": \"Mexico\", \"year\": 2010, \"gdp\": 8959.581416, \"hiv/aids\": 0.1, \"status\": \"Developing\"}, {\"country\": \"Mongolia\", \"year\": 2010, \"gdp\": 265.353659, \"hiv/aids\": 0.1, \"status\": \"Developing\"}, {\"country\": \"Montenegro\", \"year\": 2010, \"gdp\": 6682.281158, \"hiv/aids\": 0.1, \"status\": \"Developing\"}, {\"country\": \"Morocco\", \"year\": 2010, \"gdp\": 2834.2472, \"hiv/aids\": 0.1, \"status\": \"Developing\"}, {\"country\": \"Mozambique\", \"year\": 2010, \"gdp\": 419.2258149, \"hiv/aids\": 10.8, \"status\": \"Developing\"}, {\"country\": \"Myanmar\", \"year\": 2010, \"gdp\": 987.7365832, \"hiv/aids\": 0.5, \"status\": \"Developing\"}, {\"country\": \"Namibia\", \"year\": 2010, \"gdp\": 5191.58381, \"hiv/aids\": 6.2, \"status\": \"Developing\"}, {\"country\": \"Nepal\", \"year\": 2010, \"gdp\": 592.1835216, \"hiv/aids\": 0.2, \"status\": \"Developing\"}, {\"country\": \"Netherlands\", \"year\": 2010, \"gdp\": 5338.25483, \"hiv/aids\": 0.1, \"status\": \"Developed\"}, {\"country\": \"New Zealand\", \"year\": 2010, \"gdp\": 33691.34837, \"hiv/aids\": 0.1, \"status\": \"Developed\"}, {\"country\": \"Nicaragua\", \"year\": 2010, \"gdp\": 1526.497938, \"hiv/aids\": 0.1, \"status\": \"Developing\"}, {\"country\": \"Niger\", \"year\": 2010, \"gdp\": 348.151511, \"hiv/aids\": 0.9, \"status\": \"Developing\"}, {\"country\": \"Nigeria\", \"year\": 2010, \"gdp\": 2327.3267, \"hiv/aids\": 4.8, \"status\": \"Developing\"}, {\"country\": \"Norway\", \"year\": 2010, \"gdp\": 87646.75346, \"hiv/aids\": 0.1, \"status\": \"Developed\"}, {\"country\": \"Oman\", \"year\": 2010, \"gdp\": 1928.74739, \"hiv/aids\": 0.1, \"status\": \"Developing\"}, {\"country\": \"Pakistan\", \"year\": 2010, \"gdp\": 14.142268, \"hiv/aids\": 0.1, \"status\": \"Developing\"}, {\"country\": \"Panama\", \"year\": 2010, \"gdp\": 7937.259931, \"hiv/aids\": 0.1, \"status\": \"Developing\"}, {\"country\": \"Papua New Guinea\", \"year\": 2010, \"gdp\": 1366.879112, \"hiv/aids\": 1.1, \"status\": \"Developing\"}, {\"country\": \"Paraguay\", \"year\": 2010, \"gdp\": 3225.591754, \"hiv/aids\": 0.1, \"status\": \"Developing\"}, {\"country\": \"Peru\", \"year\": 2010, \"gdp\": 522.493191, \"hiv/aids\": 0.2, \"status\": \"Developing\"}, {\"country\": \"Philippines\", \"year\": 2010, \"gdp\": 2129.499242, \"hiv/aids\": 0.1, \"status\": \"Developing\"}, {\"country\": \"Poland\", \"year\": 2010, \"gdp\": 12599.52486, \"hiv/aids\": 0.1, \"status\": \"Developed\"}, {\"country\": \"Portugal\", \"year\": 2010, \"gdp\": 22538.6548, \"hiv/aids\": 0.1, \"status\": \"Developed\"}, {\"country\": \"Qatar\", \"year\": 2010, \"gdp\": 736.22784, \"hiv/aids\": 0.1, \"status\": \"Developing\"}, {\"country\": \"Romania\", \"year\": 2010, \"gdp\": 8297.483621, \"hiv/aids\": 0.1, \"status\": \"Developed\"}, {\"country\": \"Russian Federation\", \"year\": 2010, \"gdp\": 1674.98771, \"hiv/aids\": 0.2, \"status\": \"Developing\"}, {\"country\": \"Rwanda\", \"year\": 2010, \"gdp\": 563.491487, \"hiv/aids\": 2.3, \"status\": \"Developing\"}, {\"country\": \"Samoa\", \"year\": 2010, \"gdp\": 3453.487434, \"hiv/aids\": 0.1, \"status\": \"Developing\"}, {\"country\": \"Sao Tome and Principe\", \"year\": 2010, \"gdp\": 1129.754961, \"hiv/aids\": 0.5, \"status\": \"Developing\"}, {\"country\": \"Saudi Arabia\", \"year\": 2010, \"gdp\": 19259.58726, \"hiv/aids\": 0.1, \"status\": \"Developing\"}, {\"country\": \"Senegal\", \"year\": 2010, \"gdp\": 11.631377, \"hiv/aids\": 0.4, \"status\": \"Developing\"}, {\"country\": \"Serbia\", \"year\": 2010, \"gdp\": 5411.87744, \"hiv/aids\": 0.1, \"status\": \"Developing\"}, {\"country\": \"Seychelles\", \"year\": 2010, \"gdp\": 184.68447, \"hiv/aids\": 0.1, \"status\": \"Developing\"}, {\"country\": \"Sierra Leone\", \"year\": 2010, \"gdp\": 45.128418, \"hiv/aids\": 1.6, \"status\": \"Developing\"}, {\"country\": \"Singapore\", \"year\": 2010, \"gdp\": 46569.67951, \"hiv/aids\": 0.1, \"status\": \"Developed\"}, {\"country\": \"Slovenia\", \"year\": 2010, \"gdp\": 23437.4722, \"hiv/aids\": 0.1, \"status\": \"Developed\"}, {\"country\": \"Solomon Islands\", \"year\": 2010, \"gdp\": 1272.44825, \"hiv/aids\": 0.1, \"status\": \"Developing\"}, {\"country\": \"South Africa\", \"year\": 2010, \"gdp\": 7362.76139, \"hiv/aids\": 11.0, \"status\": \"Developing\"}, {\"country\": \"South Sudan\", \"year\": 2010, \"gdp\": 1562.239346, \"hiv/aids\": 4.0, \"status\": \"Developing\"}, {\"country\": \"Spain\", \"year\": 2010, \"gdp\": 3736.228, \"hiv/aids\": 0.1, \"status\": \"Developed\"}, {\"country\": \"Sri Lanka\", \"year\": 2010, \"gdp\": 2819.511161, \"hiv/aids\": 0.1, \"status\": \"Developing\"}, {\"country\": \"Sudan\", \"year\": 2010, \"gdp\": 1476.47887, \"hiv/aids\": 0.3, \"status\": \"Developing\"}, {\"country\": \"Suriname\", \"year\": 2010, \"gdp\": 833.31332, \"hiv/aids\": 0.5, \"status\": \"Developing\"}, {\"country\": \"Swaziland\", \"year\": 2010, \"gdp\": 369.239336, \"hiv/aids\": 21.6, \"status\": \"Developing\"}, {\"country\": \"Sweden\", \"year\": 2010, \"gdp\": 5276.25591, \"hiv/aids\": 0.1, \"status\": \"Developed\"}, {\"country\": \"Switzerland\", \"year\": 2010, \"gdp\": 74276.71842, \"hiv/aids\": 0.1, \"status\": \"Developed\"}, {\"country\": \"Tajikistan\", \"year\": 2010, \"gdp\": 738.3475227, \"hiv/aids\": 0.2, \"status\": \"Developing\"}, {\"country\": \"Thailand\", \"year\": 2010, \"gdp\": 575.32176, \"hiv/aids\": 0.2, \"status\": \"Developing\"}, {\"country\": \"Timor-Leste\", \"year\": 2010, \"gdp\": 849.8626972, \"hiv/aids\": 0.1, \"status\": \"Developing\"}, {\"country\": \"Togo\", \"year\": 2010, \"gdp\": 487.9238913, \"hiv/aids\": 3.8, \"status\": \"Developing\"}, {\"country\": \"Tonga\", \"year\": 2010, \"gdp\": 3547.59975, \"hiv/aids\": 0.1, \"status\": \"Developing\"}, {\"country\": \"Trinidad and Tobago\", \"year\": 2010, \"gdp\": 16683.94578, \"hiv/aids\": 0.4, \"status\": \"Developing\"}, {\"country\": \"Tunisia\", \"year\": 2010, \"gdp\": 414.15177, \"hiv/aids\": 0.1, \"status\": \"Developing\"}, {\"country\": \"Turkey\", \"year\": 2010, \"gdp\": 1672.5693, \"hiv/aids\": 0.1, \"status\": \"Developing\"}, {\"country\": \"Turkmenistan\", \"year\": 2010, \"gdp\": 4439.23, \"hiv/aids\": 0.1, \"status\": \"Developing\"}, {\"country\": \"Uganda\", \"year\": 2010, \"gdp\": 594.9972557, \"hiv/aids\": 8.0, \"status\": \"Developing\"}, {\"country\": \"Ukraine\", \"year\": 2010, \"gdp\": 2965.142365, \"hiv/aids\": 0.2, \"status\": \"Developing\"}, {\"country\": \"United Arab Emirates\", \"year\": 2010, \"gdp\": 3549.14832, \"hiv/aids\": 0.1, \"status\": \"Developing\"}, {\"country\": \"Uruguay\", \"year\": 2010, \"gdp\": 11938.212, \"hiv/aids\": 0.1, \"status\": \"Developing\"}, {\"country\": \"Uzbekistan\", \"year\": 2010, \"gdp\": 1377.8214, \"hiv/aids\": 0.2, \"status\": \"Developing\"}, {\"country\": \"Vanuatu\", \"year\": 2010, \"gdp\": 2965.82434, \"hiv/aids\": 0.1, \"status\": \"Developing\"}, {\"country\": \"Zambia\", \"year\": 2010, \"gdp\": 1463.213573, \"hiv/aids\": 6.8, \"status\": \"Developing\"}, {\"country\": \"Zimbabwe\", \"year\": 2010, \"gdp\": 713.63562, \"hiv/aids\": 15.7, \"status\": \"Developing\"}]}}, {\"mode\": \"vega-lite\"});\n",
              "</script>"
            ],
            "text/plain": [
              "alt.Chart(...)"
            ]
          },
          "metadata": {},
          "execution_count": 13
        }
      ]
    },
    {
      "cell_type": "markdown",
      "source": [
        "There are also major influential outliers of the variable 'hiv/aids' we need to exclude. As a cutoff, we choose to only include countries with hiv/aids deaths per 1,000 live births of below 3."
      ],
      "metadata": {
        "id": "Pm6bkaNrz-mb"
      }
    },
    {
      "cell_type": "markdown",
      "source": [
        "The countries are not yet included in the descriptive statistics. We want to see the country count as well"
      ],
      "metadata": {
        "id": "X2SycI_nvXij"
      }
    },
    {
      "cell_type": "code",
      "source": [
        "\n",
        "NaN_removed.describe(include = ['object'])"
      ],
      "metadata": {
        "colab": {
          "base_uri": "https://localhost:8080/",
          "height": 175
        },
        "id": "STek58TVpoFx",
        "outputId": "c7ff131d-07e4-4a4a-e6a2-f04294e26edc"
      },
      "execution_count": 14,
      "outputs": [
        {
          "output_type": "execute_result",
          "data": {
            "text/plain": [
              "            country      status\n",
              "count           156         156\n",
              "unique          156           2\n",
              "top     Afghanistan  Developing\n",
              "freq              1         128"
            ],
            "text/html": [
              "\n",
              "  <div id=\"df-d5c33824-9691-4e1f-b7e6-675bc4276e91\">\n",
              "    <div class=\"colab-df-container\">\n",
              "      <div>\n",
              "<style scoped>\n",
              "    .dataframe tbody tr th:only-of-type {\n",
              "        vertical-align: middle;\n",
              "    }\n",
              "\n",
              "    .dataframe tbody tr th {\n",
              "        vertical-align: top;\n",
              "    }\n",
              "\n",
              "    .dataframe thead th {\n",
              "        text-align: right;\n",
              "    }\n",
              "</style>\n",
              "<table border=\"1\" class=\"dataframe\">\n",
              "  <thead>\n",
              "    <tr style=\"text-align: right;\">\n",
              "      <th></th>\n",
              "      <th>country</th>\n",
              "      <th>status</th>\n",
              "    </tr>\n",
              "  </thead>\n",
              "  <tbody>\n",
              "    <tr>\n",
              "      <th>count</th>\n",
              "      <td>156</td>\n",
              "      <td>156</td>\n",
              "    </tr>\n",
              "    <tr>\n",
              "      <th>unique</th>\n",
              "      <td>156</td>\n",
              "      <td>2</td>\n",
              "    </tr>\n",
              "    <tr>\n",
              "      <th>top</th>\n",
              "      <td>Afghanistan</td>\n",
              "      <td>Developing</td>\n",
              "    </tr>\n",
              "    <tr>\n",
              "      <th>freq</th>\n",
              "      <td>1</td>\n",
              "      <td>128</td>\n",
              "    </tr>\n",
              "  </tbody>\n",
              "</table>\n",
              "</div>\n",
              "      <button class=\"colab-df-convert\" onclick=\"convertToInteractive('df-d5c33824-9691-4e1f-b7e6-675bc4276e91')\"\n",
              "              title=\"Convert this dataframe to an interactive table.\"\n",
              "              style=\"display:none;\">\n",
              "        \n",
              "  <svg xmlns=\"http://www.w3.org/2000/svg\" height=\"24px\"viewBox=\"0 0 24 24\"\n",
              "       width=\"24px\">\n",
              "    <path d=\"M0 0h24v24H0V0z\" fill=\"none\"/>\n",
              "    <path d=\"M18.56 5.44l.94 2.06.94-2.06 2.06-.94-2.06-.94-.94-2.06-.94 2.06-2.06.94zm-11 1L8.5 8.5l.94-2.06 2.06-.94-2.06-.94L8.5 2.5l-.94 2.06-2.06.94zm10 10l.94 2.06.94-2.06 2.06-.94-2.06-.94-.94-2.06-.94 2.06-2.06.94z\"/><path d=\"M17.41 7.96l-1.37-1.37c-.4-.4-.92-.59-1.43-.59-.52 0-1.04.2-1.43.59L10.3 9.45l-7.72 7.72c-.78.78-.78 2.05 0 2.83L4 21.41c.39.39.9.59 1.41.59.51 0 1.02-.2 1.41-.59l7.78-7.78 2.81-2.81c.8-.78.8-2.07 0-2.86zM5.41 20L4 18.59l7.72-7.72 1.47 1.35L5.41 20z\"/>\n",
              "  </svg>\n",
              "      </button>\n",
              "      \n",
              "  <style>\n",
              "    .colab-df-container {\n",
              "      display:flex;\n",
              "      flex-wrap:wrap;\n",
              "      gap: 12px;\n",
              "    }\n",
              "\n",
              "    .colab-df-convert {\n",
              "      background-color: #E8F0FE;\n",
              "      border: none;\n",
              "      border-radius: 50%;\n",
              "      cursor: pointer;\n",
              "      display: none;\n",
              "      fill: #1967D2;\n",
              "      height: 32px;\n",
              "      padding: 0 0 0 0;\n",
              "      width: 32px;\n",
              "    }\n",
              "\n",
              "    .colab-df-convert:hover {\n",
              "      background-color: #E2EBFA;\n",
              "      box-shadow: 0px 1px 2px rgba(60, 64, 67, 0.3), 0px 1px 3px 1px rgba(60, 64, 67, 0.15);\n",
              "      fill: #174EA6;\n",
              "    }\n",
              "\n",
              "    [theme=dark] .colab-df-convert {\n",
              "      background-color: #3B4455;\n",
              "      fill: #D2E3FC;\n",
              "    }\n",
              "\n",
              "    [theme=dark] .colab-df-convert:hover {\n",
              "      background-color: #434B5C;\n",
              "      box-shadow: 0px 1px 3px 1px rgba(0, 0, 0, 0.15);\n",
              "      filter: drop-shadow(0px 1px 2px rgba(0, 0, 0, 0.3));\n",
              "      fill: #FFFFFF;\n",
              "    }\n",
              "  </style>\n",
              "\n",
              "      <script>\n",
              "        const buttonEl =\n",
              "          document.querySelector('#df-d5c33824-9691-4e1f-b7e6-675bc4276e91 button.colab-df-convert');\n",
              "        buttonEl.style.display =\n",
              "          google.colab.kernel.accessAllowed ? 'block' : 'none';\n",
              "\n",
              "        async function convertToInteractive(key) {\n",
              "          const element = document.querySelector('#df-d5c33824-9691-4e1f-b7e6-675bc4276e91');\n",
              "          const dataTable =\n",
              "            await google.colab.kernel.invokeFunction('convertToInteractive',\n",
              "                                                     [key], {});\n",
              "          if (!dataTable) return;\n",
              "\n",
              "          const docLinkHtml = 'Like what you see? Visit the ' +\n",
              "            '<a target=\"_blank\" href=https://colab.research.google.com/notebooks/data_table.ipynb>data table notebook</a>'\n",
              "            + ' to learn more about interactive tables.';\n",
              "          element.innerHTML = '';\n",
              "          dataTable['output_type'] = 'display_data';\n",
              "          await google.colab.output.renderOutput(dataTable, element);\n",
              "          const docLink = document.createElement('div');\n",
              "          docLink.innerHTML = docLinkHtml;\n",
              "          element.appendChild(docLink);\n",
              "        }\n",
              "      </script>\n",
              "    </div>\n",
              "  </div>\n",
              "  "
            ]
          },
          "metadata": {},
          "execution_count": 14
        }
      ]
    },
    {
      "cell_type": "markdown",
      "source": [
        "Each row belongs to only one country, which is logical since we selected data from only the year 2010. We see that 128 countries are developing and only 28 are developed countries."
      ],
      "metadata": {
        "id": "13RMsd81pwlI"
      }
    },
    {
      "cell_type": "markdown",
      "source": [
        "From the dataframe 'NaN_removed', we want to make a new dataframe without the major influential outliers. First, we rename the 'hiv/aids' column to 'hiv_aids' to make it more readable and for error handling.\n"
      ],
      "metadata": {
        "id": "RXeMNDLzLdn5"
      }
    },
    {
      "cell_type": "code",
      "source": [
        "NaN_removed2 = NaN_removed.rename(columns = {'hiv/aids': 'hiv_aids'})\n",
        "print(NaN_removed2)\n",
        "\n"
      ],
      "metadata": {
        "colab": {
          "base_uri": "https://localhost:8080/"
        },
        "id": "kuJLYubBrsP6",
        "outputId": "04e7a832-972e-4c7f-96b8-48dd32107f0f"
      },
      "execution_count": 15,
      "outputs": [
        {
          "output_type": "stream",
          "name": "stdout",
          "text": [
            "                  country  year           gdp  hiv_aids      status\n",
            "5             Afghanistan  2010    553.328940       0.1  Developing\n",
            "21                Albania  2010    494.358832       0.1  Developing\n",
            "37                Algeria  2010   4463.394675       0.1  Developing\n",
            "53                 Angola  2010   3529.534820       2.5  Developing\n",
            "69    Antigua and Barbuda  2010  12126.876140       0.1  Developing\n",
            "...                   ...   ...           ...       ...         ...\n",
            "2815              Uruguay  2010  11938.212000       0.1  Developing\n",
            "2831           Uzbekistan  2010   1377.821400       0.2  Developing\n",
            "2847              Vanuatu  2010   2965.824340       0.1  Developing\n",
            "2911               Zambia  2010   1463.213573       6.8  Developing\n",
            "2927             Zimbabwe  2010    713.635620      15.7  Developing\n",
            "\n",
            "[156 rows x 5 columns]\n"
          ]
        }
      ]
    },
    {
      "cell_type": "markdown",
      "source": [
        "Now, we create a definitive dataframe without the major influential outliers."
      ],
      "metadata": {
        "id": "b9EuiDFTf9AQ"
      }
    },
    {
      "cell_type": "code",
      "source": [
        "Health_factors_definitive = NaN_removed2.loc[(NaN_removed2.gdp < 10000) & (NaN_removed2.hiv_aids < 3), :]\n",
        "print(Health_factors_definitive)\n",
        "\n",
        "\n"
      ],
      "metadata": {
        "colab": {
          "base_uri": "https://localhost:8080/"
        },
        "id": "2gX3lOKmOQDv",
        "outputId": "a7752c78-0ce3-4241-90f2-8e8d00a7b337"
      },
      "execution_count": 16,
      "outputs": [
        {
          "output_type": "stream",
          "name": "stdout",
          "text": [
            "                   country  year          gdp  hiv_aids      status\n",
            "5              Afghanistan  2010   553.328940       0.1  Developing\n",
            "21                 Albania  2010   494.358832       0.1  Developing\n",
            "37                 Algeria  2010  4463.394675       0.1  Developing\n",
            "53                  Angola  2010  3529.534820       2.5  Developing\n",
            "85               Argentina  2010  1276.265000       0.1  Developing\n",
            "...                    ...   ...          ...       ...         ...\n",
            "2702          Turkmenistan  2010  4439.230000       0.1  Developing\n",
            "2735               Ukraine  2010  2965.142365       0.2  Developing\n",
            "2751  United Arab Emirates  2010  3549.148320       0.1  Developing\n",
            "2831            Uzbekistan  2010  1377.821400       0.2  Developing\n",
            "2847               Vanuatu  2010  2965.824340       0.1  Developing\n",
            "\n",
            "[109 rows x 5 columns]\n"
          ]
        }
      ]
    },
    {
      "cell_type": "markdown",
      "source": [
        "After this processing, the dataset now contains 109 countries. To see if the exclusion of influential outliers worked, we will make the two plots again.\n"
      ],
      "metadata": {
        "id": "ALnOpFf7Q9hx"
      }
    },
    {
      "cell_type": "code",
      "source": [
        "alt.Chart(Health_factors_definitive).mark_point().encode(\n",
        "    x = 'gdp',\n",
        ")"
      ],
      "metadata": {
        "colab": {
          "base_uri": "https://localhost:8080/",
          "height": 84
        },
        "id": "wT3mTgNqRLMS",
        "outputId": "48714e0e-0c2c-4baf-9989-977e627713c0"
      },
      "execution_count": 17,
      "outputs": [
        {
          "output_type": "execute_result",
          "data": {
            "text/html": [
              "\n",
              "<div id=\"altair-viz-dfeecf7e568648e498cfbed4fbd5cb4e\"></div>\n",
              "<script type=\"text/javascript\">\n",
              "  var VEGA_DEBUG = (typeof VEGA_DEBUG == \"undefined\") ? {} : VEGA_DEBUG;\n",
              "  (function(spec, embedOpt){\n",
              "    let outputDiv = document.currentScript.previousElementSibling;\n",
              "    if (outputDiv.id !== \"altair-viz-dfeecf7e568648e498cfbed4fbd5cb4e\") {\n",
              "      outputDiv = document.getElementById(\"altair-viz-dfeecf7e568648e498cfbed4fbd5cb4e\");\n",
              "    }\n",
              "    const paths = {\n",
              "      \"vega\": \"https://cdn.jsdelivr.net/npm//vega@5?noext\",\n",
              "      \"vega-lib\": \"https://cdn.jsdelivr.net/npm//vega-lib?noext\",\n",
              "      \"vega-lite\": \"https://cdn.jsdelivr.net/npm//vega-lite@4.17.0?noext\",\n",
              "      \"vega-embed\": \"https://cdn.jsdelivr.net/npm//vega-embed@6?noext\",\n",
              "    };\n",
              "\n",
              "    function maybeLoadScript(lib, version) {\n",
              "      var key = `${lib.replace(\"-\", \"\")}_version`;\n",
              "      return (VEGA_DEBUG[key] == version) ?\n",
              "        Promise.resolve(paths[lib]) :\n",
              "        new Promise(function(resolve, reject) {\n",
              "          var s = document.createElement('script');\n",
              "          document.getElementsByTagName(\"head\")[0].appendChild(s);\n",
              "          s.async = true;\n",
              "          s.onload = () => {\n",
              "            VEGA_DEBUG[key] = version;\n",
              "            return resolve(paths[lib]);\n",
              "          };\n",
              "          s.onerror = () => reject(`Error loading script: ${paths[lib]}`);\n",
              "          s.src = paths[lib];\n",
              "        });\n",
              "    }\n",
              "\n",
              "    function showError(err) {\n",
              "      outputDiv.innerHTML = `<div class=\"error\" style=\"color:red;\">${err}</div>`;\n",
              "      throw err;\n",
              "    }\n",
              "\n",
              "    function displayChart(vegaEmbed) {\n",
              "      vegaEmbed(outputDiv, spec, embedOpt)\n",
              "        .catch(err => showError(`Javascript Error: ${err.message}<br>This usually means there's a typo in your chart specification. See the javascript console for the full traceback.`));\n",
              "    }\n",
              "\n",
              "    if(typeof define === \"function\" && define.amd) {\n",
              "      requirejs.config({paths});\n",
              "      require([\"vega-embed\"], displayChart, err => showError(`Error loading script: ${err.message}`));\n",
              "    } else {\n",
              "      maybeLoadScript(\"vega\", \"5\")\n",
              "        .then(() => maybeLoadScript(\"vega-lite\", \"4.17.0\"))\n",
              "        .then(() => maybeLoadScript(\"vega-embed\", \"6\"))\n",
              "        .catch(showError)\n",
              "        .then(() => displayChart(vegaEmbed));\n",
              "    }\n",
              "  })({\"config\": {\"view\": {\"continuousWidth\": 400, \"continuousHeight\": 300}}, \"data\": {\"name\": \"data-4203d97b3550617b2bd06baec0c0ce0b\"}, \"mark\": \"point\", \"encoding\": {\"x\": {\"field\": \"gdp\", \"type\": \"quantitative\"}}, \"$schema\": \"https://vega.github.io/schema/vega-lite/v4.17.0.json\", \"datasets\": {\"data-4203d97b3550617b2bd06baec0c0ce0b\": [{\"country\": \"Afghanistan\", \"year\": 2010, \"gdp\": 553.32894, \"hiv_aids\": 0.1, \"status\": \"Developing\"}, {\"country\": \"Albania\", \"year\": 2010, \"gdp\": 494.358832, \"hiv_aids\": 0.1, \"status\": \"Developing\"}, {\"country\": \"Algeria\", \"year\": 2010, \"gdp\": 4463.394675, \"hiv_aids\": 0.1, \"status\": \"Developing\"}, {\"country\": \"Angola\", \"year\": 2010, \"gdp\": 3529.53482, \"hiv_aids\": 2.5, \"status\": \"Developing\"}, {\"country\": \"Argentina\", \"year\": 2010, \"gdp\": 1276.265, \"hiv_aids\": 0.1, \"status\": \"Developing\"}, {\"country\": \"Armenia\", \"year\": 2010, \"gdp\": 3218.381655, \"hiv_aids\": 0.1, \"status\": \"Developing\"}, {\"country\": \"Azerbaijan\", \"year\": 2010, \"gdp\": 5842.85784, \"hiv_aids\": 0.1, \"status\": \"Developing\"}, {\"country\": \"Bahrain\", \"year\": 2010, \"gdp\": 2722.1389, \"hiv_aids\": 0.1, \"status\": \"Developing\"}, {\"country\": \"Bangladesh\", \"year\": 2010, \"gdp\": 757.6717572, \"hiv_aids\": 0.1, \"status\": \"Developing\"}, {\"country\": \"Barbados\", \"year\": 2010, \"gdp\": 1595.91232, \"hiv_aids\": 0.1, \"status\": \"Developing\"}, {\"country\": \"Belarus\", \"year\": 2010, \"gdp\": 63.38877, \"hiv_aids\": 0.1, \"status\": \"Developing\"}, {\"country\": \"Belgium\", \"year\": 2010, \"gdp\": 4438.23741, \"hiv_aids\": 0.1, \"status\": \"Developed\"}, {\"country\": \"Belize\", \"year\": 2010, \"gdp\": 4344.15177, \"hiv_aids\": 0.2, \"status\": \"Developing\"}, {\"country\": \"Benin\", \"year\": 2010, \"gdp\": 757.695974, \"hiv_aids\": 1.4, \"status\": \"Developing\"}, {\"country\": \"Bhutan\", \"year\": 2010, \"gdp\": 2178.921383, \"hiv_aids\": 0.5, \"status\": \"Developing\"}, {\"country\": \"Bosnia and Herzegovina\", \"year\": 2010, \"gdp\": 4611.47298, \"hiv_aids\": 0.1, \"status\": \"Developing\"}, {\"country\": \"Bulgaria\", \"year\": 2010, \"gdp\": 6843.263289, \"hiv_aids\": 0.1, \"status\": \"Developed\"}, {\"country\": \"Burkina Faso\", \"year\": 2010, \"gdp\": 575.4464527, \"hiv_aids\": 1.0, \"status\": \"Developing\"}, {\"country\": \"Burundi\", \"year\": 2010, \"gdp\": 231.1943256, \"hiv_aids\": 1.9, \"status\": \"Developing\"}, {\"country\": \"Cabo Verde\", \"year\": 2010, \"gdp\": 3312.825985, \"hiv_aids\": 0.4, \"status\": \"Developing\"}, {\"country\": \"Cambodia\", \"year\": 2010, \"gdp\": 785.6928841, \"hiv_aids\": 0.5, \"status\": \"Developing\"}, {\"country\": \"Chile\", \"year\": 2010, \"gdp\": 1286.17764, \"hiv_aids\": 0.1, \"status\": \"Developing\"}, {\"country\": \"China\", \"year\": 2010, \"gdp\": 456.512487, \"hiv_aids\": 0.1, \"status\": \"Developing\"}, {\"country\": \"Colombia\", \"year\": 2010, \"gdp\": 625.65544, \"hiv_aids\": 0.1, \"status\": \"Developing\"}, {\"country\": \"Comoros\", \"year\": 2010, \"gdp\": 769.1742883, \"hiv_aids\": 0.1, \"status\": \"Developing\"}, {\"country\": \"Costa Rica\", \"year\": 2010, \"gdp\": 8199.414621, \"hiv_aids\": 0.1, \"status\": \"Developing\"}, {\"country\": \"Croatia\", \"year\": 2010, \"gdp\": 1355.74586, \"hiv_aids\": 0.1, \"status\": \"Developed\"}, {\"country\": \"Cuba\", \"year\": 2010, \"gdp\": 5676.14143, \"hiv_aids\": 0.1, \"status\": \"Developing\"}, {\"country\": \"Cyprus\", \"year\": 2010, \"gdp\": 3818.46396, \"hiv_aids\": 0.1, \"status\": \"Developed\"}, {\"country\": \"Denmark\", \"year\": 2010, \"gdp\": 5841.41122, \"hiv_aids\": 0.1, \"status\": \"Developed\"}, {\"country\": \"Dominican Republic\", \"year\": 2010, \"gdp\": 5451.6696, \"hiv_aids\": 0.9, \"status\": \"Developing\"}, {\"country\": \"Ecuador\", \"year\": 2010, \"gdp\": 4657.32361, \"hiv_aids\": 0.1, \"status\": \"Developing\"}, {\"country\": \"El Salvador\", \"year\": 2010, \"gdp\": 3474.392445, \"hiv_aids\": 0.3, \"status\": \"Developing\"}, {\"country\": \"Eritrea\", \"year\": 2010, \"gdp\": 482.14994, \"hiv_aids\": 0.9, \"status\": \"Developing\"}, {\"country\": \"Ethiopia\", \"year\": 2010, \"gdp\": 341.39992, \"hiv_aids\": 1.7, \"status\": \"Developing\"}, {\"country\": \"Fiji\", \"year\": 2010, \"gdp\": 3651.966784, \"hiv_aids\": 0.1, \"status\": \"Developing\"}, {\"country\": \"Finland\", \"year\": 2010, \"gdp\": 4622.41516, \"hiv_aids\": 0.1, \"status\": \"Developing\"}, {\"country\": \"France\", \"year\": 2010, \"gdp\": 473.34279, \"hiv_aids\": 0.1, \"status\": \"Developing\"}, {\"country\": \"Georgia\", \"year\": 2010, \"gdp\": 2964.47734, \"hiv_aids\": 0.1, \"status\": \"Developing\"}, {\"country\": \"Ghana\", \"year\": 2010, \"gdp\": 1312.67557, \"hiv_aids\": 1.9, \"status\": \"Developing\"}, {\"country\": \"Grenada\", \"year\": 2010, \"gdp\": 7365.666659, \"hiv_aids\": 0.1, \"status\": \"Developing\"}, {\"country\": \"Guatemala\", \"year\": 2010, \"gdp\": 2825.5247, \"hiv_aids\": 0.4, \"status\": \"Developing\"}, {\"country\": \"Guinea\", \"year\": 2010, \"gdp\": 438.7513346, \"hiv_aids\": 2.2, \"status\": \"Developing\"}, {\"country\": \"Guyana\", \"year\": 2010, \"gdp\": 326.281212, \"hiv_aids\": 0.4, \"status\": \"Developing\"}, {\"country\": \"Haiti\", \"year\": 2010, \"gdp\": 662.2795182, \"hiv_aids\": 1.9, \"status\": \"Developing\"}, {\"country\": \"Honduras\", \"year\": 2010, \"gdp\": 1932.85829, \"hiv_aids\": 0.4, \"status\": \"Developing\"}, {\"country\": \"Hungary\", \"year\": 2010, \"gdp\": 1325.53379, \"hiv_aids\": 0.1, \"status\": \"Developed\"}, {\"country\": \"India\", \"year\": 2010, \"gdp\": 1345.77153, \"hiv_aids\": 0.2, \"status\": \"Developing\"}, {\"country\": \"Indonesia\", \"year\": 2010, \"gdp\": 3113.48635, \"hiv_aids\": 0.3, \"status\": \"Developing\"}, {\"country\": \"Iraq\", \"year\": 2010, \"gdp\": 452.74948, \"hiv_aids\": 0.1, \"status\": \"Developing\"}, {\"country\": \"Israel\", \"year\": 2010, \"gdp\": 3661.994, \"hiv_aids\": 0.1, \"status\": \"Developing\"}, {\"country\": \"Jamaica\", \"year\": 2010, \"gdp\": 4682.728424, \"hiv_aids\": 0.5, \"status\": \"Developing\"}, {\"country\": \"Japan\", \"year\": 2010, \"gdp\": 4457.67639, \"hiv_aids\": 0.1, \"status\": \"Developed\"}, {\"country\": \"Jordan\", \"year\": 2010, \"gdp\": 3679.19275, \"hiv_aids\": 0.1, \"status\": \"Developing\"}, {\"country\": \"Kazakhstan\", \"year\": 2010, \"gdp\": 97.649972, \"hiv_aids\": 0.1, \"status\": \"Developing\"}, {\"country\": \"Kiribati\", \"year\": 2010, \"gdp\": 1493.1651, \"hiv_aids\": 0.1, \"status\": \"Developing\"}, {\"country\": \"Lebanon\", \"year\": 2010, \"gdp\": 8763.826274, \"hiv_aids\": 0.1, \"status\": \"Developing\"}, {\"country\": \"Liberia\", \"year\": 2010, \"gdp\": 327.42597, \"hiv_aids\": 1.8, \"status\": \"Developing\"}, {\"country\": \"Libya\", \"year\": 2010, \"gdp\": 1212.56217, \"hiv_aids\": 0.1, \"status\": \"Developing\"}, {\"country\": \"Madagascar\", \"year\": 2010, \"gdp\": 412.739341, \"hiv_aids\": 0.5, \"status\": \"Developing\"}, {\"country\": \"Malaysia\", \"year\": 2010, \"gdp\": 971.356987, \"hiv_aids\": 0.1, \"status\": \"Developing\"}, {\"country\": \"Maldives\", \"year\": 2010, \"gdp\": 633.79498, \"hiv_aids\": 0.1, \"status\": \"Developing\"}, {\"country\": \"Mali\", \"year\": 2010, \"gdp\": 78.377632, \"hiv_aids\": 1.5, \"status\": \"Developing\"}, {\"country\": \"Malta\", \"year\": 2010, \"gdp\": 2187.79469, \"hiv_aids\": 0.1, \"status\": \"Developed\"}, {\"country\": \"Mauritania\", \"year\": 2010, \"gdp\": 123.383675, \"hiv_aids\": 1.2, \"status\": \"Developing\"}, {\"country\": \"Mauritius\", \"year\": 2010, \"gdp\": 8.376432, \"hiv_aids\": 0.2, \"status\": \"Developing\"}, {\"country\": \"Mexico\", \"year\": 2010, \"gdp\": 8959.581416, \"hiv_aids\": 0.1, \"status\": \"Developing\"}, {\"country\": \"Mongolia\", \"year\": 2010, \"gdp\": 265.353659, \"hiv_aids\": 0.1, \"status\": \"Developing\"}, {\"country\": \"Montenegro\", \"year\": 2010, \"gdp\": 6682.281158, \"hiv_aids\": 0.1, \"status\": \"Developing\"}, {\"country\": \"Morocco\", \"year\": 2010, \"gdp\": 2834.2472, \"hiv_aids\": 0.1, \"status\": \"Developing\"}, {\"country\": \"Myanmar\", \"year\": 2010, \"gdp\": 987.7365832, \"hiv_aids\": 0.5, \"status\": \"Developing\"}, {\"country\": \"Nepal\", \"year\": 2010, \"gdp\": 592.1835216, \"hiv_aids\": 0.2, \"status\": \"Developing\"}, {\"country\": \"Netherlands\", \"year\": 2010, \"gdp\": 5338.25483, \"hiv_aids\": 0.1, \"status\": \"Developed\"}, {\"country\": \"Nicaragua\", \"year\": 2010, \"gdp\": 1526.497938, \"hiv_aids\": 0.1, \"status\": \"Developing\"}, {\"country\": \"Niger\", \"year\": 2010, \"gdp\": 348.151511, \"hiv_aids\": 0.9, \"status\": \"Developing\"}, {\"country\": \"Oman\", \"year\": 2010, \"gdp\": 1928.74739, \"hiv_aids\": 0.1, \"status\": \"Developing\"}, {\"country\": \"Pakistan\", \"year\": 2010, \"gdp\": 14.142268, \"hiv_aids\": 0.1, \"status\": \"Developing\"}, {\"country\": \"Panama\", \"year\": 2010, \"gdp\": 7937.259931, \"hiv_aids\": 0.1, \"status\": \"Developing\"}, {\"country\": \"Papua New Guinea\", \"year\": 2010, \"gdp\": 1366.879112, \"hiv_aids\": 1.1, \"status\": \"Developing\"}, {\"country\": \"Paraguay\", \"year\": 2010, \"gdp\": 3225.591754, \"hiv_aids\": 0.1, \"status\": \"Developing\"}, {\"country\": \"Peru\", \"year\": 2010, \"gdp\": 522.493191, \"hiv_aids\": 0.2, \"status\": \"Developing\"}, {\"country\": \"Philippines\", \"year\": 2010, \"gdp\": 2129.499242, \"hiv_aids\": 0.1, \"status\": \"Developing\"}, {\"country\": \"Qatar\", \"year\": 2010, \"gdp\": 736.22784, \"hiv_aids\": 0.1, \"status\": \"Developing\"}, {\"country\": \"Romania\", \"year\": 2010, \"gdp\": 8297.483621, \"hiv_aids\": 0.1, \"status\": \"Developed\"}, {\"country\": \"Russian Federation\", \"year\": 2010, \"gdp\": 1674.98771, \"hiv_aids\": 0.2, \"status\": \"Developing\"}, {\"country\": \"Rwanda\", \"year\": 2010, \"gdp\": 563.491487, \"hiv_aids\": 2.3, \"status\": \"Developing\"}, {\"country\": \"Samoa\", \"year\": 2010, \"gdp\": 3453.487434, \"hiv_aids\": 0.1, \"status\": \"Developing\"}, {\"country\": \"Sao Tome and Principe\", \"year\": 2010, \"gdp\": 1129.754961, \"hiv_aids\": 0.5, \"status\": \"Developing\"}, {\"country\": \"Senegal\", \"year\": 2010, \"gdp\": 11.631377, \"hiv_aids\": 0.4, \"status\": \"Developing\"}, {\"country\": \"Serbia\", \"year\": 2010, \"gdp\": 5411.87744, \"hiv_aids\": 0.1, \"status\": \"Developing\"}, {\"country\": \"Seychelles\", \"year\": 2010, \"gdp\": 184.68447, \"hiv_aids\": 0.1, \"status\": \"Developing\"}, {\"country\": \"Sierra Leone\", \"year\": 2010, \"gdp\": 45.128418, \"hiv_aids\": 1.6, \"status\": \"Developing\"}, {\"country\": \"Solomon Islands\", \"year\": 2010, \"gdp\": 1272.44825, \"hiv_aids\": 0.1, \"status\": \"Developing\"}, {\"country\": \"Spain\", \"year\": 2010, \"gdp\": 3736.228, \"hiv_aids\": 0.1, \"status\": \"Developed\"}, {\"country\": \"Sri Lanka\", \"year\": 2010, \"gdp\": 2819.511161, \"hiv_aids\": 0.1, \"status\": \"Developing\"}, {\"country\": \"Sudan\", \"year\": 2010, \"gdp\": 1476.47887, \"hiv_aids\": 0.3, \"status\": \"Developing\"}, {\"country\": \"Suriname\", \"year\": 2010, \"gdp\": 833.31332, \"hiv_aids\": 0.5, \"status\": \"Developing\"}, {\"country\": \"Sweden\", \"year\": 2010, \"gdp\": 5276.25591, \"hiv_aids\": 0.1, \"status\": \"Developed\"}, {\"country\": \"Tajikistan\", \"year\": 2010, \"gdp\": 738.3475227, \"hiv_aids\": 0.2, \"status\": \"Developing\"}, {\"country\": \"Thailand\", \"year\": 2010, \"gdp\": 575.32176, \"hiv_aids\": 0.2, \"status\": \"Developing\"}, {\"country\": \"Timor-Leste\", \"year\": 2010, \"gdp\": 849.8626972, \"hiv_aids\": 0.1, \"status\": \"Developing\"}, {\"country\": \"Tonga\", \"year\": 2010, \"gdp\": 3547.59975, \"hiv_aids\": 0.1, \"status\": \"Developing\"}, {\"country\": \"Tunisia\", \"year\": 2010, \"gdp\": 414.15177, \"hiv_aids\": 0.1, \"status\": \"Developing\"}, {\"country\": \"Turkey\", \"year\": 2010, \"gdp\": 1672.5693, \"hiv_aids\": 0.1, \"status\": \"Developing\"}, {\"country\": \"Turkmenistan\", \"year\": 2010, \"gdp\": 4439.23, \"hiv_aids\": 0.1, \"status\": \"Developing\"}, {\"country\": \"Ukraine\", \"year\": 2010, \"gdp\": 2965.142365, \"hiv_aids\": 0.2, \"status\": \"Developing\"}, {\"country\": \"United Arab Emirates\", \"year\": 2010, \"gdp\": 3549.14832, \"hiv_aids\": 0.1, \"status\": \"Developing\"}, {\"country\": \"Uzbekistan\", \"year\": 2010, \"gdp\": 1377.8214, \"hiv_aids\": 0.2, \"status\": \"Developing\"}, {\"country\": \"Vanuatu\", \"year\": 2010, \"gdp\": 2965.82434, \"hiv_aids\": 0.1, \"status\": \"Developing\"}]}}, {\"mode\": \"vega-lite\"});\n",
              "</script>"
            ],
            "text/plain": [
              "alt.Chart(...)"
            ]
          },
          "metadata": {},
          "execution_count": 17
        }
      ]
    },
    {
      "cell_type": "code",
      "source": [
        "alt.Chart(Health_factors_definitive).mark_point().encode(\n",
        "    x = 'hiv_aids',\n",
        ")"
      ],
      "metadata": {
        "colab": {
          "base_uri": "https://localhost:8080/",
          "height": 84
        },
        "id": "X9RbU8vJRW74",
        "outputId": "92350a16-7dff-4a4b-e7e9-baece106290f"
      },
      "execution_count": 18,
      "outputs": [
        {
          "output_type": "execute_result",
          "data": {
            "text/html": [
              "\n",
              "<div id=\"altair-viz-d437b139f0b34ea7b87bb0042f9756bc\"></div>\n",
              "<script type=\"text/javascript\">\n",
              "  var VEGA_DEBUG = (typeof VEGA_DEBUG == \"undefined\") ? {} : VEGA_DEBUG;\n",
              "  (function(spec, embedOpt){\n",
              "    let outputDiv = document.currentScript.previousElementSibling;\n",
              "    if (outputDiv.id !== \"altair-viz-d437b139f0b34ea7b87bb0042f9756bc\") {\n",
              "      outputDiv = document.getElementById(\"altair-viz-d437b139f0b34ea7b87bb0042f9756bc\");\n",
              "    }\n",
              "    const paths = {\n",
              "      \"vega\": \"https://cdn.jsdelivr.net/npm//vega@5?noext\",\n",
              "      \"vega-lib\": \"https://cdn.jsdelivr.net/npm//vega-lib?noext\",\n",
              "      \"vega-lite\": \"https://cdn.jsdelivr.net/npm//vega-lite@4.17.0?noext\",\n",
              "      \"vega-embed\": \"https://cdn.jsdelivr.net/npm//vega-embed@6?noext\",\n",
              "    };\n",
              "\n",
              "    function maybeLoadScript(lib, version) {\n",
              "      var key = `${lib.replace(\"-\", \"\")}_version`;\n",
              "      return (VEGA_DEBUG[key] == version) ?\n",
              "        Promise.resolve(paths[lib]) :\n",
              "        new Promise(function(resolve, reject) {\n",
              "          var s = document.createElement('script');\n",
              "          document.getElementsByTagName(\"head\")[0].appendChild(s);\n",
              "          s.async = true;\n",
              "          s.onload = () => {\n",
              "            VEGA_DEBUG[key] = version;\n",
              "            return resolve(paths[lib]);\n",
              "          };\n",
              "          s.onerror = () => reject(`Error loading script: ${paths[lib]}`);\n",
              "          s.src = paths[lib];\n",
              "        });\n",
              "    }\n",
              "\n",
              "    function showError(err) {\n",
              "      outputDiv.innerHTML = `<div class=\"error\" style=\"color:red;\">${err}</div>`;\n",
              "      throw err;\n",
              "    }\n",
              "\n",
              "    function displayChart(vegaEmbed) {\n",
              "      vegaEmbed(outputDiv, spec, embedOpt)\n",
              "        .catch(err => showError(`Javascript Error: ${err.message}<br>This usually means there's a typo in your chart specification. See the javascript console for the full traceback.`));\n",
              "    }\n",
              "\n",
              "    if(typeof define === \"function\" && define.amd) {\n",
              "      requirejs.config({paths});\n",
              "      require([\"vega-embed\"], displayChart, err => showError(`Error loading script: ${err.message}`));\n",
              "    } else {\n",
              "      maybeLoadScript(\"vega\", \"5\")\n",
              "        .then(() => maybeLoadScript(\"vega-lite\", \"4.17.0\"))\n",
              "        .then(() => maybeLoadScript(\"vega-embed\", \"6\"))\n",
              "        .catch(showError)\n",
              "        .then(() => displayChart(vegaEmbed));\n",
              "    }\n",
              "  })({\"config\": {\"view\": {\"continuousWidth\": 400, \"continuousHeight\": 300}}, \"data\": {\"name\": \"data-4203d97b3550617b2bd06baec0c0ce0b\"}, \"mark\": \"point\", \"encoding\": {\"x\": {\"field\": \"hiv_aids\", \"type\": \"quantitative\"}}, \"$schema\": \"https://vega.github.io/schema/vega-lite/v4.17.0.json\", \"datasets\": {\"data-4203d97b3550617b2bd06baec0c0ce0b\": [{\"country\": \"Afghanistan\", \"year\": 2010, \"gdp\": 553.32894, \"hiv_aids\": 0.1, \"status\": \"Developing\"}, {\"country\": \"Albania\", \"year\": 2010, \"gdp\": 494.358832, \"hiv_aids\": 0.1, \"status\": \"Developing\"}, {\"country\": \"Algeria\", \"year\": 2010, \"gdp\": 4463.394675, \"hiv_aids\": 0.1, \"status\": \"Developing\"}, {\"country\": \"Angola\", \"year\": 2010, \"gdp\": 3529.53482, \"hiv_aids\": 2.5, \"status\": \"Developing\"}, {\"country\": \"Argentina\", \"year\": 2010, \"gdp\": 1276.265, \"hiv_aids\": 0.1, \"status\": \"Developing\"}, {\"country\": \"Armenia\", \"year\": 2010, \"gdp\": 3218.381655, \"hiv_aids\": 0.1, \"status\": \"Developing\"}, {\"country\": \"Azerbaijan\", \"year\": 2010, \"gdp\": 5842.85784, \"hiv_aids\": 0.1, \"status\": \"Developing\"}, {\"country\": \"Bahrain\", \"year\": 2010, \"gdp\": 2722.1389, \"hiv_aids\": 0.1, \"status\": \"Developing\"}, {\"country\": \"Bangladesh\", \"year\": 2010, \"gdp\": 757.6717572, \"hiv_aids\": 0.1, \"status\": \"Developing\"}, {\"country\": \"Barbados\", \"year\": 2010, \"gdp\": 1595.91232, \"hiv_aids\": 0.1, \"status\": \"Developing\"}, {\"country\": \"Belarus\", \"year\": 2010, \"gdp\": 63.38877, \"hiv_aids\": 0.1, \"status\": \"Developing\"}, {\"country\": \"Belgium\", \"year\": 2010, \"gdp\": 4438.23741, \"hiv_aids\": 0.1, \"status\": \"Developed\"}, {\"country\": \"Belize\", \"year\": 2010, \"gdp\": 4344.15177, \"hiv_aids\": 0.2, \"status\": \"Developing\"}, {\"country\": \"Benin\", \"year\": 2010, \"gdp\": 757.695974, \"hiv_aids\": 1.4, \"status\": \"Developing\"}, {\"country\": \"Bhutan\", \"year\": 2010, \"gdp\": 2178.921383, \"hiv_aids\": 0.5, \"status\": \"Developing\"}, {\"country\": \"Bosnia and Herzegovina\", \"year\": 2010, \"gdp\": 4611.47298, \"hiv_aids\": 0.1, \"status\": \"Developing\"}, {\"country\": \"Bulgaria\", \"year\": 2010, \"gdp\": 6843.263289, \"hiv_aids\": 0.1, \"status\": \"Developed\"}, {\"country\": \"Burkina Faso\", \"year\": 2010, \"gdp\": 575.4464527, \"hiv_aids\": 1.0, \"status\": \"Developing\"}, {\"country\": \"Burundi\", \"year\": 2010, \"gdp\": 231.1943256, \"hiv_aids\": 1.9, \"status\": \"Developing\"}, {\"country\": \"Cabo Verde\", \"year\": 2010, \"gdp\": 3312.825985, \"hiv_aids\": 0.4, \"status\": \"Developing\"}, {\"country\": \"Cambodia\", \"year\": 2010, \"gdp\": 785.6928841, \"hiv_aids\": 0.5, \"status\": \"Developing\"}, {\"country\": \"Chile\", \"year\": 2010, \"gdp\": 1286.17764, \"hiv_aids\": 0.1, \"status\": \"Developing\"}, {\"country\": \"China\", \"year\": 2010, \"gdp\": 456.512487, \"hiv_aids\": 0.1, \"status\": \"Developing\"}, {\"country\": \"Colombia\", \"year\": 2010, \"gdp\": 625.65544, \"hiv_aids\": 0.1, \"status\": \"Developing\"}, {\"country\": \"Comoros\", \"year\": 2010, \"gdp\": 769.1742883, \"hiv_aids\": 0.1, \"status\": \"Developing\"}, {\"country\": \"Costa Rica\", \"year\": 2010, \"gdp\": 8199.414621, \"hiv_aids\": 0.1, \"status\": \"Developing\"}, {\"country\": \"Croatia\", \"year\": 2010, \"gdp\": 1355.74586, \"hiv_aids\": 0.1, \"status\": \"Developed\"}, {\"country\": \"Cuba\", \"year\": 2010, \"gdp\": 5676.14143, \"hiv_aids\": 0.1, \"status\": \"Developing\"}, {\"country\": \"Cyprus\", \"year\": 2010, \"gdp\": 3818.46396, \"hiv_aids\": 0.1, \"status\": \"Developed\"}, {\"country\": \"Denmark\", \"year\": 2010, \"gdp\": 5841.41122, \"hiv_aids\": 0.1, \"status\": \"Developed\"}, {\"country\": \"Dominican Republic\", \"year\": 2010, \"gdp\": 5451.6696, \"hiv_aids\": 0.9, \"status\": \"Developing\"}, {\"country\": \"Ecuador\", \"year\": 2010, \"gdp\": 4657.32361, \"hiv_aids\": 0.1, \"status\": \"Developing\"}, {\"country\": \"El Salvador\", \"year\": 2010, \"gdp\": 3474.392445, \"hiv_aids\": 0.3, \"status\": \"Developing\"}, {\"country\": \"Eritrea\", \"year\": 2010, \"gdp\": 482.14994, \"hiv_aids\": 0.9, \"status\": \"Developing\"}, {\"country\": \"Ethiopia\", \"year\": 2010, \"gdp\": 341.39992, \"hiv_aids\": 1.7, \"status\": \"Developing\"}, {\"country\": \"Fiji\", \"year\": 2010, \"gdp\": 3651.966784, \"hiv_aids\": 0.1, \"status\": \"Developing\"}, {\"country\": \"Finland\", \"year\": 2010, \"gdp\": 4622.41516, \"hiv_aids\": 0.1, \"status\": \"Developing\"}, {\"country\": \"France\", \"year\": 2010, \"gdp\": 473.34279, \"hiv_aids\": 0.1, \"status\": \"Developing\"}, {\"country\": \"Georgia\", \"year\": 2010, \"gdp\": 2964.47734, \"hiv_aids\": 0.1, \"status\": \"Developing\"}, {\"country\": \"Ghana\", \"year\": 2010, \"gdp\": 1312.67557, \"hiv_aids\": 1.9, \"status\": \"Developing\"}, {\"country\": \"Grenada\", \"year\": 2010, \"gdp\": 7365.666659, \"hiv_aids\": 0.1, \"status\": \"Developing\"}, {\"country\": \"Guatemala\", \"year\": 2010, \"gdp\": 2825.5247, \"hiv_aids\": 0.4, \"status\": \"Developing\"}, {\"country\": \"Guinea\", \"year\": 2010, \"gdp\": 438.7513346, \"hiv_aids\": 2.2, \"status\": \"Developing\"}, {\"country\": \"Guyana\", \"year\": 2010, \"gdp\": 326.281212, \"hiv_aids\": 0.4, \"status\": \"Developing\"}, {\"country\": \"Haiti\", \"year\": 2010, \"gdp\": 662.2795182, \"hiv_aids\": 1.9, \"status\": \"Developing\"}, {\"country\": \"Honduras\", \"year\": 2010, \"gdp\": 1932.85829, \"hiv_aids\": 0.4, \"status\": \"Developing\"}, {\"country\": \"Hungary\", \"year\": 2010, \"gdp\": 1325.53379, \"hiv_aids\": 0.1, \"status\": \"Developed\"}, {\"country\": \"India\", \"year\": 2010, \"gdp\": 1345.77153, \"hiv_aids\": 0.2, \"status\": \"Developing\"}, {\"country\": \"Indonesia\", \"year\": 2010, \"gdp\": 3113.48635, \"hiv_aids\": 0.3, \"status\": \"Developing\"}, {\"country\": \"Iraq\", \"year\": 2010, \"gdp\": 452.74948, \"hiv_aids\": 0.1, \"status\": \"Developing\"}, {\"country\": \"Israel\", \"year\": 2010, \"gdp\": 3661.994, \"hiv_aids\": 0.1, \"status\": \"Developing\"}, {\"country\": \"Jamaica\", \"year\": 2010, \"gdp\": 4682.728424, \"hiv_aids\": 0.5, \"status\": \"Developing\"}, {\"country\": \"Japan\", \"year\": 2010, \"gdp\": 4457.67639, \"hiv_aids\": 0.1, \"status\": \"Developed\"}, {\"country\": \"Jordan\", \"year\": 2010, \"gdp\": 3679.19275, \"hiv_aids\": 0.1, \"status\": \"Developing\"}, {\"country\": \"Kazakhstan\", \"year\": 2010, \"gdp\": 97.649972, \"hiv_aids\": 0.1, \"status\": \"Developing\"}, {\"country\": \"Kiribati\", \"year\": 2010, \"gdp\": 1493.1651, \"hiv_aids\": 0.1, \"status\": \"Developing\"}, {\"country\": \"Lebanon\", \"year\": 2010, \"gdp\": 8763.826274, \"hiv_aids\": 0.1, \"status\": \"Developing\"}, {\"country\": \"Liberia\", \"year\": 2010, \"gdp\": 327.42597, \"hiv_aids\": 1.8, \"status\": \"Developing\"}, {\"country\": \"Libya\", \"year\": 2010, \"gdp\": 1212.56217, \"hiv_aids\": 0.1, \"status\": \"Developing\"}, {\"country\": \"Madagascar\", \"year\": 2010, \"gdp\": 412.739341, \"hiv_aids\": 0.5, \"status\": \"Developing\"}, {\"country\": \"Malaysia\", \"year\": 2010, \"gdp\": 971.356987, \"hiv_aids\": 0.1, \"status\": \"Developing\"}, {\"country\": \"Maldives\", \"year\": 2010, \"gdp\": 633.79498, \"hiv_aids\": 0.1, \"status\": \"Developing\"}, {\"country\": \"Mali\", \"year\": 2010, \"gdp\": 78.377632, \"hiv_aids\": 1.5, \"status\": \"Developing\"}, {\"country\": \"Malta\", \"year\": 2010, \"gdp\": 2187.79469, \"hiv_aids\": 0.1, \"status\": \"Developed\"}, {\"country\": \"Mauritania\", \"year\": 2010, \"gdp\": 123.383675, \"hiv_aids\": 1.2, \"status\": \"Developing\"}, {\"country\": \"Mauritius\", \"year\": 2010, \"gdp\": 8.376432, \"hiv_aids\": 0.2, \"status\": \"Developing\"}, {\"country\": \"Mexico\", \"year\": 2010, \"gdp\": 8959.581416, \"hiv_aids\": 0.1, \"status\": \"Developing\"}, {\"country\": \"Mongolia\", \"year\": 2010, \"gdp\": 265.353659, \"hiv_aids\": 0.1, \"status\": \"Developing\"}, {\"country\": \"Montenegro\", \"year\": 2010, \"gdp\": 6682.281158, \"hiv_aids\": 0.1, \"status\": \"Developing\"}, {\"country\": \"Morocco\", \"year\": 2010, \"gdp\": 2834.2472, \"hiv_aids\": 0.1, \"status\": \"Developing\"}, {\"country\": \"Myanmar\", \"year\": 2010, \"gdp\": 987.7365832, \"hiv_aids\": 0.5, \"status\": \"Developing\"}, {\"country\": \"Nepal\", \"year\": 2010, \"gdp\": 592.1835216, \"hiv_aids\": 0.2, \"status\": \"Developing\"}, {\"country\": \"Netherlands\", \"year\": 2010, \"gdp\": 5338.25483, \"hiv_aids\": 0.1, \"status\": \"Developed\"}, {\"country\": \"Nicaragua\", \"year\": 2010, \"gdp\": 1526.497938, \"hiv_aids\": 0.1, \"status\": \"Developing\"}, {\"country\": \"Niger\", \"year\": 2010, \"gdp\": 348.151511, \"hiv_aids\": 0.9, \"status\": \"Developing\"}, {\"country\": \"Oman\", \"year\": 2010, \"gdp\": 1928.74739, \"hiv_aids\": 0.1, \"status\": \"Developing\"}, {\"country\": \"Pakistan\", \"year\": 2010, \"gdp\": 14.142268, \"hiv_aids\": 0.1, \"status\": \"Developing\"}, {\"country\": \"Panama\", \"year\": 2010, \"gdp\": 7937.259931, \"hiv_aids\": 0.1, \"status\": \"Developing\"}, {\"country\": \"Papua New Guinea\", \"year\": 2010, \"gdp\": 1366.879112, \"hiv_aids\": 1.1, \"status\": \"Developing\"}, {\"country\": \"Paraguay\", \"year\": 2010, \"gdp\": 3225.591754, \"hiv_aids\": 0.1, \"status\": \"Developing\"}, {\"country\": \"Peru\", \"year\": 2010, \"gdp\": 522.493191, \"hiv_aids\": 0.2, \"status\": \"Developing\"}, {\"country\": \"Philippines\", \"year\": 2010, \"gdp\": 2129.499242, \"hiv_aids\": 0.1, \"status\": \"Developing\"}, {\"country\": \"Qatar\", \"year\": 2010, \"gdp\": 736.22784, \"hiv_aids\": 0.1, \"status\": \"Developing\"}, {\"country\": \"Romania\", \"year\": 2010, \"gdp\": 8297.483621, \"hiv_aids\": 0.1, \"status\": \"Developed\"}, {\"country\": \"Russian Federation\", \"year\": 2010, \"gdp\": 1674.98771, \"hiv_aids\": 0.2, \"status\": \"Developing\"}, {\"country\": \"Rwanda\", \"year\": 2010, \"gdp\": 563.491487, \"hiv_aids\": 2.3, \"status\": \"Developing\"}, {\"country\": \"Samoa\", \"year\": 2010, \"gdp\": 3453.487434, \"hiv_aids\": 0.1, \"status\": \"Developing\"}, {\"country\": \"Sao Tome and Principe\", \"year\": 2010, \"gdp\": 1129.754961, \"hiv_aids\": 0.5, \"status\": \"Developing\"}, {\"country\": \"Senegal\", \"year\": 2010, \"gdp\": 11.631377, \"hiv_aids\": 0.4, \"status\": \"Developing\"}, {\"country\": \"Serbia\", \"year\": 2010, \"gdp\": 5411.87744, \"hiv_aids\": 0.1, \"status\": \"Developing\"}, {\"country\": \"Seychelles\", \"year\": 2010, \"gdp\": 184.68447, \"hiv_aids\": 0.1, \"status\": \"Developing\"}, {\"country\": \"Sierra Leone\", \"year\": 2010, \"gdp\": 45.128418, \"hiv_aids\": 1.6, \"status\": \"Developing\"}, {\"country\": \"Solomon Islands\", \"year\": 2010, \"gdp\": 1272.44825, \"hiv_aids\": 0.1, \"status\": \"Developing\"}, {\"country\": \"Spain\", \"year\": 2010, \"gdp\": 3736.228, \"hiv_aids\": 0.1, \"status\": \"Developed\"}, {\"country\": \"Sri Lanka\", \"year\": 2010, \"gdp\": 2819.511161, \"hiv_aids\": 0.1, \"status\": \"Developing\"}, {\"country\": \"Sudan\", \"year\": 2010, \"gdp\": 1476.47887, \"hiv_aids\": 0.3, \"status\": \"Developing\"}, {\"country\": \"Suriname\", \"year\": 2010, \"gdp\": 833.31332, \"hiv_aids\": 0.5, \"status\": \"Developing\"}, {\"country\": \"Sweden\", \"year\": 2010, \"gdp\": 5276.25591, \"hiv_aids\": 0.1, \"status\": \"Developed\"}, {\"country\": \"Tajikistan\", \"year\": 2010, \"gdp\": 738.3475227, \"hiv_aids\": 0.2, \"status\": \"Developing\"}, {\"country\": \"Thailand\", \"year\": 2010, \"gdp\": 575.32176, \"hiv_aids\": 0.2, \"status\": \"Developing\"}, {\"country\": \"Timor-Leste\", \"year\": 2010, \"gdp\": 849.8626972, \"hiv_aids\": 0.1, \"status\": \"Developing\"}, {\"country\": \"Tonga\", \"year\": 2010, \"gdp\": 3547.59975, \"hiv_aids\": 0.1, \"status\": \"Developing\"}, {\"country\": \"Tunisia\", \"year\": 2010, \"gdp\": 414.15177, \"hiv_aids\": 0.1, \"status\": \"Developing\"}, {\"country\": \"Turkey\", \"year\": 2010, \"gdp\": 1672.5693, \"hiv_aids\": 0.1, \"status\": \"Developing\"}, {\"country\": \"Turkmenistan\", \"year\": 2010, \"gdp\": 4439.23, \"hiv_aids\": 0.1, \"status\": \"Developing\"}, {\"country\": \"Ukraine\", \"year\": 2010, \"gdp\": 2965.142365, \"hiv_aids\": 0.2, \"status\": \"Developing\"}, {\"country\": \"United Arab Emirates\", \"year\": 2010, \"gdp\": 3549.14832, \"hiv_aids\": 0.1, \"status\": \"Developing\"}, {\"country\": \"Uzbekistan\", \"year\": 2010, \"gdp\": 1377.8214, \"hiv_aids\": 0.2, \"status\": \"Developing\"}, {\"country\": \"Vanuatu\", \"year\": 2010, \"gdp\": 2965.82434, \"hiv_aids\": 0.1, \"status\": \"Developing\"}]}}, {\"mode\": \"vega-lite\"});\n",
              "</script>"
            ],
            "text/plain": [
              "alt.Chart(...)"
            ]
          },
          "metadata": {},
          "execution_count": 18
        }
      ]
    },
    {
      "cell_type": "markdown",
      "source": [
        "For the variable 'gdp', there are still some outliers. These are properly eliminated in the variable 'hiv_aids'. We observe the descriptive statistics of this new dataframe again to see if the mean differs too much from the median."
      ],
      "metadata": {
        "id": "Ty51qlHERdDZ"
      }
    },
    {
      "cell_type": "code",
      "source": [
        "Health_factors_definitive.describe()"
      ],
      "metadata": {
        "colab": {
          "base_uri": "https://localhost:8080/",
          "height": 300
        },
        "id": "-ByEWg5hRsXb",
        "outputId": "aa91d490-6a21-40ff-e07b-353fc2704557"
      },
      "execution_count": 19,
      "outputs": [
        {
          "output_type": "execute_result",
          "data": {
            "text/plain": [
              "         year          gdp    hiv_aids\n",
              "count   109.0   109.000000  109.000000\n",
              "mean   2010.0  2434.078018    0.383486\n",
              "std       0.0  2262.953116    0.561498\n",
              "min    2010.0     8.376432    0.100000\n",
              "25%    2010.0   575.446453    0.100000\n",
              "50%    2010.0  1493.165100    0.100000\n",
              "75%    2010.0  3661.994000    0.400000\n",
              "max    2010.0  8959.581416    2.500000"
            ],
            "text/html": [
              "\n",
              "  <div id=\"df-dc241d3b-2c00-4fb4-bd81-399e703bd491\">\n",
              "    <div class=\"colab-df-container\">\n",
              "      <div>\n",
              "<style scoped>\n",
              "    .dataframe tbody tr th:only-of-type {\n",
              "        vertical-align: middle;\n",
              "    }\n",
              "\n",
              "    .dataframe tbody tr th {\n",
              "        vertical-align: top;\n",
              "    }\n",
              "\n",
              "    .dataframe thead th {\n",
              "        text-align: right;\n",
              "    }\n",
              "</style>\n",
              "<table border=\"1\" class=\"dataframe\">\n",
              "  <thead>\n",
              "    <tr style=\"text-align: right;\">\n",
              "      <th></th>\n",
              "      <th>year</th>\n",
              "      <th>gdp</th>\n",
              "      <th>hiv_aids</th>\n",
              "    </tr>\n",
              "  </thead>\n",
              "  <tbody>\n",
              "    <tr>\n",
              "      <th>count</th>\n",
              "      <td>109.0</td>\n",
              "      <td>109.000000</td>\n",
              "      <td>109.000000</td>\n",
              "    </tr>\n",
              "    <tr>\n",
              "      <th>mean</th>\n",
              "      <td>2010.0</td>\n",
              "      <td>2434.078018</td>\n",
              "      <td>0.383486</td>\n",
              "    </tr>\n",
              "    <tr>\n",
              "      <th>std</th>\n",
              "      <td>0.0</td>\n",
              "      <td>2262.953116</td>\n",
              "      <td>0.561498</td>\n",
              "    </tr>\n",
              "    <tr>\n",
              "      <th>min</th>\n",
              "      <td>2010.0</td>\n",
              "      <td>8.376432</td>\n",
              "      <td>0.100000</td>\n",
              "    </tr>\n",
              "    <tr>\n",
              "      <th>25%</th>\n",
              "      <td>2010.0</td>\n",
              "      <td>575.446453</td>\n",
              "      <td>0.100000</td>\n",
              "    </tr>\n",
              "    <tr>\n",
              "      <th>50%</th>\n",
              "      <td>2010.0</td>\n",
              "      <td>1493.165100</td>\n",
              "      <td>0.100000</td>\n",
              "    </tr>\n",
              "    <tr>\n",
              "      <th>75%</th>\n",
              "      <td>2010.0</td>\n",
              "      <td>3661.994000</td>\n",
              "      <td>0.400000</td>\n",
              "    </tr>\n",
              "    <tr>\n",
              "      <th>max</th>\n",
              "      <td>2010.0</td>\n",
              "      <td>8959.581416</td>\n",
              "      <td>2.500000</td>\n",
              "    </tr>\n",
              "  </tbody>\n",
              "</table>\n",
              "</div>\n",
              "      <button class=\"colab-df-convert\" onclick=\"convertToInteractive('df-dc241d3b-2c00-4fb4-bd81-399e703bd491')\"\n",
              "              title=\"Convert this dataframe to an interactive table.\"\n",
              "              style=\"display:none;\">\n",
              "        \n",
              "  <svg xmlns=\"http://www.w3.org/2000/svg\" height=\"24px\"viewBox=\"0 0 24 24\"\n",
              "       width=\"24px\">\n",
              "    <path d=\"M0 0h24v24H0V0z\" fill=\"none\"/>\n",
              "    <path d=\"M18.56 5.44l.94 2.06.94-2.06 2.06-.94-2.06-.94-.94-2.06-.94 2.06-2.06.94zm-11 1L8.5 8.5l.94-2.06 2.06-.94-2.06-.94L8.5 2.5l-.94 2.06-2.06.94zm10 10l.94 2.06.94-2.06 2.06-.94-2.06-.94-.94-2.06-.94 2.06-2.06.94z\"/><path d=\"M17.41 7.96l-1.37-1.37c-.4-.4-.92-.59-1.43-.59-.52 0-1.04.2-1.43.59L10.3 9.45l-7.72 7.72c-.78.78-.78 2.05 0 2.83L4 21.41c.39.39.9.59 1.41.59.51 0 1.02-.2 1.41-.59l7.78-7.78 2.81-2.81c.8-.78.8-2.07 0-2.86zM5.41 20L4 18.59l7.72-7.72 1.47 1.35L5.41 20z\"/>\n",
              "  </svg>\n",
              "      </button>\n",
              "      \n",
              "  <style>\n",
              "    .colab-df-container {\n",
              "      display:flex;\n",
              "      flex-wrap:wrap;\n",
              "      gap: 12px;\n",
              "    }\n",
              "\n",
              "    .colab-df-convert {\n",
              "      background-color: #E8F0FE;\n",
              "      border: none;\n",
              "      border-radius: 50%;\n",
              "      cursor: pointer;\n",
              "      display: none;\n",
              "      fill: #1967D2;\n",
              "      height: 32px;\n",
              "      padding: 0 0 0 0;\n",
              "      width: 32px;\n",
              "    }\n",
              "\n",
              "    .colab-df-convert:hover {\n",
              "      background-color: #E2EBFA;\n",
              "      box-shadow: 0px 1px 2px rgba(60, 64, 67, 0.3), 0px 1px 3px 1px rgba(60, 64, 67, 0.15);\n",
              "      fill: #174EA6;\n",
              "    }\n",
              "\n",
              "    [theme=dark] .colab-df-convert {\n",
              "      background-color: #3B4455;\n",
              "      fill: #D2E3FC;\n",
              "    }\n",
              "\n",
              "    [theme=dark] .colab-df-convert:hover {\n",
              "      background-color: #434B5C;\n",
              "      box-shadow: 0px 1px 3px 1px rgba(0, 0, 0, 0.15);\n",
              "      filter: drop-shadow(0px 1px 2px rgba(0, 0, 0, 0.3));\n",
              "      fill: #FFFFFF;\n",
              "    }\n",
              "  </style>\n",
              "\n",
              "      <script>\n",
              "        const buttonEl =\n",
              "          document.querySelector('#df-dc241d3b-2c00-4fb4-bd81-399e703bd491 button.colab-df-convert');\n",
              "        buttonEl.style.display =\n",
              "          google.colab.kernel.accessAllowed ? 'block' : 'none';\n",
              "\n",
              "        async function convertToInteractive(key) {\n",
              "          const element = document.querySelector('#df-dc241d3b-2c00-4fb4-bd81-399e703bd491');\n",
              "          const dataTable =\n",
              "            await google.colab.kernel.invokeFunction('convertToInteractive',\n",
              "                                                     [key], {});\n",
              "          if (!dataTable) return;\n",
              "\n",
              "          const docLinkHtml = 'Like what you see? Visit the ' +\n",
              "            '<a target=\"_blank\" href=https://colab.research.google.com/notebooks/data_table.ipynb>data table notebook</a>'\n",
              "            + ' to learn more about interactive tables.';\n",
              "          element.innerHTML = '';\n",
              "          dataTable['output_type'] = 'display_data';\n",
              "          await google.colab.output.renderOutput(dataTable, element);\n",
              "          const docLink = document.createElement('div');\n",
              "          docLink.innerHTML = docLinkHtml;\n",
              "          element.appendChild(docLink);\n",
              "        }\n",
              "      </script>\n",
              "    </div>\n",
              "  </div>\n",
              "  "
            ]
          },
          "metadata": {},
          "execution_count": 19
        }
      ]
    },
    {
      "cell_type": "markdown",
      "source": [
        "Excluding the outliers brought the mean and median values closer together, which is logical since the mean is influenced to a greater extent by influential outliers than the median. However, they are still quite far apart. We choose to continue with the Health_factors_definitive dataframe, however, since there are only 109 countries left and we don't want to eliminate more. This would compromise the statistical power."
      ],
      "metadata": {
        "id": "DEt19uPSR9Hj"
      }
    },
    {
      "cell_type": "code",
      "source": [
        "Health_factors_definitive.describe(include = ['object'])"
      ],
      "metadata": {
        "colab": {
          "base_uri": "https://localhost:8080/",
          "height": 175
        },
        "id": "QPGD92GTh0ZR",
        "outputId": "a189aa4d-9596-4c30-98b8-4bb29f38871f"
      },
      "execution_count": 20,
      "outputs": [
        {
          "output_type": "execute_result",
          "data": {
            "text/plain": [
              "            country      status\n",
              "count           109         109\n",
              "unique          109           2\n",
              "top     Afghanistan  Developing\n",
              "freq              1          97"
            ],
            "text/html": [
              "\n",
              "  <div id=\"df-5ab12b22-3e7c-447b-a820-e08b4daf863e\">\n",
              "    <div class=\"colab-df-container\">\n",
              "      <div>\n",
              "<style scoped>\n",
              "    .dataframe tbody tr th:only-of-type {\n",
              "        vertical-align: middle;\n",
              "    }\n",
              "\n",
              "    .dataframe tbody tr th {\n",
              "        vertical-align: top;\n",
              "    }\n",
              "\n",
              "    .dataframe thead th {\n",
              "        text-align: right;\n",
              "    }\n",
              "</style>\n",
              "<table border=\"1\" class=\"dataframe\">\n",
              "  <thead>\n",
              "    <tr style=\"text-align: right;\">\n",
              "      <th></th>\n",
              "      <th>country</th>\n",
              "      <th>status</th>\n",
              "    </tr>\n",
              "  </thead>\n",
              "  <tbody>\n",
              "    <tr>\n",
              "      <th>count</th>\n",
              "      <td>109</td>\n",
              "      <td>109</td>\n",
              "    </tr>\n",
              "    <tr>\n",
              "      <th>unique</th>\n",
              "      <td>109</td>\n",
              "      <td>2</td>\n",
              "    </tr>\n",
              "    <tr>\n",
              "      <th>top</th>\n",
              "      <td>Afghanistan</td>\n",
              "      <td>Developing</td>\n",
              "    </tr>\n",
              "    <tr>\n",
              "      <th>freq</th>\n",
              "      <td>1</td>\n",
              "      <td>97</td>\n",
              "    </tr>\n",
              "  </tbody>\n",
              "</table>\n",
              "</div>\n",
              "      <button class=\"colab-df-convert\" onclick=\"convertToInteractive('df-5ab12b22-3e7c-447b-a820-e08b4daf863e')\"\n",
              "              title=\"Convert this dataframe to an interactive table.\"\n",
              "              style=\"display:none;\">\n",
              "        \n",
              "  <svg xmlns=\"http://www.w3.org/2000/svg\" height=\"24px\"viewBox=\"0 0 24 24\"\n",
              "       width=\"24px\">\n",
              "    <path d=\"M0 0h24v24H0V0z\" fill=\"none\"/>\n",
              "    <path d=\"M18.56 5.44l.94 2.06.94-2.06 2.06-.94-2.06-.94-.94-2.06-.94 2.06-2.06.94zm-11 1L8.5 8.5l.94-2.06 2.06-.94-2.06-.94L8.5 2.5l-.94 2.06-2.06.94zm10 10l.94 2.06.94-2.06 2.06-.94-2.06-.94-.94-2.06-.94 2.06-2.06.94z\"/><path d=\"M17.41 7.96l-1.37-1.37c-.4-.4-.92-.59-1.43-.59-.52 0-1.04.2-1.43.59L10.3 9.45l-7.72 7.72c-.78.78-.78 2.05 0 2.83L4 21.41c.39.39.9.59 1.41.59.51 0 1.02-.2 1.41-.59l7.78-7.78 2.81-2.81c.8-.78.8-2.07 0-2.86zM5.41 20L4 18.59l7.72-7.72 1.47 1.35L5.41 20z\"/>\n",
              "  </svg>\n",
              "      </button>\n",
              "      \n",
              "  <style>\n",
              "    .colab-df-container {\n",
              "      display:flex;\n",
              "      flex-wrap:wrap;\n",
              "      gap: 12px;\n",
              "    }\n",
              "\n",
              "    .colab-df-convert {\n",
              "      background-color: #E8F0FE;\n",
              "      border: none;\n",
              "      border-radius: 50%;\n",
              "      cursor: pointer;\n",
              "      display: none;\n",
              "      fill: #1967D2;\n",
              "      height: 32px;\n",
              "      padding: 0 0 0 0;\n",
              "      width: 32px;\n",
              "    }\n",
              "\n",
              "    .colab-df-convert:hover {\n",
              "      background-color: #E2EBFA;\n",
              "      box-shadow: 0px 1px 2px rgba(60, 64, 67, 0.3), 0px 1px 3px 1px rgba(60, 64, 67, 0.15);\n",
              "      fill: #174EA6;\n",
              "    }\n",
              "\n",
              "    [theme=dark] .colab-df-convert {\n",
              "      background-color: #3B4455;\n",
              "      fill: #D2E3FC;\n",
              "    }\n",
              "\n",
              "    [theme=dark] .colab-df-convert:hover {\n",
              "      background-color: #434B5C;\n",
              "      box-shadow: 0px 1px 3px 1px rgba(0, 0, 0, 0.15);\n",
              "      filter: drop-shadow(0px 1px 2px rgba(0, 0, 0, 0.3));\n",
              "      fill: #FFFFFF;\n",
              "    }\n",
              "  </style>\n",
              "\n",
              "      <script>\n",
              "        const buttonEl =\n",
              "          document.querySelector('#df-5ab12b22-3e7c-447b-a820-e08b4daf863e button.colab-df-convert');\n",
              "        buttonEl.style.display =\n",
              "          google.colab.kernel.accessAllowed ? 'block' : 'none';\n",
              "\n",
              "        async function convertToInteractive(key) {\n",
              "          const element = document.querySelector('#df-5ab12b22-3e7c-447b-a820-e08b4daf863e');\n",
              "          const dataTable =\n",
              "            await google.colab.kernel.invokeFunction('convertToInteractive',\n",
              "                                                     [key], {});\n",
              "          if (!dataTable) return;\n",
              "\n",
              "          const docLinkHtml = 'Like what you see? Visit the ' +\n",
              "            '<a target=\"_blank\" href=https://colab.research.google.com/notebooks/data_table.ipynb>data table notebook</a>'\n",
              "            + ' to learn more about interactive tables.';\n",
              "          element.innerHTML = '';\n",
              "          dataTable['output_type'] = 'display_data';\n",
              "          await google.colab.output.renderOutput(dataTable, element);\n",
              "          const docLink = document.createElement('div');\n",
              "          docLink.innerHTML = docLinkHtml;\n",
              "          element.appendChild(docLink);\n",
              "        }\n",
              "      </script>\n",
              "    </div>\n",
              "  </div>\n",
              "  "
            ]
          },
          "metadata": {},
          "execution_count": 20
        }
      ]
    },
    {
      "cell_type": "markdown",
      "source": [
        "In the final dataset, 97 developing countries are included and 12 developed countries are included. "
      ],
      "metadata": {
        "id": "tqDVKbgBh8QU"
      }
    },
    {
      "cell_type": "code",
      "source": [
        "Health_factors_definitive"
      ],
      "metadata": {
        "colab": {
          "base_uri": "https://localhost:8080/",
          "height": 423
        },
        "id": "jkloRsxZSTzk",
        "outputId": "aff1b091-ae77-45c0-da31-5f2fe1aa0ba5"
      },
      "execution_count": 21,
      "outputs": [
        {
          "output_type": "execute_result",
          "data": {
            "text/plain": [
              "                   country  year          gdp  hiv_aids      status\n",
              "5              Afghanistan  2010   553.328940       0.1  Developing\n",
              "21                 Albania  2010   494.358832       0.1  Developing\n",
              "37                 Algeria  2010  4463.394675       0.1  Developing\n",
              "53                  Angola  2010  3529.534820       2.5  Developing\n",
              "85               Argentina  2010  1276.265000       0.1  Developing\n",
              "...                    ...   ...          ...       ...         ...\n",
              "2702          Turkmenistan  2010  4439.230000       0.1  Developing\n",
              "2735               Ukraine  2010  2965.142365       0.2  Developing\n",
              "2751  United Arab Emirates  2010  3549.148320       0.1  Developing\n",
              "2831            Uzbekistan  2010  1377.821400       0.2  Developing\n",
              "2847               Vanuatu  2010  2965.824340       0.1  Developing\n",
              "\n",
              "[109 rows x 5 columns]"
            ],
            "text/html": [
              "\n",
              "  <div id=\"df-5b4a7762-5384-4295-8b5e-73aec70e3040\">\n",
              "    <div class=\"colab-df-container\">\n",
              "      <div>\n",
              "<style scoped>\n",
              "    .dataframe tbody tr th:only-of-type {\n",
              "        vertical-align: middle;\n",
              "    }\n",
              "\n",
              "    .dataframe tbody tr th {\n",
              "        vertical-align: top;\n",
              "    }\n",
              "\n",
              "    .dataframe thead th {\n",
              "        text-align: right;\n",
              "    }\n",
              "</style>\n",
              "<table border=\"1\" class=\"dataframe\">\n",
              "  <thead>\n",
              "    <tr style=\"text-align: right;\">\n",
              "      <th></th>\n",
              "      <th>country</th>\n",
              "      <th>year</th>\n",
              "      <th>gdp</th>\n",
              "      <th>hiv_aids</th>\n",
              "      <th>status</th>\n",
              "    </tr>\n",
              "  </thead>\n",
              "  <tbody>\n",
              "    <tr>\n",
              "      <th>5</th>\n",
              "      <td>Afghanistan</td>\n",
              "      <td>2010</td>\n",
              "      <td>553.328940</td>\n",
              "      <td>0.1</td>\n",
              "      <td>Developing</td>\n",
              "    </tr>\n",
              "    <tr>\n",
              "      <th>21</th>\n",
              "      <td>Albania</td>\n",
              "      <td>2010</td>\n",
              "      <td>494.358832</td>\n",
              "      <td>0.1</td>\n",
              "      <td>Developing</td>\n",
              "    </tr>\n",
              "    <tr>\n",
              "      <th>37</th>\n",
              "      <td>Algeria</td>\n",
              "      <td>2010</td>\n",
              "      <td>4463.394675</td>\n",
              "      <td>0.1</td>\n",
              "      <td>Developing</td>\n",
              "    </tr>\n",
              "    <tr>\n",
              "      <th>53</th>\n",
              "      <td>Angola</td>\n",
              "      <td>2010</td>\n",
              "      <td>3529.534820</td>\n",
              "      <td>2.5</td>\n",
              "      <td>Developing</td>\n",
              "    </tr>\n",
              "    <tr>\n",
              "      <th>85</th>\n",
              "      <td>Argentina</td>\n",
              "      <td>2010</td>\n",
              "      <td>1276.265000</td>\n",
              "      <td>0.1</td>\n",
              "      <td>Developing</td>\n",
              "    </tr>\n",
              "    <tr>\n",
              "      <th>...</th>\n",
              "      <td>...</td>\n",
              "      <td>...</td>\n",
              "      <td>...</td>\n",
              "      <td>...</td>\n",
              "      <td>...</td>\n",
              "    </tr>\n",
              "    <tr>\n",
              "      <th>2702</th>\n",
              "      <td>Turkmenistan</td>\n",
              "      <td>2010</td>\n",
              "      <td>4439.230000</td>\n",
              "      <td>0.1</td>\n",
              "      <td>Developing</td>\n",
              "    </tr>\n",
              "    <tr>\n",
              "      <th>2735</th>\n",
              "      <td>Ukraine</td>\n",
              "      <td>2010</td>\n",
              "      <td>2965.142365</td>\n",
              "      <td>0.2</td>\n",
              "      <td>Developing</td>\n",
              "    </tr>\n",
              "    <tr>\n",
              "      <th>2751</th>\n",
              "      <td>United Arab Emirates</td>\n",
              "      <td>2010</td>\n",
              "      <td>3549.148320</td>\n",
              "      <td>0.1</td>\n",
              "      <td>Developing</td>\n",
              "    </tr>\n",
              "    <tr>\n",
              "      <th>2831</th>\n",
              "      <td>Uzbekistan</td>\n",
              "      <td>2010</td>\n",
              "      <td>1377.821400</td>\n",
              "      <td>0.2</td>\n",
              "      <td>Developing</td>\n",
              "    </tr>\n",
              "    <tr>\n",
              "      <th>2847</th>\n",
              "      <td>Vanuatu</td>\n",
              "      <td>2010</td>\n",
              "      <td>2965.824340</td>\n",
              "      <td>0.1</td>\n",
              "      <td>Developing</td>\n",
              "    </tr>\n",
              "  </tbody>\n",
              "</table>\n",
              "<p>109 rows × 5 columns</p>\n",
              "</div>\n",
              "      <button class=\"colab-df-convert\" onclick=\"convertToInteractive('df-5b4a7762-5384-4295-8b5e-73aec70e3040')\"\n",
              "              title=\"Convert this dataframe to an interactive table.\"\n",
              "              style=\"display:none;\">\n",
              "        \n",
              "  <svg xmlns=\"http://www.w3.org/2000/svg\" height=\"24px\"viewBox=\"0 0 24 24\"\n",
              "       width=\"24px\">\n",
              "    <path d=\"M0 0h24v24H0V0z\" fill=\"none\"/>\n",
              "    <path d=\"M18.56 5.44l.94 2.06.94-2.06 2.06-.94-2.06-.94-.94-2.06-.94 2.06-2.06.94zm-11 1L8.5 8.5l.94-2.06 2.06-.94-2.06-.94L8.5 2.5l-.94 2.06-2.06.94zm10 10l.94 2.06.94-2.06 2.06-.94-2.06-.94-.94-2.06-.94 2.06-2.06.94z\"/><path d=\"M17.41 7.96l-1.37-1.37c-.4-.4-.92-.59-1.43-.59-.52 0-1.04.2-1.43.59L10.3 9.45l-7.72 7.72c-.78.78-.78 2.05 0 2.83L4 21.41c.39.39.9.59 1.41.59.51 0 1.02-.2 1.41-.59l7.78-7.78 2.81-2.81c.8-.78.8-2.07 0-2.86zM5.41 20L4 18.59l7.72-7.72 1.47 1.35L5.41 20z\"/>\n",
              "  </svg>\n",
              "      </button>\n",
              "      \n",
              "  <style>\n",
              "    .colab-df-container {\n",
              "      display:flex;\n",
              "      flex-wrap:wrap;\n",
              "      gap: 12px;\n",
              "    }\n",
              "\n",
              "    .colab-df-convert {\n",
              "      background-color: #E8F0FE;\n",
              "      border: none;\n",
              "      border-radius: 50%;\n",
              "      cursor: pointer;\n",
              "      display: none;\n",
              "      fill: #1967D2;\n",
              "      height: 32px;\n",
              "      padding: 0 0 0 0;\n",
              "      width: 32px;\n",
              "    }\n",
              "\n",
              "    .colab-df-convert:hover {\n",
              "      background-color: #E2EBFA;\n",
              "      box-shadow: 0px 1px 2px rgba(60, 64, 67, 0.3), 0px 1px 3px 1px rgba(60, 64, 67, 0.15);\n",
              "      fill: #174EA6;\n",
              "    }\n",
              "\n",
              "    [theme=dark] .colab-df-convert {\n",
              "      background-color: #3B4455;\n",
              "      fill: #D2E3FC;\n",
              "    }\n",
              "\n",
              "    [theme=dark] .colab-df-convert:hover {\n",
              "      background-color: #434B5C;\n",
              "      box-shadow: 0px 1px 3px 1px rgba(0, 0, 0, 0.15);\n",
              "      filter: drop-shadow(0px 1px 2px rgba(0, 0, 0, 0.3));\n",
              "      fill: #FFFFFF;\n",
              "    }\n",
              "  </style>\n",
              "\n",
              "      <script>\n",
              "        const buttonEl =\n",
              "          document.querySelector('#df-5b4a7762-5384-4295-8b5e-73aec70e3040 button.colab-df-convert');\n",
              "        buttonEl.style.display =\n",
              "          google.colab.kernel.accessAllowed ? 'block' : 'none';\n",
              "\n",
              "        async function convertToInteractive(key) {\n",
              "          const element = document.querySelector('#df-5b4a7762-5384-4295-8b5e-73aec70e3040');\n",
              "          const dataTable =\n",
              "            await google.colab.kernel.invokeFunction('convertToInteractive',\n",
              "                                                     [key], {});\n",
              "          if (!dataTable) return;\n",
              "\n",
              "          const docLinkHtml = 'Like what you see? Visit the ' +\n",
              "            '<a target=\"_blank\" href=https://colab.research.google.com/notebooks/data_table.ipynb>data table notebook</a>'\n",
              "            + ' to learn more about interactive tables.';\n",
              "          element.innerHTML = '';\n",
              "          dataTable['output_type'] = 'display_data';\n",
              "          await google.colab.output.renderOutput(dataTable, element);\n",
              "          const docLink = document.createElement('div');\n",
              "          docLink.innerHTML = docLinkHtml;\n",
              "          element.appendChild(docLink);\n",
              "        }\n",
              "      </script>\n",
              "    </div>\n",
              "  </div>\n",
              "  "
            ]
          },
          "metadata": {},
          "execution_count": 21
        }
      ]
    },
    {
      "cell_type": "markdown",
      "source": [
        "No other inconsistencies are observed in the dataset. Therefore, we will continue our analysis and describe/visualize the data with the 'Health_factors_definitive' dataframe."
      ],
      "metadata": {
        "id": "htk_6iDyS0es"
      }
    },
    {
      "cell_type": "markdown",
      "source": [
        "**4. Describe and Visualize**"
      ],
      "metadata": {
        "id": "xXzSMmffS814"
      }
    },
    {
      "cell_type": "code",
      "source": [
        "Health_factors_definitive.describe()\n"
      ],
      "metadata": {
        "id": "7RkmnPJPTAQu",
        "colab": {
          "base_uri": "https://localhost:8080/",
          "height": 300
        },
        "outputId": "3d40418e-5645-4884-a08c-c077f14a647e"
      },
      "execution_count": 22,
      "outputs": [
        {
          "output_type": "execute_result",
          "data": {
            "text/plain": [
              "         year          gdp    hiv_aids\n",
              "count   109.0   109.000000  109.000000\n",
              "mean   2010.0  2434.078018    0.383486\n",
              "std       0.0  2262.953116    0.561498\n",
              "min    2010.0     8.376432    0.100000\n",
              "25%    2010.0   575.446453    0.100000\n",
              "50%    2010.0  1493.165100    0.100000\n",
              "75%    2010.0  3661.994000    0.400000\n",
              "max    2010.0  8959.581416    2.500000"
            ],
            "text/html": [
              "\n",
              "  <div id=\"df-7b1ab4a7-92a9-4f4b-a949-93db6d0131f2\">\n",
              "    <div class=\"colab-df-container\">\n",
              "      <div>\n",
              "<style scoped>\n",
              "    .dataframe tbody tr th:only-of-type {\n",
              "        vertical-align: middle;\n",
              "    }\n",
              "\n",
              "    .dataframe tbody tr th {\n",
              "        vertical-align: top;\n",
              "    }\n",
              "\n",
              "    .dataframe thead th {\n",
              "        text-align: right;\n",
              "    }\n",
              "</style>\n",
              "<table border=\"1\" class=\"dataframe\">\n",
              "  <thead>\n",
              "    <tr style=\"text-align: right;\">\n",
              "      <th></th>\n",
              "      <th>year</th>\n",
              "      <th>gdp</th>\n",
              "      <th>hiv_aids</th>\n",
              "    </tr>\n",
              "  </thead>\n",
              "  <tbody>\n",
              "    <tr>\n",
              "      <th>count</th>\n",
              "      <td>109.0</td>\n",
              "      <td>109.000000</td>\n",
              "      <td>109.000000</td>\n",
              "    </tr>\n",
              "    <tr>\n",
              "      <th>mean</th>\n",
              "      <td>2010.0</td>\n",
              "      <td>2434.078018</td>\n",
              "      <td>0.383486</td>\n",
              "    </tr>\n",
              "    <tr>\n",
              "      <th>std</th>\n",
              "      <td>0.0</td>\n",
              "      <td>2262.953116</td>\n",
              "      <td>0.561498</td>\n",
              "    </tr>\n",
              "    <tr>\n",
              "      <th>min</th>\n",
              "      <td>2010.0</td>\n",
              "      <td>8.376432</td>\n",
              "      <td>0.100000</td>\n",
              "    </tr>\n",
              "    <tr>\n",
              "      <th>25%</th>\n",
              "      <td>2010.0</td>\n",
              "      <td>575.446453</td>\n",
              "      <td>0.100000</td>\n",
              "    </tr>\n",
              "    <tr>\n",
              "      <th>50%</th>\n",
              "      <td>2010.0</td>\n",
              "      <td>1493.165100</td>\n",
              "      <td>0.100000</td>\n",
              "    </tr>\n",
              "    <tr>\n",
              "      <th>75%</th>\n",
              "      <td>2010.0</td>\n",
              "      <td>3661.994000</td>\n",
              "      <td>0.400000</td>\n",
              "    </tr>\n",
              "    <tr>\n",
              "      <th>max</th>\n",
              "      <td>2010.0</td>\n",
              "      <td>8959.581416</td>\n",
              "      <td>2.500000</td>\n",
              "    </tr>\n",
              "  </tbody>\n",
              "</table>\n",
              "</div>\n",
              "      <button class=\"colab-df-convert\" onclick=\"convertToInteractive('df-7b1ab4a7-92a9-4f4b-a949-93db6d0131f2')\"\n",
              "              title=\"Convert this dataframe to an interactive table.\"\n",
              "              style=\"display:none;\">\n",
              "        \n",
              "  <svg xmlns=\"http://www.w3.org/2000/svg\" height=\"24px\"viewBox=\"0 0 24 24\"\n",
              "       width=\"24px\">\n",
              "    <path d=\"M0 0h24v24H0V0z\" fill=\"none\"/>\n",
              "    <path d=\"M18.56 5.44l.94 2.06.94-2.06 2.06-.94-2.06-.94-.94-2.06-.94 2.06-2.06.94zm-11 1L8.5 8.5l.94-2.06 2.06-.94-2.06-.94L8.5 2.5l-.94 2.06-2.06.94zm10 10l.94 2.06.94-2.06 2.06-.94-2.06-.94-.94-2.06-.94 2.06-2.06.94z\"/><path d=\"M17.41 7.96l-1.37-1.37c-.4-.4-.92-.59-1.43-.59-.52 0-1.04.2-1.43.59L10.3 9.45l-7.72 7.72c-.78.78-.78 2.05 0 2.83L4 21.41c.39.39.9.59 1.41.59.51 0 1.02-.2 1.41-.59l7.78-7.78 2.81-2.81c.8-.78.8-2.07 0-2.86zM5.41 20L4 18.59l7.72-7.72 1.47 1.35L5.41 20z\"/>\n",
              "  </svg>\n",
              "      </button>\n",
              "      \n",
              "  <style>\n",
              "    .colab-df-container {\n",
              "      display:flex;\n",
              "      flex-wrap:wrap;\n",
              "      gap: 12px;\n",
              "    }\n",
              "\n",
              "    .colab-df-convert {\n",
              "      background-color: #E8F0FE;\n",
              "      border: none;\n",
              "      border-radius: 50%;\n",
              "      cursor: pointer;\n",
              "      display: none;\n",
              "      fill: #1967D2;\n",
              "      height: 32px;\n",
              "      padding: 0 0 0 0;\n",
              "      width: 32px;\n",
              "    }\n",
              "\n",
              "    .colab-df-convert:hover {\n",
              "      background-color: #E2EBFA;\n",
              "      box-shadow: 0px 1px 2px rgba(60, 64, 67, 0.3), 0px 1px 3px 1px rgba(60, 64, 67, 0.15);\n",
              "      fill: #174EA6;\n",
              "    }\n",
              "\n",
              "    [theme=dark] .colab-df-convert {\n",
              "      background-color: #3B4455;\n",
              "      fill: #D2E3FC;\n",
              "    }\n",
              "\n",
              "    [theme=dark] .colab-df-convert:hover {\n",
              "      background-color: #434B5C;\n",
              "      box-shadow: 0px 1px 3px 1px rgba(0, 0, 0, 0.15);\n",
              "      filter: drop-shadow(0px 1px 2px rgba(0, 0, 0, 0.3));\n",
              "      fill: #FFFFFF;\n",
              "    }\n",
              "  </style>\n",
              "\n",
              "      <script>\n",
              "        const buttonEl =\n",
              "          document.querySelector('#df-7b1ab4a7-92a9-4f4b-a949-93db6d0131f2 button.colab-df-convert');\n",
              "        buttonEl.style.display =\n",
              "          google.colab.kernel.accessAllowed ? 'block' : 'none';\n",
              "\n",
              "        async function convertToInteractive(key) {\n",
              "          const element = document.querySelector('#df-7b1ab4a7-92a9-4f4b-a949-93db6d0131f2');\n",
              "          const dataTable =\n",
              "            await google.colab.kernel.invokeFunction('convertToInteractive',\n",
              "                                                     [key], {});\n",
              "          if (!dataTable) return;\n",
              "\n",
              "          const docLinkHtml = 'Like what you see? Visit the ' +\n",
              "            '<a target=\"_blank\" href=https://colab.research.google.com/notebooks/data_table.ipynb>data table notebook</a>'\n",
              "            + ' to learn more about interactive tables.';\n",
              "          element.innerHTML = '';\n",
              "          dataTable['output_type'] = 'display_data';\n",
              "          await google.colab.output.renderOutput(dataTable, element);\n",
              "          const docLink = document.createElement('div');\n",
              "          docLink.innerHTML = docLinkHtml;\n",
              "          element.appendChild(docLink);\n",
              "        }\n",
              "      </script>\n",
              "    </div>\n",
              "  </div>\n",
              "  "
            ]
          },
          "metadata": {},
          "execution_count": 22
        }
      ]
    },
    {
      "cell_type": "markdown",
      "source": [
        "The table above displays the descriptive statistics of the quantitative variables. The count indicates the amount of rows present in the dataframe. For each dependent variable, there are 109 values. Since the variable 'year' is the same for all data, all descriptive statistics are equal to 2010.0. One thing about the descriptive statistics that stands out is the fact that, as mentioned earlier, the mean differs substantially from the median for both the 'gdp' and 'hiv/aids' variables. In addition, for the 'hiv/aids' variable, the first two quartiles (lower 50%) have the same value. This suggests a relatively high skewness of the distribution. This needs to be checked with a plot."
      ],
      "metadata": {
        "id": "VvGVXPjUilwf"
      }
    },
    {
      "cell_type": "code",
      "source": [
        "alt.Chart(Health_factors_definitive).mark_bar().encode(\n",
        "    x=alt.X('gdp:Q', bin=alt.Bin(maxbins=10)),\n",
        "    y='count():Q'\n",
        ")"
      ],
      "metadata": {
        "colab": {
          "base_uri": "https://localhost:8080/",
          "height": 369
        },
        "id": "CFBnITvt6wcQ",
        "outputId": "29776ac1-d34b-4a36-cf79-d77968206bfb"
      },
      "execution_count": 23,
      "outputs": [
        {
          "output_type": "execute_result",
          "data": {
            "text/html": [
              "\n",
              "<div id=\"altair-viz-5fe52c969e6a4455a8e3b4720a05a108\"></div>\n",
              "<script type=\"text/javascript\">\n",
              "  var VEGA_DEBUG = (typeof VEGA_DEBUG == \"undefined\") ? {} : VEGA_DEBUG;\n",
              "  (function(spec, embedOpt){\n",
              "    let outputDiv = document.currentScript.previousElementSibling;\n",
              "    if (outputDiv.id !== \"altair-viz-5fe52c969e6a4455a8e3b4720a05a108\") {\n",
              "      outputDiv = document.getElementById(\"altair-viz-5fe52c969e6a4455a8e3b4720a05a108\");\n",
              "    }\n",
              "    const paths = {\n",
              "      \"vega\": \"https://cdn.jsdelivr.net/npm//vega@5?noext\",\n",
              "      \"vega-lib\": \"https://cdn.jsdelivr.net/npm//vega-lib?noext\",\n",
              "      \"vega-lite\": \"https://cdn.jsdelivr.net/npm//vega-lite@4.17.0?noext\",\n",
              "      \"vega-embed\": \"https://cdn.jsdelivr.net/npm//vega-embed@6?noext\",\n",
              "    };\n",
              "\n",
              "    function maybeLoadScript(lib, version) {\n",
              "      var key = `${lib.replace(\"-\", \"\")}_version`;\n",
              "      return (VEGA_DEBUG[key] == version) ?\n",
              "        Promise.resolve(paths[lib]) :\n",
              "        new Promise(function(resolve, reject) {\n",
              "          var s = document.createElement('script');\n",
              "          document.getElementsByTagName(\"head\")[0].appendChild(s);\n",
              "          s.async = true;\n",
              "          s.onload = () => {\n",
              "            VEGA_DEBUG[key] = version;\n",
              "            return resolve(paths[lib]);\n",
              "          };\n",
              "          s.onerror = () => reject(`Error loading script: ${paths[lib]}`);\n",
              "          s.src = paths[lib];\n",
              "        });\n",
              "    }\n",
              "\n",
              "    function showError(err) {\n",
              "      outputDiv.innerHTML = `<div class=\"error\" style=\"color:red;\">${err}</div>`;\n",
              "      throw err;\n",
              "    }\n",
              "\n",
              "    function displayChart(vegaEmbed) {\n",
              "      vegaEmbed(outputDiv, spec, embedOpt)\n",
              "        .catch(err => showError(`Javascript Error: ${err.message}<br>This usually means there's a typo in your chart specification. See the javascript console for the full traceback.`));\n",
              "    }\n",
              "\n",
              "    if(typeof define === \"function\" && define.amd) {\n",
              "      requirejs.config({paths});\n",
              "      require([\"vega-embed\"], displayChart, err => showError(`Error loading script: ${err.message}`));\n",
              "    } else {\n",
              "      maybeLoadScript(\"vega\", \"5\")\n",
              "        .then(() => maybeLoadScript(\"vega-lite\", \"4.17.0\"))\n",
              "        .then(() => maybeLoadScript(\"vega-embed\", \"6\"))\n",
              "        .catch(showError)\n",
              "        .then(() => displayChart(vegaEmbed));\n",
              "    }\n",
              "  })({\"config\": {\"view\": {\"continuousWidth\": 400, \"continuousHeight\": 300}}, \"data\": {\"name\": \"data-4203d97b3550617b2bd06baec0c0ce0b\"}, \"mark\": \"bar\", \"encoding\": {\"x\": {\"bin\": {\"maxbins\": 10}, \"field\": \"gdp\", \"type\": \"quantitative\"}, \"y\": {\"aggregate\": \"count\", \"type\": \"quantitative\"}}, \"$schema\": \"https://vega.github.io/schema/vega-lite/v4.17.0.json\", \"datasets\": {\"data-4203d97b3550617b2bd06baec0c0ce0b\": [{\"country\": \"Afghanistan\", \"year\": 2010, \"gdp\": 553.32894, \"hiv_aids\": 0.1, \"status\": \"Developing\"}, {\"country\": \"Albania\", \"year\": 2010, \"gdp\": 494.358832, \"hiv_aids\": 0.1, \"status\": \"Developing\"}, {\"country\": \"Algeria\", \"year\": 2010, \"gdp\": 4463.394675, \"hiv_aids\": 0.1, \"status\": \"Developing\"}, {\"country\": \"Angola\", \"year\": 2010, \"gdp\": 3529.53482, \"hiv_aids\": 2.5, \"status\": \"Developing\"}, {\"country\": \"Argentina\", \"year\": 2010, \"gdp\": 1276.265, \"hiv_aids\": 0.1, \"status\": \"Developing\"}, {\"country\": \"Armenia\", \"year\": 2010, \"gdp\": 3218.381655, \"hiv_aids\": 0.1, \"status\": \"Developing\"}, {\"country\": \"Azerbaijan\", \"year\": 2010, \"gdp\": 5842.85784, \"hiv_aids\": 0.1, \"status\": \"Developing\"}, {\"country\": \"Bahrain\", \"year\": 2010, \"gdp\": 2722.1389, \"hiv_aids\": 0.1, \"status\": \"Developing\"}, {\"country\": \"Bangladesh\", \"year\": 2010, \"gdp\": 757.6717572, \"hiv_aids\": 0.1, \"status\": \"Developing\"}, {\"country\": \"Barbados\", \"year\": 2010, \"gdp\": 1595.91232, \"hiv_aids\": 0.1, \"status\": \"Developing\"}, {\"country\": \"Belarus\", \"year\": 2010, \"gdp\": 63.38877, \"hiv_aids\": 0.1, \"status\": \"Developing\"}, {\"country\": \"Belgium\", \"year\": 2010, \"gdp\": 4438.23741, \"hiv_aids\": 0.1, \"status\": \"Developed\"}, {\"country\": \"Belize\", \"year\": 2010, \"gdp\": 4344.15177, \"hiv_aids\": 0.2, \"status\": \"Developing\"}, {\"country\": \"Benin\", \"year\": 2010, \"gdp\": 757.695974, \"hiv_aids\": 1.4, \"status\": \"Developing\"}, {\"country\": \"Bhutan\", \"year\": 2010, \"gdp\": 2178.921383, \"hiv_aids\": 0.5, \"status\": \"Developing\"}, {\"country\": \"Bosnia and Herzegovina\", \"year\": 2010, \"gdp\": 4611.47298, \"hiv_aids\": 0.1, \"status\": \"Developing\"}, {\"country\": \"Bulgaria\", \"year\": 2010, \"gdp\": 6843.263289, \"hiv_aids\": 0.1, \"status\": \"Developed\"}, {\"country\": \"Burkina Faso\", \"year\": 2010, \"gdp\": 575.4464527, \"hiv_aids\": 1.0, \"status\": \"Developing\"}, {\"country\": \"Burundi\", \"year\": 2010, \"gdp\": 231.1943256, \"hiv_aids\": 1.9, \"status\": \"Developing\"}, {\"country\": \"Cabo Verde\", \"year\": 2010, \"gdp\": 3312.825985, \"hiv_aids\": 0.4, \"status\": \"Developing\"}, {\"country\": \"Cambodia\", \"year\": 2010, \"gdp\": 785.6928841, \"hiv_aids\": 0.5, \"status\": \"Developing\"}, {\"country\": \"Chile\", \"year\": 2010, \"gdp\": 1286.17764, \"hiv_aids\": 0.1, \"status\": \"Developing\"}, {\"country\": \"China\", \"year\": 2010, \"gdp\": 456.512487, \"hiv_aids\": 0.1, \"status\": \"Developing\"}, {\"country\": \"Colombia\", \"year\": 2010, \"gdp\": 625.65544, \"hiv_aids\": 0.1, \"status\": \"Developing\"}, {\"country\": \"Comoros\", \"year\": 2010, \"gdp\": 769.1742883, \"hiv_aids\": 0.1, \"status\": \"Developing\"}, {\"country\": \"Costa Rica\", \"year\": 2010, \"gdp\": 8199.414621, \"hiv_aids\": 0.1, \"status\": \"Developing\"}, {\"country\": \"Croatia\", \"year\": 2010, \"gdp\": 1355.74586, \"hiv_aids\": 0.1, \"status\": \"Developed\"}, {\"country\": \"Cuba\", \"year\": 2010, \"gdp\": 5676.14143, \"hiv_aids\": 0.1, \"status\": \"Developing\"}, {\"country\": \"Cyprus\", \"year\": 2010, \"gdp\": 3818.46396, \"hiv_aids\": 0.1, \"status\": \"Developed\"}, {\"country\": \"Denmark\", \"year\": 2010, \"gdp\": 5841.41122, \"hiv_aids\": 0.1, \"status\": \"Developed\"}, {\"country\": \"Dominican Republic\", \"year\": 2010, \"gdp\": 5451.6696, \"hiv_aids\": 0.9, \"status\": \"Developing\"}, {\"country\": \"Ecuador\", \"year\": 2010, \"gdp\": 4657.32361, \"hiv_aids\": 0.1, \"status\": \"Developing\"}, {\"country\": \"El Salvador\", \"year\": 2010, \"gdp\": 3474.392445, \"hiv_aids\": 0.3, \"status\": \"Developing\"}, {\"country\": \"Eritrea\", \"year\": 2010, \"gdp\": 482.14994, \"hiv_aids\": 0.9, \"status\": \"Developing\"}, {\"country\": \"Ethiopia\", \"year\": 2010, \"gdp\": 341.39992, \"hiv_aids\": 1.7, \"status\": \"Developing\"}, {\"country\": \"Fiji\", \"year\": 2010, \"gdp\": 3651.966784, \"hiv_aids\": 0.1, \"status\": \"Developing\"}, {\"country\": \"Finland\", \"year\": 2010, \"gdp\": 4622.41516, \"hiv_aids\": 0.1, \"status\": \"Developing\"}, {\"country\": \"France\", \"year\": 2010, \"gdp\": 473.34279, \"hiv_aids\": 0.1, \"status\": \"Developing\"}, {\"country\": \"Georgia\", \"year\": 2010, \"gdp\": 2964.47734, \"hiv_aids\": 0.1, \"status\": \"Developing\"}, {\"country\": \"Ghana\", \"year\": 2010, \"gdp\": 1312.67557, \"hiv_aids\": 1.9, \"status\": \"Developing\"}, {\"country\": \"Grenada\", \"year\": 2010, \"gdp\": 7365.666659, \"hiv_aids\": 0.1, \"status\": \"Developing\"}, {\"country\": \"Guatemala\", \"year\": 2010, \"gdp\": 2825.5247, \"hiv_aids\": 0.4, \"status\": \"Developing\"}, {\"country\": \"Guinea\", \"year\": 2010, \"gdp\": 438.7513346, \"hiv_aids\": 2.2, \"status\": \"Developing\"}, {\"country\": \"Guyana\", \"year\": 2010, \"gdp\": 326.281212, \"hiv_aids\": 0.4, \"status\": \"Developing\"}, {\"country\": \"Haiti\", \"year\": 2010, \"gdp\": 662.2795182, \"hiv_aids\": 1.9, \"status\": \"Developing\"}, {\"country\": \"Honduras\", \"year\": 2010, \"gdp\": 1932.85829, \"hiv_aids\": 0.4, \"status\": \"Developing\"}, {\"country\": \"Hungary\", \"year\": 2010, \"gdp\": 1325.53379, \"hiv_aids\": 0.1, \"status\": \"Developed\"}, {\"country\": \"India\", \"year\": 2010, \"gdp\": 1345.77153, \"hiv_aids\": 0.2, \"status\": \"Developing\"}, {\"country\": \"Indonesia\", \"year\": 2010, \"gdp\": 3113.48635, \"hiv_aids\": 0.3, \"status\": \"Developing\"}, {\"country\": \"Iraq\", \"year\": 2010, \"gdp\": 452.74948, \"hiv_aids\": 0.1, \"status\": \"Developing\"}, {\"country\": \"Israel\", \"year\": 2010, \"gdp\": 3661.994, \"hiv_aids\": 0.1, \"status\": \"Developing\"}, {\"country\": \"Jamaica\", \"year\": 2010, \"gdp\": 4682.728424, \"hiv_aids\": 0.5, \"status\": \"Developing\"}, {\"country\": \"Japan\", \"year\": 2010, \"gdp\": 4457.67639, \"hiv_aids\": 0.1, \"status\": \"Developed\"}, {\"country\": \"Jordan\", \"year\": 2010, \"gdp\": 3679.19275, \"hiv_aids\": 0.1, \"status\": \"Developing\"}, {\"country\": \"Kazakhstan\", \"year\": 2010, \"gdp\": 97.649972, \"hiv_aids\": 0.1, \"status\": \"Developing\"}, {\"country\": \"Kiribati\", \"year\": 2010, \"gdp\": 1493.1651, \"hiv_aids\": 0.1, \"status\": \"Developing\"}, {\"country\": \"Lebanon\", \"year\": 2010, \"gdp\": 8763.826274, \"hiv_aids\": 0.1, \"status\": \"Developing\"}, {\"country\": \"Liberia\", \"year\": 2010, \"gdp\": 327.42597, \"hiv_aids\": 1.8, \"status\": \"Developing\"}, {\"country\": \"Libya\", \"year\": 2010, \"gdp\": 1212.56217, \"hiv_aids\": 0.1, \"status\": \"Developing\"}, {\"country\": \"Madagascar\", \"year\": 2010, \"gdp\": 412.739341, \"hiv_aids\": 0.5, \"status\": \"Developing\"}, {\"country\": \"Malaysia\", \"year\": 2010, \"gdp\": 971.356987, \"hiv_aids\": 0.1, \"status\": \"Developing\"}, {\"country\": \"Maldives\", \"year\": 2010, \"gdp\": 633.79498, \"hiv_aids\": 0.1, \"status\": \"Developing\"}, {\"country\": \"Mali\", \"year\": 2010, \"gdp\": 78.377632, \"hiv_aids\": 1.5, \"status\": \"Developing\"}, {\"country\": \"Malta\", \"year\": 2010, \"gdp\": 2187.79469, \"hiv_aids\": 0.1, \"status\": \"Developed\"}, {\"country\": \"Mauritania\", \"year\": 2010, \"gdp\": 123.383675, \"hiv_aids\": 1.2, \"status\": \"Developing\"}, {\"country\": \"Mauritius\", \"year\": 2010, \"gdp\": 8.376432, \"hiv_aids\": 0.2, \"status\": \"Developing\"}, {\"country\": \"Mexico\", \"year\": 2010, \"gdp\": 8959.581416, \"hiv_aids\": 0.1, \"status\": \"Developing\"}, {\"country\": \"Mongolia\", \"year\": 2010, \"gdp\": 265.353659, \"hiv_aids\": 0.1, \"status\": \"Developing\"}, {\"country\": \"Montenegro\", \"year\": 2010, \"gdp\": 6682.281158, \"hiv_aids\": 0.1, \"status\": \"Developing\"}, {\"country\": \"Morocco\", \"year\": 2010, \"gdp\": 2834.2472, \"hiv_aids\": 0.1, \"status\": \"Developing\"}, {\"country\": \"Myanmar\", \"year\": 2010, \"gdp\": 987.7365832, \"hiv_aids\": 0.5, \"status\": \"Developing\"}, {\"country\": \"Nepal\", \"year\": 2010, \"gdp\": 592.1835216, \"hiv_aids\": 0.2, \"status\": \"Developing\"}, {\"country\": \"Netherlands\", \"year\": 2010, \"gdp\": 5338.25483, \"hiv_aids\": 0.1, \"status\": \"Developed\"}, {\"country\": \"Nicaragua\", \"year\": 2010, \"gdp\": 1526.497938, \"hiv_aids\": 0.1, \"status\": \"Developing\"}, {\"country\": \"Niger\", \"year\": 2010, \"gdp\": 348.151511, \"hiv_aids\": 0.9, \"status\": \"Developing\"}, {\"country\": \"Oman\", \"year\": 2010, \"gdp\": 1928.74739, \"hiv_aids\": 0.1, \"status\": \"Developing\"}, {\"country\": \"Pakistan\", \"year\": 2010, \"gdp\": 14.142268, \"hiv_aids\": 0.1, \"status\": \"Developing\"}, {\"country\": \"Panama\", \"year\": 2010, \"gdp\": 7937.259931, \"hiv_aids\": 0.1, \"status\": \"Developing\"}, {\"country\": \"Papua New Guinea\", \"year\": 2010, \"gdp\": 1366.879112, \"hiv_aids\": 1.1, \"status\": \"Developing\"}, {\"country\": \"Paraguay\", \"year\": 2010, \"gdp\": 3225.591754, \"hiv_aids\": 0.1, \"status\": \"Developing\"}, {\"country\": \"Peru\", \"year\": 2010, \"gdp\": 522.493191, \"hiv_aids\": 0.2, \"status\": \"Developing\"}, {\"country\": \"Philippines\", \"year\": 2010, \"gdp\": 2129.499242, \"hiv_aids\": 0.1, \"status\": \"Developing\"}, {\"country\": \"Qatar\", \"year\": 2010, \"gdp\": 736.22784, \"hiv_aids\": 0.1, \"status\": \"Developing\"}, {\"country\": \"Romania\", \"year\": 2010, \"gdp\": 8297.483621, \"hiv_aids\": 0.1, \"status\": \"Developed\"}, {\"country\": \"Russian Federation\", \"year\": 2010, \"gdp\": 1674.98771, \"hiv_aids\": 0.2, \"status\": \"Developing\"}, {\"country\": \"Rwanda\", \"year\": 2010, \"gdp\": 563.491487, \"hiv_aids\": 2.3, \"status\": \"Developing\"}, {\"country\": \"Samoa\", \"year\": 2010, \"gdp\": 3453.487434, \"hiv_aids\": 0.1, \"status\": \"Developing\"}, {\"country\": \"Sao Tome and Principe\", \"year\": 2010, \"gdp\": 1129.754961, \"hiv_aids\": 0.5, \"status\": \"Developing\"}, {\"country\": \"Senegal\", \"year\": 2010, \"gdp\": 11.631377, \"hiv_aids\": 0.4, \"status\": \"Developing\"}, {\"country\": \"Serbia\", \"year\": 2010, \"gdp\": 5411.87744, \"hiv_aids\": 0.1, \"status\": \"Developing\"}, {\"country\": \"Seychelles\", \"year\": 2010, \"gdp\": 184.68447, \"hiv_aids\": 0.1, \"status\": \"Developing\"}, {\"country\": \"Sierra Leone\", \"year\": 2010, \"gdp\": 45.128418, \"hiv_aids\": 1.6, \"status\": \"Developing\"}, {\"country\": \"Solomon Islands\", \"year\": 2010, \"gdp\": 1272.44825, \"hiv_aids\": 0.1, \"status\": \"Developing\"}, {\"country\": \"Spain\", \"year\": 2010, \"gdp\": 3736.228, \"hiv_aids\": 0.1, \"status\": \"Developed\"}, {\"country\": \"Sri Lanka\", \"year\": 2010, \"gdp\": 2819.511161, \"hiv_aids\": 0.1, \"status\": \"Developing\"}, {\"country\": \"Sudan\", \"year\": 2010, \"gdp\": 1476.47887, \"hiv_aids\": 0.3, \"status\": \"Developing\"}, {\"country\": \"Suriname\", \"year\": 2010, \"gdp\": 833.31332, \"hiv_aids\": 0.5, \"status\": \"Developing\"}, {\"country\": \"Sweden\", \"year\": 2010, \"gdp\": 5276.25591, \"hiv_aids\": 0.1, \"status\": \"Developed\"}, {\"country\": \"Tajikistan\", \"year\": 2010, \"gdp\": 738.3475227, \"hiv_aids\": 0.2, \"status\": \"Developing\"}, {\"country\": \"Thailand\", \"year\": 2010, \"gdp\": 575.32176, \"hiv_aids\": 0.2, \"status\": \"Developing\"}, {\"country\": \"Timor-Leste\", \"year\": 2010, \"gdp\": 849.8626972, \"hiv_aids\": 0.1, \"status\": \"Developing\"}, {\"country\": \"Tonga\", \"year\": 2010, \"gdp\": 3547.59975, \"hiv_aids\": 0.1, \"status\": \"Developing\"}, {\"country\": \"Tunisia\", \"year\": 2010, \"gdp\": 414.15177, \"hiv_aids\": 0.1, \"status\": \"Developing\"}, {\"country\": \"Turkey\", \"year\": 2010, \"gdp\": 1672.5693, \"hiv_aids\": 0.1, \"status\": \"Developing\"}, {\"country\": \"Turkmenistan\", \"year\": 2010, \"gdp\": 4439.23, \"hiv_aids\": 0.1, \"status\": \"Developing\"}, {\"country\": \"Ukraine\", \"year\": 2010, \"gdp\": 2965.142365, \"hiv_aids\": 0.2, \"status\": \"Developing\"}, {\"country\": \"United Arab Emirates\", \"year\": 2010, \"gdp\": 3549.14832, \"hiv_aids\": 0.1, \"status\": \"Developing\"}, {\"country\": \"Uzbekistan\", \"year\": 2010, \"gdp\": 1377.8214, \"hiv_aids\": 0.2, \"status\": \"Developing\"}, {\"country\": \"Vanuatu\", \"year\": 2010, \"gdp\": 2965.82434, \"hiv_aids\": 0.1, \"status\": \"Developing\"}]}}, {\"mode\": \"vega-lite\"});\n",
              "</script>"
            ],
            "text/plain": [
              "alt.Chart(...)"
            ]
          },
          "metadata": {},
          "execution_count": 23
        }
      ]
    },
    {
      "cell_type": "markdown",
      "source": [
        "We observe a skewness of the 'gdp' data to the right."
      ],
      "metadata": {
        "id": "ldffPNpS7cwB"
      }
    },
    {
      "cell_type": "code",
      "source": [
        "alt.Chart(Health_factors_definitive).mark_bar().encode(\n",
        "    x=alt.X('hiv_aids:Q', bin=alt.Bin(maxbins=10)),\n",
        "    y='count():Q'\n",
        ")"
      ],
      "metadata": {
        "colab": {
          "base_uri": "https://localhost:8080/",
          "height": 369
        },
        "id": "BIsPc3uH7iWF",
        "outputId": "2e5d270c-ec9b-41f0-95d8-61a603f519ca"
      },
      "execution_count": 24,
      "outputs": [
        {
          "output_type": "execute_result",
          "data": {
            "text/html": [
              "\n",
              "<div id=\"altair-viz-f112265b9e7e45ae9517b50ee9997ae5\"></div>\n",
              "<script type=\"text/javascript\">\n",
              "  var VEGA_DEBUG = (typeof VEGA_DEBUG == \"undefined\") ? {} : VEGA_DEBUG;\n",
              "  (function(spec, embedOpt){\n",
              "    let outputDiv = document.currentScript.previousElementSibling;\n",
              "    if (outputDiv.id !== \"altair-viz-f112265b9e7e45ae9517b50ee9997ae5\") {\n",
              "      outputDiv = document.getElementById(\"altair-viz-f112265b9e7e45ae9517b50ee9997ae5\");\n",
              "    }\n",
              "    const paths = {\n",
              "      \"vega\": \"https://cdn.jsdelivr.net/npm//vega@5?noext\",\n",
              "      \"vega-lib\": \"https://cdn.jsdelivr.net/npm//vega-lib?noext\",\n",
              "      \"vega-lite\": \"https://cdn.jsdelivr.net/npm//vega-lite@4.17.0?noext\",\n",
              "      \"vega-embed\": \"https://cdn.jsdelivr.net/npm//vega-embed@6?noext\",\n",
              "    };\n",
              "\n",
              "    function maybeLoadScript(lib, version) {\n",
              "      var key = `${lib.replace(\"-\", \"\")}_version`;\n",
              "      return (VEGA_DEBUG[key] == version) ?\n",
              "        Promise.resolve(paths[lib]) :\n",
              "        new Promise(function(resolve, reject) {\n",
              "          var s = document.createElement('script');\n",
              "          document.getElementsByTagName(\"head\")[0].appendChild(s);\n",
              "          s.async = true;\n",
              "          s.onload = () => {\n",
              "            VEGA_DEBUG[key] = version;\n",
              "            return resolve(paths[lib]);\n",
              "          };\n",
              "          s.onerror = () => reject(`Error loading script: ${paths[lib]}`);\n",
              "          s.src = paths[lib];\n",
              "        });\n",
              "    }\n",
              "\n",
              "    function showError(err) {\n",
              "      outputDiv.innerHTML = `<div class=\"error\" style=\"color:red;\">${err}</div>`;\n",
              "      throw err;\n",
              "    }\n",
              "\n",
              "    function displayChart(vegaEmbed) {\n",
              "      vegaEmbed(outputDiv, spec, embedOpt)\n",
              "        .catch(err => showError(`Javascript Error: ${err.message}<br>This usually means there's a typo in your chart specification. See the javascript console for the full traceback.`));\n",
              "    }\n",
              "\n",
              "    if(typeof define === \"function\" && define.amd) {\n",
              "      requirejs.config({paths});\n",
              "      require([\"vega-embed\"], displayChart, err => showError(`Error loading script: ${err.message}`));\n",
              "    } else {\n",
              "      maybeLoadScript(\"vega\", \"5\")\n",
              "        .then(() => maybeLoadScript(\"vega-lite\", \"4.17.0\"))\n",
              "        .then(() => maybeLoadScript(\"vega-embed\", \"6\"))\n",
              "        .catch(showError)\n",
              "        .then(() => displayChart(vegaEmbed));\n",
              "    }\n",
              "  })({\"config\": {\"view\": {\"continuousWidth\": 400, \"continuousHeight\": 300}}, \"data\": {\"name\": \"data-4203d97b3550617b2bd06baec0c0ce0b\"}, \"mark\": \"bar\", \"encoding\": {\"x\": {\"bin\": {\"maxbins\": 10}, \"field\": \"hiv_aids\", \"type\": \"quantitative\"}, \"y\": {\"aggregate\": \"count\", \"type\": \"quantitative\"}}, \"$schema\": \"https://vega.github.io/schema/vega-lite/v4.17.0.json\", \"datasets\": {\"data-4203d97b3550617b2bd06baec0c0ce0b\": [{\"country\": \"Afghanistan\", \"year\": 2010, \"gdp\": 553.32894, \"hiv_aids\": 0.1, \"status\": \"Developing\"}, {\"country\": \"Albania\", \"year\": 2010, \"gdp\": 494.358832, \"hiv_aids\": 0.1, \"status\": \"Developing\"}, {\"country\": \"Algeria\", \"year\": 2010, \"gdp\": 4463.394675, \"hiv_aids\": 0.1, \"status\": \"Developing\"}, {\"country\": \"Angola\", \"year\": 2010, \"gdp\": 3529.53482, \"hiv_aids\": 2.5, \"status\": \"Developing\"}, {\"country\": \"Argentina\", \"year\": 2010, \"gdp\": 1276.265, \"hiv_aids\": 0.1, \"status\": \"Developing\"}, {\"country\": \"Armenia\", \"year\": 2010, \"gdp\": 3218.381655, \"hiv_aids\": 0.1, \"status\": \"Developing\"}, {\"country\": \"Azerbaijan\", \"year\": 2010, \"gdp\": 5842.85784, \"hiv_aids\": 0.1, \"status\": \"Developing\"}, {\"country\": \"Bahrain\", \"year\": 2010, \"gdp\": 2722.1389, \"hiv_aids\": 0.1, \"status\": \"Developing\"}, {\"country\": \"Bangladesh\", \"year\": 2010, \"gdp\": 757.6717572, \"hiv_aids\": 0.1, \"status\": \"Developing\"}, {\"country\": \"Barbados\", \"year\": 2010, \"gdp\": 1595.91232, \"hiv_aids\": 0.1, \"status\": \"Developing\"}, {\"country\": \"Belarus\", \"year\": 2010, \"gdp\": 63.38877, \"hiv_aids\": 0.1, \"status\": \"Developing\"}, {\"country\": \"Belgium\", \"year\": 2010, \"gdp\": 4438.23741, \"hiv_aids\": 0.1, \"status\": \"Developed\"}, {\"country\": \"Belize\", \"year\": 2010, \"gdp\": 4344.15177, \"hiv_aids\": 0.2, \"status\": \"Developing\"}, {\"country\": \"Benin\", \"year\": 2010, \"gdp\": 757.695974, \"hiv_aids\": 1.4, \"status\": \"Developing\"}, {\"country\": \"Bhutan\", \"year\": 2010, \"gdp\": 2178.921383, \"hiv_aids\": 0.5, \"status\": \"Developing\"}, {\"country\": \"Bosnia and Herzegovina\", \"year\": 2010, \"gdp\": 4611.47298, \"hiv_aids\": 0.1, \"status\": \"Developing\"}, {\"country\": \"Bulgaria\", \"year\": 2010, \"gdp\": 6843.263289, \"hiv_aids\": 0.1, \"status\": \"Developed\"}, {\"country\": \"Burkina Faso\", \"year\": 2010, \"gdp\": 575.4464527, \"hiv_aids\": 1.0, \"status\": \"Developing\"}, {\"country\": \"Burundi\", \"year\": 2010, \"gdp\": 231.1943256, \"hiv_aids\": 1.9, \"status\": \"Developing\"}, {\"country\": \"Cabo Verde\", \"year\": 2010, \"gdp\": 3312.825985, \"hiv_aids\": 0.4, \"status\": \"Developing\"}, {\"country\": \"Cambodia\", \"year\": 2010, \"gdp\": 785.6928841, \"hiv_aids\": 0.5, \"status\": \"Developing\"}, {\"country\": \"Chile\", \"year\": 2010, \"gdp\": 1286.17764, \"hiv_aids\": 0.1, \"status\": \"Developing\"}, {\"country\": \"China\", \"year\": 2010, \"gdp\": 456.512487, \"hiv_aids\": 0.1, \"status\": \"Developing\"}, {\"country\": \"Colombia\", \"year\": 2010, \"gdp\": 625.65544, \"hiv_aids\": 0.1, \"status\": \"Developing\"}, {\"country\": \"Comoros\", \"year\": 2010, \"gdp\": 769.1742883, \"hiv_aids\": 0.1, \"status\": \"Developing\"}, {\"country\": \"Costa Rica\", \"year\": 2010, \"gdp\": 8199.414621, \"hiv_aids\": 0.1, \"status\": \"Developing\"}, {\"country\": \"Croatia\", \"year\": 2010, \"gdp\": 1355.74586, \"hiv_aids\": 0.1, \"status\": \"Developed\"}, {\"country\": \"Cuba\", \"year\": 2010, \"gdp\": 5676.14143, \"hiv_aids\": 0.1, \"status\": \"Developing\"}, {\"country\": \"Cyprus\", \"year\": 2010, \"gdp\": 3818.46396, \"hiv_aids\": 0.1, \"status\": \"Developed\"}, {\"country\": \"Denmark\", \"year\": 2010, \"gdp\": 5841.41122, \"hiv_aids\": 0.1, \"status\": \"Developed\"}, {\"country\": \"Dominican Republic\", \"year\": 2010, \"gdp\": 5451.6696, \"hiv_aids\": 0.9, \"status\": \"Developing\"}, {\"country\": \"Ecuador\", \"year\": 2010, \"gdp\": 4657.32361, \"hiv_aids\": 0.1, \"status\": \"Developing\"}, {\"country\": \"El Salvador\", \"year\": 2010, \"gdp\": 3474.392445, \"hiv_aids\": 0.3, \"status\": \"Developing\"}, {\"country\": \"Eritrea\", \"year\": 2010, \"gdp\": 482.14994, \"hiv_aids\": 0.9, \"status\": \"Developing\"}, {\"country\": \"Ethiopia\", \"year\": 2010, \"gdp\": 341.39992, \"hiv_aids\": 1.7, \"status\": \"Developing\"}, {\"country\": \"Fiji\", \"year\": 2010, \"gdp\": 3651.966784, \"hiv_aids\": 0.1, \"status\": \"Developing\"}, {\"country\": \"Finland\", \"year\": 2010, \"gdp\": 4622.41516, \"hiv_aids\": 0.1, \"status\": \"Developing\"}, {\"country\": \"France\", \"year\": 2010, \"gdp\": 473.34279, \"hiv_aids\": 0.1, \"status\": \"Developing\"}, {\"country\": \"Georgia\", \"year\": 2010, \"gdp\": 2964.47734, \"hiv_aids\": 0.1, \"status\": \"Developing\"}, {\"country\": \"Ghana\", \"year\": 2010, \"gdp\": 1312.67557, \"hiv_aids\": 1.9, \"status\": \"Developing\"}, {\"country\": \"Grenada\", \"year\": 2010, \"gdp\": 7365.666659, \"hiv_aids\": 0.1, \"status\": \"Developing\"}, {\"country\": \"Guatemala\", \"year\": 2010, \"gdp\": 2825.5247, \"hiv_aids\": 0.4, \"status\": \"Developing\"}, {\"country\": \"Guinea\", \"year\": 2010, \"gdp\": 438.7513346, \"hiv_aids\": 2.2, \"status\": \"Developing\"}, {\"country\": \"Guyana\", \"year\": 2010, \"gdp\": 326.281212, \"hiv_aids\": 0.4, \"status\": \"Developing\"}, {\"country\": \"Haiti\", \"year\": 2010, \"gdp\": 662.2795182, \"hiv_aids\": 1.9, \"status\": \"Developing\"}, {\"country\": \"Honduras\", \"year\": 2010, \"gdp\": 1932.85829, \"hiv_aids\": 0.4, \"status\": \"Developing\"}, {\"country\": \"Hungary\", \"year\": 2010, \"gdp\": 1325.53379, \"hiv_aids\": 0.1, \"status\": \"Developed\"}, {\"country\": \"India\", \"year\": 2010, \"gdp\": 1345.77153, \"hiv_aids\": 0.2, \"status\": \"Developing\"}, {\"country\": \"Indonesia\", \"year\": 2010, \"gdp\": 3113.48635, \"hiv_aids\": 0.3, \"status\": \"Developing\"}, {\"country\": \"Iraq\", \"year\": 2010, \"gdp\": 452.74948, \"hiv_aids\": 0.1, \"status\": \"Developing\"}, {\"country\": \"Israel\", \"year\": 2010, \"gdp\": 3661.994, \"hiv_aids\": 0.1, \"status\": \"Developing\"}, {\"country\": \"Jamaica\", \"year\": 2010, \"gdp\": 4682.728424, \"hiv_aids\": 0.5, \"status\": \"Developing\"}, {\"country\": \"Japan\", \"year\": 2010, \"gdp\": 4457.67639, \"hiv_aids\": 0.1, \"status\": \"Developed\"}, {\"country\": \"Jordan\", \"year\": 2010, \"gdp\": 3679.19275, \"hiv_aids\": 0.1, \"status\": \"Developing\"}, {\"country\": \"Kazakhstan\", \"year\": 2010, \"gdp\": 97.649972, \"hiv_aids\": 0.1, \"status\": \"Developing\"}, {\"country\": \"Kiribati\", \"year\": 2010, \"gdp\": 1493.1651, \"hiv_aids\": 0.1, \"status\": \"Developing\"}, {\"country\": \"Lebanon\", \"year\": 2010, \"gdp\": 8763.826274, \"hiv_aids\": 0.1, \"status\": \"Developing\"}, {\"country\": \"Liberia\", \"year\": 2010, \"gdp\": 327.42597, \"hiv_aids\": 1.8, \"status\": \"Developing\"}, {\"country\": \"Libya\", \"year\": 2010, \"gdp\": 1212.56217, \"hiv_aids\": 0.1, \"status\": \"Developing\"}, {\"country\": \"Madagascar\", \"year\": 2010, \"gdp\": 412.739341, \"hiv_aids\": 0.5, \"status\": \"Developing\"}, {\"country\": \"Malaysia\", \"year\": 2010, \"gdp\": 971.356987, \"hiv_aids\": 0.1, \"status\": \"Developing\"}, {\"country\": \"Maldives\", \"year\": 2010, \"gdp\": 633.79498, \"hiv_aids\": 0.1, \"status\": \"Developing\"}, {\"country\": \"Mali\", \"year\": 2010, \"gdp\": 78.377632, \"hiv_aids\": 1.5, \"status\": \"Developing\"}, {\"country\": \"Malta\", \"year\": 2010, \"gdp\": 2187.79469, \"hiv_aids\": 0.1, \"status\": \"Developed\"}, {\"country\": \"Mauritania\", \"year\": 2010, \"gdp\": 123.383675, \"hiv_aids\": 1.2, \"status\": \"Developing\"}, {\"country\": \"Mauritius\", \"year\": 2010, \"gdp\": 8.376432, \"hiv_aids\": 0.2, \"status\": \"Developing\"}, {\"country\": \"Mexico\", \"year\": 2010, \"gdp\": 8959.581416, \"hiv_aids\": 0.1, \"status\": \"Developing\"}, {\"country\": \"Mongolia\", \"year\": 2010, \"gdp\": 265.353659, \"hiv_aids\": 0.1, \"status\": \"Developing\"}, {\"country\": \"Montenegro\", \"year\": 2010, \"gdp\": 6682.281158, \"hiv_aids\": 0.1, \"status\": \"Developing\"}, {\"country\": \"Morocco\", \"year\": 2010, \"gdp\": 2834.2472, \"hiv_aids\": 0.1, \"status\": \"Developing\"}, {\"country\": \"Myanmar\", \"year\": 2010, \"gdp\": 987.7365832, \"hiv_aids\": 0.5, \"status\": \"Developing\"}, {\"country\": \"Nepal\", \"year\": 2010, \"gdp\": 592.1835216, \"hiv_aids\": 0.2, \"status\": \"Developing\"}, {\"country\": \"Netherlands\", \"year\": 2010, \"gdp\": 5338.25483, \"hiv_aids\": 0.1, \"status\": \"Developed\"}, {\"country\": \"Nicaragua\", \"year\": 2010, \"gdp\": 1526.497938, \"hiv_aids\": 0.1, \"status\": \"Developing\"}, {\"country\": \"Niger\", \"year\": 2010, \"gdp\": 348.151511, \"hiv_aids\": 0.9, \"status\": \"Developing\"}, {\"country\": \"Oman\", \"year\": 2010, \"gdp\": 1928.74739, \"hiv_aids\": 0.1, \"status\": \"Developing\"}, {\"country\": \"Pakistan\", \"year\": 2010, \"gdp\": 14.142268, \"hiv_aids\": 0.1, \"status\": \"Developing\"}, {\"country\": \"Panama\", \"year\": 2010, \"gdp\": 7937.259931, \"hiv_aids\": 0.1, \"status\": \"Developing\"}, {\"country\": \"Papua New Guinea\", \"year\": 2010, \"gdp\": 1366.879112, \"hiv_aids\": 1.1, \"status\": \"Developing\"}, {\"country\": \"Paraguay\", \"year\": 2010, \"gdp\": 3225.591754, \"hiv_aids\": 0.1, \"status\": \"Developing\"}, {\"country\": \"Peru\", \"year\": 2010, \"gdp\": 522.493191, \"hiv_aids\": 0.2, \"status\": \"Developing\"}, {\"country\": \"Philippines\", \"year\": 2010, \"gdp\": 2129.499242, \"hiv_aids\": 0.1, \"status\": \"Developing\"}, {\"country\": \"Qatar\", \"year\": 2010, \"gdp\": 736.22784, \"hiv_aids\": 0.1, \"status\": \"Developing\"}, {\"country\": \"Romania\", \"year\": 2010, \"gdp\": 8297.483621, \"hiv_aids\": 0.1, \"status\": \"Developed\"}, {\"country\": \"Russian Federation\", \"year\": 2010, \"gdp\": 1674.98771, \"hiv_aids\": 0.2, \"status\": \"Developing\"}, {\"country\": \"Rwanda\", \"year\": 2010, \"gdp\": 563.491487, \"hiv_aids\": 2.3, \"status\": \"Developing\"}, {\"country\": \"Samoa\", \"year\": 2010, \"gdp\": 3453.487434, \"hiv_aids\": 0.1, \"status\": \"Developing\"}, {\"country\": \"Sao Tome and Principe\", \"year\": 2010, \"gdp\": 1129.754961, \"hiv_aids\": 0.5, \"status\": \"Developing\"}, {\"country\": \"Senegal\", \"year\": 2010, \"gdp\": 11.631377, \"hiv_aids\": 0.4, \"status\": \"Developing\"}, {\"country\": \"Serbia\", \"year\": 2010, \"gdp\": 5411.87744, \"hiv_aids\": 0.1, \"status\": \"Developing\"}, {\"country\": \"Seychelles\", \"year\": 2010, \"gdp\": 184.68447, \"hiv_aids\": 0.1, \"status\": \"Developing\"}, {\"country\": \"Sierra Leone\", \"year\": 2010, \"gdp\": 45.128418, \"hiv_aids\": 1.6, \"status\": \"Developing\"}, {\"country\": \"Solomon Islands\", \"year\": 2010, \"gdp\": 1272.44825, \"hiv_aids\": 0.1, \"status\": \"Developing\"}, {\"country\": \"Spain\", \"year\": 2010, \"gdp\": 3736.228, \"hiv_aids\": 0.1, \"status\": \"Developed\"}, {\"country\": \"Sri Lanka\", \"year\": 2010, \"gdp\": 2819.511161, \"hiv_aids\": 0.1, \"status\": \"Developing\"}, {\"country\": \"Sudan\", \"year\": 2010, \"gdp\": 1476.47887, \"hiv_aids\": 0.3, \"status\": \"Developing\"}, {\"country\": \"Suriname\", \"year\": 2010, \"gdp\": 833.31332, \"hiv_aids\": 0.5, \"status\": \"Developing\"}, {\"country\": \"Sweden\", \"year\": 2010, \"gdp\": 5276.25591, \"hiv_aids\": 0.1, \"status\": \"Developed\"}, {\"country\": \"Tajikistan\", \"year\": 2010, \"gdp\": 738.3475227, \"hiv_aids\": 0.2, \"status\": \"Developing\"}, {\"country\": \"Thailand\", \"year\": 2010, \"gdp\": 575.32176, \"hiv_aids\": 0.2, \"status\": \"Developing\"}, {\"country\": \"Timor-Leste\", \"year\": 2010, \"gdp\": 849.8626972, \"hiv_aids\": 0.1, \"status\": \"Developing\"}, {\"country\": \"Tonga\", \"year\": 2010, \"gdp\": 3547.59975, \"hiv_aids\": 0.1, \"status\": \"Developing\"}, {\"country\": \"Tunisia\", \"year\": 2010, \"gdp\": 414.15177, \"hiv_aids\": 0.1, \"status\": \"Developing\"}, {\"country\": \"Turkey\", \"year\": 2010, \"gdp\": 1672.5693, \"hiv_aids\": 0.1, \"status\": \"Developing\"}, {\"country\": \"Turkmenistan\", \"year\": 2010, \"gdp\": 4439.23, \"hiv_aids\": 0.1, \"status\": \"Developing\"}, {\"country\": \"Ukraine\", \"year\": 2010, \"gdp\": 2965.142365, \"hiv_aids\": 0.2, \"status\": \"Developing\"}, {\"country\": \"United Arab Emirates\", \"year\": 2010, \"gdp\": 3549.14832, \"hiv_aids\": 0.1, \"status\": \"Developing\"}, {\"country\": \"Uzbekistan\", \"year\": 2010, \"gdp\": 1377.8214, \"hiv_aids\": 0.2, \"status\": \"Developing\"}, {\"country\": \"Vanuatu\", \"year\": 2010, \"gdp\": 2965.82434, \"hiv_aids\": 0.1, \"status\": \"Developing\"}]}}, {\"mode\": \"vega-lite\"});\n",
              "</script>"
            ],
            "text/plain": [
              "alt.Chart(...)"
            ]
          },
          "metadata": {},
          "execution_count": 24
        }
      ]
    },
    {
      "cell_type": "markdown",
      "source": [
        "There are only 5 bins visible since the max value of the variable 'hiv_aids' is 2.5:"
      ],
      "metadata": {
        "id": "m12u9QPe_GV9"
      }
    },
    {
      "cell_type": "code",
      "source": [
        "Health_factors_definitive['hiv_aids'].max()"
      ],
      "metadata": {
        "colab": {
          "base_uri": "https://localhost:8080/"
        },
        "id": "9TnCsbQG_LBZ",
        "outputId": "bb827c5a-6947-47c3-8ca2-0c12eb836f6b"
      },
      "execution_count": 25,
      "outputs": [
        {
          "output_type": "execute_result",
          "data": {
            "text/plain": [
              "2.5"
            ]
          },
          "metadata": {},
          "execution_count": 25
        }
      ]
    },
    {
      "cell_type": "markdown",
      "source": [
        "There is also a strong skewness of the hiv_aids data to the right."
      ],
      "metadata": {
        "id": "9DUsM7o77nfY"
      }
    },
    {
      "cell_type": "markdown",
      "source": [
        "The first research question was to check whether there is an association between a country's GDP and incidences of HIV/AIDS (high and low GDP vs amount of population infected with HIV/AIDS) in 2010? (25 percentile (low) and 75 percentile (high)). Let's first make a scatterplot containing all gdp values."
      ],
      "metadata": {
        "id": "DOpmE-hh_SnI"
      }
    },
    {
      "cell_type": "code",
      "source": [
        "chart = alt.Chart(Health_factors_definitive).mark_point().encode(\n",
        "    x='gdp:Q',\n",
        "    y='hiv_aids:Q'\n",
        ")\n",
        "chart + chart.transform_regression('gdp', 'hiv_aids').mark_line()"
      ],
      "metadata": {
        "colab": {
          "base_uri": "https://localhost:8080/",
          "height": 364
        },
        "id": "JTe1GT0r8r8J",
        "outputId": "da517c38-bcad-4ff9-f5d5-f855b6d5e412"
      },
      "execution_count": 26,
      "outputs": [
        {
          "output_type": "execute_result",
          "data": {
            "text/html": [
              "\n",
              "<div id=\"altair-viz-90190c80fe7b4a9e818cd53d500e4a5f\"></div>\n",
              "<script type=\"text/javascript\">\n",
              "  var VEGA_DEBUG = (typeof VEGA_DEBUG == \"undefined\") ? {} : VEGA_DEBUG;\n",
              "  (function(spec, embedOpt){\n",
              "    let outputDiv = document.currentScript.previousElementSibling;\n",
              "    if (outputDiv.id !== \"altair-viz-90190c80fe7b4a9e818cd53d500e4a5f\") {\n",
              "      outputDiv = document.getElementById(\"altair-viz-90190c80fe7b4a9e818cd53d500e4a5f\");\n",
              "    }\n",
              "    const paths = {\n",
              "      \"vega\": \"https://cdn.jsdelivr.net/npm//vega@5?noext\",\n",
              "      \"vega-lib\": \"https://cdn.jsdelivr.net/npm//vega-lib?noext\",\n",
              "      \"vega-lite\": \"https://cdn.jsdelivr.net/npm//vega-lite@4.17.0?noext\",\n",
              "      \"vega-embed\": \"https://cdn.jsdelivr.net/npm//vega-embed@6?noext\",\n",
              "    };\n",
              "\n",
              "    function maybeLoadScript(lib, version) {\n",
              "      var key = `${lib.replace(\"-\", \"\")}_version`;\n",
              "      return (VEGA_DEBUG[key] == version) ?\n",
              "        Promise.resolve(paths[lib]) :\n",
              "        new Promise(function(resolve, reject) {\n",
              "          var s = document.createElement('script');\n",
              "          document.getElementsByTagName(\"head\")[0].appendChild(s);\n",
              "          s.async = true;\n",
              "          s.onload = () => {\n",
              "            VEGA_DEBUG[key] = version;\n",
              "            return resolve(paths[lib]);\n",
              "          };\n",
              "          s.onerror = () => reject(`Error loading script: ${paths[lib]}`);\n",
              "          s.src = paths[lib];\n",
              "        });\n",
              "    }\n",
              "\n",
              "    function showError(err) {\n",
              "      outputDiv.innerHTML = `<div class=\"error\" style=\"color:red;\">${err}</div>`;\n",
              "      throw err;\n",
              "    }\n",
              "\n",
              "    function displayChart(vegaEmbed) {\n",
              "      vegaEmbed(outputDiv, spec, embedOpt)\n",
              "        .catch(err => showError(`Javascript Error: ${err.message}<br>This usually means there's a typo in your chart specification. See the javascript console for the full traceback.`));\n",
              "    }\n",
              "\n",
              "    if(typeof define === \"function\" && define.amd) {\n",
              "      requirejs.config({paths});\n",
              "      require([\"vega-embed\"], displayChart, err => showError(`Error loading script: ${err.message}`));\n",
              "    } else {\n",
              "      maybeLoadScript(\"vega\", \"5\")\n",
              "        .then(() => maybeLoadScript(\"vega-lite\", \"4.17.0\"))\n",
              "        .then(() => maybeLoadScript(\"vega-embed\", \"6\"))\n",
              "        .catch(showError)\n",
              "        .then(() => displayChart(vegaEmbed));\n",
              "    }\n",
              "  })({\"config\": {\"view\": {\"continuousWidth\": 400, \"continuousHeight\": 300}}, \"layer\": [{\"mark\": \"point\", \"encoding\": {\"x\": {\"field\": \"gdp\", \"type\": \"quantitative\"}, \"y\": {\"field\": \"hiv_aids\", \"type\": \"quantitative\"}}}, {\"mark\": \"line\", \"encoding\": {\"x\": {\"field\": \"gdp\", \"type\": \"quantitative\"}, \"y\": {\"field\": \"hiv_aids\", \"type\": \"quantitative\"}}, \"transform\": [{\"on\": \"gdp\", \"regression\": \"hiv_aids\"}]}], \"data\": {\"name\": \"data-4203d97b3550617b2bd06baec0c0ce0b\"}, \"$schema\": \"https://vega.github.io/schema/vega-lite/v4.17.0.json\", \"datasets\": {\"data-4203d97b3550617b2bd06baec0c0ce0b\": [{\"country\": \"Afghanistan\", \"year\": 2010, \"gdp\": 553.32894, \"hiv_aids\": 0.1, \"status\": \"Developing\"}, {\"country\": \"Albania\", \"year\": 2010, \"gdp\": 494.358832, \"hiv_aids\": 0.1, \"status\": \"Developing\"}, {\"country\": \"Algeria\", \"year\": 2010, \"gdp\": 4463.394675, \"hiv_aids\": 0.1, \"status\": \"Developing\"}, {\"country\": \"Angola\", \"year\": 2010, \"gdp\": 3529.53482, \"hiv_aids\": 2.5, \"status\": \"Developing\"}, {\"country\": \"Argentina\", \"year\": 2010, \"gdp\": 1276.265, \"hiv_aids\": 0.1, \"status\": \"Developing\"}, {\"country\": \"Armenia\", \"year\": 2010, \"gdp\": 3218.381655, \"hiv_aids\": 0.1, \"status\": \"Developing\"}, {\"country\": \"Azerbaijan\", \"year\": 2010, \"gdp\": 5842.85784, \"hiv_aids\": 0.1, \"status\": \"Developing\"}, {\"country\": \"Bahrain\", \"year\": 2010, \"gdp\": 2722.1389, \"hiv_aids\": 0.1, \"status\": \"Developing\"}, {\"country\": \"Bangladesh\", \"year\": 2010, \"gdp\": 757.6717572, \"hiv_aids\": 0.1, \"status\": \"Developing\"}, {\"country\": \"Barbados\", \"year\": 2010, \"gdp\": 1595.91232, \"hiv_aids\": 0.1, \"status\": \"Developing\"}, {\"country\": \"Belarus\", \"year\": 2010, \"gdp\": 63.38877, \"hiv_aids\": 0.1, \"status\": \"Developing\"}, {\"country\": \"Belgium\", \"year\": 2010, \"gdp\": 4438.23741, \"hiv_aids\": 0.1, \"status\": \"Developed\"}, {\"country\": \"Belize\", \"year\": 2010, \"gdp\": 4344.15177, \"hiv_aids\": 0.2, \"status\": \"Developing\"}, {\"country\": \"Benin\", \"year\": 2010, \"gdp\": 757.695974, \"hiv_aids\": 1.4, \"status\": \"Developing\"}, {\"country\": \"Bhutan\", \"year\": 2010, \"gdp\": 2178.921383, \"hiv_aids\": 0.5, \"status\": \"Developing\"}, {\"country\": \"Bosnia and Herzegovina\", \"year\": 2010, \"gdp\": 4611.47298, \"hiv_aids\": 0.1, \"status\": \"Developing\"}, {\"country\": \"Bulgaria\", \"year\": 2010, \"gdp\": 6843.263289, \"hiv_aids\": 0.1, \"status\": \"Developed\"}, {\"country\": \"Burkina Faso\", \"year\": 2010, \"gdp\": 575.4464527, \"hiv_aids\": 1.0, \"status\": \"Developing\"}, {\"country\": \"Burundi\", \"year\": 2010, \"gdp\": 231.1943256, \"hiv_aids\": 1.9, \"status\": \"Developing\"}, {\"country\": \"Cabo Verde\", \"year\": 2010, \"gdp\": 3312.825985, \"hiv_aids\": 0.4, \"status\": \"Developing\"}, {\"country\": \"Cambodia\", \"year\": 2010, \"gdp\": 785.6928841, \"hiv_aids\": 0.5, \"status\": \"Developing\"}, {\"country\": \"Chile\", \"year\": 2010, \"gdp\": 1286.17764, \"hiv_aids\": 0.1, \"status\": \"Developing\"}, {\"country\": \"China\", \"year\": 2010, \"gdp\": 456.512487, \"hiv_aids\": 0.1, \"status\": \"Developing\"}, {\"country\": \"Colombia\", \"year\": 2010, \"gdp\": 625.65544, \"hiv_aids\": 0.1, \"status\": \"Developing\"}, {\"country\": \"Comoros\", \"year\": 2010, \"gdp\": 769.1742883, \"hiv_aids\": 0.1, \"status\": \"Developing\"}, {\"country\": \"Costa Rica\", \"year\": 2010, \"gdp\": 8199.414621, \"hiv_aids\": 0.1, \"status\": \"Developing\"}, {\"country\": \"Croatia\", \"year\": 2010, \"gdp\": 1355.74586, \"hiv_aids\": 0.1, \"status\": \"Developed\"}, {\"country\": \"Cuba\", \"year\": 2010, \"gdp\": 5676.14143, \"hiv_aids\": 0.1, \"status\": \"Developing\"}, {\"country\": \"Cyprus\", \"year\": 2010, \"gdp\": 3818.46396, \"hiv_aids\": 0.1, \"status\": \"Developed\"}, {\"country\": \"Denmark\", \"year\": 2010, \"gdp\": 5841.41122, \"hiv_aids\": 0.1, \"status\": \"Developed\"}, {\"country\": \"Dominican Republic\", \"year\": 2010, \"gdp\": 5451.6696, \"hiv_aids\": 0.9, \"status\": \"Developing\"}, {\"country\": \"Ecuador\", \"year\": 2010, \"gdp\": 4657.32361, \"hiv_aids\": 0.1, \"status\": \"Developing\"}, {\"country\": \"El Salvador\", \"year\": 2010, \"gdp\": 3474.392445, \"hiv_aids\": 0.3, \"status\": \"Developing\"}, {\"country\": \"Eritrea\", \"year\": 2010, \"gdp\": 482.14994, \"hiv_aids\": 0.9, \"status\": \"Developing\"}, {\"country\": \"Ethiopia\", \"year\": 2010, \"gdp\": 341.39992, \"hiv_aids\": 1.7, \"status\": \"Developing\"}, {\"country\": \"Fiji\", \"year\": 2010, \"gdp\": 3651.966784, \"hiv_aids\": 0.1, \"status\": \"Developing\"}, {\"country\": \"Finland\", \"year\": 2010, \"gdp\": 4622.41516, \"hiv_aids\": 0.1, \"status\": \"Developing\"}, {\"country\": \"France\", \"year\": 2010, \"gdp\": 473.34279, \"hiv_aids\": 0.1, \"status\": \"Developing\"}, {\"country\": \"Georgia\", \"year\": 2010, \"gdp\": 2964.47734, \"hiv_aids\": 0.1, \"status\": \"Developing\"}, {\"country\": \"Ghana\", \"year\": 2010, \"gdp\": 1312.67557, \"hiv_aids\": 1.9, \"status\": \"Developing\"}, {\"country\": \"Grenada\", \"year\": 2010, \"gdp\": 7365.666659, \"hiv_aids\": 0.1, \"status\": \"Developing\"}, {\"country\": \"Guatemala\", \"year\": 2010, \"gdp\": 2825.5247, \"hiv_aids\": 0.4, \"status\": \"Developing\"}, {\"country\": \"Guinea\", \"year\": 2010, \"gdp\": 438.7513346, \"hiv_aids\": 2.2, \"status\": \"Developing\"}, {\"country\": \"Guyana\", \"year\": 2010, \"gdp\": 326.281212, \"hiv_aids\": 0.4, \"status\": \"Developing\"}, {\"country\": \"Haiti\", \"year\": 2010, \"gdp\": 662.2795182, \"hiv_aids\": 1.9, \"status\": \"Developing\"}, {\"country\": \"Honduras\", \"year\": 2010, \"gdp\": 1932.85829, \"hiv_aids\": 0.4, \"status\": \"Developing\"}, {\"country\": \"Hungary\", \"year\": 2010, \"gdp\": 1325.53379, \"hiv_aids\": 0.1, \"status\": \"Developed\"}, {\"country\": \"India\", \"year\": 2010, \"gdp\": 1345.77153, \"hiv_aids\": 0.2, \"status\": \"Developing\"}, {\"country\": \"Indonesia\", \"year\": 2010, \"gdp\": 3113.48635, \"hiv_aids\": 0.3, \"status\": \"Developing\"}, {\"country\": \"Iraq\", \"year\": 2010, \"gdp\": 452.74948, \"hiv_aids\": 0.1, \"status\": \"Developing\"}, {\"country\": \"Israel\", \"year\": 2010, \"gdp\": 3661.994, \"hiv_aids\": 0.1, \"status\": \"Developing\"}, {\"country\": \"Jamaica\", \"year\": 2010, \"gdp\": 4682.728424, \"hiv_aids\": 0.5, \"status\": \"Developing\"}, {\"country\": \"Japan\", \"year\": 2010, \"gdp\": 4457.67639, \"hiv_aids\": 0.1, \"status\": \"Developed\"}, {\"country\": \"Jordan\", \"year\": 2010, \"gdp\": 3679.19275, \"hiv_aids\": 0.1, \"status\": \"Developing\"}, {\"country\": \"Kazakhstan\", \"year\": 2010, \"gdp\": 97.649972, \"hiv_aids\": 0.1, \"status\": \"Developing\"}, {\"country\": \"Kiribati\", \"year\": 2010, \"gdp\": 1493.1651, \"hiv_aids\": 0.1, \"status\": \"Developing\"}, {\"country\": \"Lebanon\", \"year\": 2010, \"gdp\": 8763.826274, \"hiv_aids\": 0.1, \"status\": \"Developing\"}, {\"country\": \"Liberia\", \"year\": 2010, \"gdp\": 327.42597, \"hiv_aids\": 1.8, \"status\": \"Developing\"}, {\"country\": \"Libya\", \"year\": 2010, \"gdp\": 1212.56217, \"hiv_aids\": 0.1, \"status\": \"Developing\"}, {\"country\": \"Madagascar\", \"year\": 2010, \"gdp\": 412.739341, \"hiv_aids\": 0.5, \"status\": \"Developing\"}, {\"country\": \"Malaysia\", \"year\": 2010, \"gdp\": 971.356987, \"hiv_aids\": 0.1, \"status\": \"Developing\"}, {\"country\": \"Maldives\", \"year\": 2010, \"gdp\": 633.79498, \"hiv_aids\": 0.1, \"status\": \"Developing\"}, {\"country\": \"Mali\", \"year\": 2010, \"gdp\": 78.377632, \"hiv_aids\": 1.5, \"status\": \"Developing\"}, {\"country\": \"Malta\", \"year\": 2010, \"gdp\": 2187.79469, \"hiv_aids\": 0.1, \"status\": \"Developed\"}, {\"country\": \"Mauritania\", \"year\": 2010, \"gdp\": 123.383675, \"hiv_aids\": 1.2, \"status\": \"Developing\"}, {\"country\": \"Mauritius\", \"year\": 2010, \"gdp\": 8.376432, \"hiv_aids\": 0.2, \"status\": \"Developing\"}, {\"country\": \"Mexico\", \"year\": 2010, \"gdp\": 8959.581416, \"hiv_aids\": 0.1, \"status\": \"Developing\"}, {\"country\": \"Mongolia\", \"year\": 2010, \"gdp\": 265.353659, \"hiv_aids\": 0.1, \"status\": \"Developing\"}, {\"country\": \"Montenegro\", \"year\": 2010, \"gdp\": 6682.281158, \"hiv_aids\": 0.1, \"status\": \"Developing\"}, {\"country\": \"Morocco\", \"year\": 2010, \"gdp\": 2834.2472, \"hiv_aids\": 0.1, \"status\": \"Developing\"}, {\"country\": \"Myanmar\", \"year\": 2010, \"gdp\": 987.7365832, \"hiv_aids\": 0.5, \"status\": \"Developing\"}, {\"country\": \"Nepal\", \"year\": 2010, \"gdp\": 592.1835216, \"hiv_aids\": 0.2, \"status\": \"Developing\"}, {\"country\": \"Netherlands\", \"year\": 2010, \"gdp\": 5338.25483, \"hiv_aids\": 0.1, \"status\": \"Developed\"}, {\"country\": \"Nicaragua\", \"year\": 2010, \"gdp\": 1526.497938, \"hiv_aids\": 0.1, \"status\": \"Developing\"}, {\"country\": \"Niger\", \"year\": 2010, \"gdp\": 348.151511, \"hiv_aids\": 0.9, \"status\": \"Developing\"}, {\"country\": \"Oman\", \"year\": 2010, \"gdp\": 1928.74739, \"hiv_aids\": 0.1, \"status\": \"Developing\"}, {\"country\": \"Pakistan\", \"year\": 2010, \"gdp\": 14.142268, \"hiv_aids\": 0.1, \"status\": \"Developing\"}, {\"country\": \"Panama\", \"year\": 2010, \"gdp\": 7937.259931, \"hiv_aids\": 0.1, \"status\": \"Developing\"}, {\"country\": \"Papua New Guinea\", \"year\": 2010, \"gdp\": 1366.879112, \"hiv_aids\": 1.1, \"status\": \"Developing\"}, {\"country\": \"Paraguay\", \"year\": 2010, \"gdp\": 3225.591754, \"hiv_aids\": 0.1, \"status\": \"Developing\"}, {\"country\": \"Peru\", \"year\": 2010, \"gdp\": 522.493191, \"hiv_aids\": 0.2, \"status\": \"Developing\"}, {\"country\": \"Philippines\", \"year\": 2010, \"gdp\": 2129.499242, \"hiv_aids\": 0.1, \"status\": \"Developing\"}, {\"country\": \"Qatar\", \"year\": 2010, \"gdp\": 736.22784, \"hiv_aids\": 0.1, \"status\": \"Developing\"}, {\"country\": \"Romania\", \"year\": 2010, \"gdp\": 8297.483621, \"hiv_aids\": 0.1, \"status\": \"Developed\"}, {\"country\": \"Russian Federation\", \"year\": 2010, \"gdp\": 1674.98771, \"hiv_aids\": 0.2, \"status\": \"Developing\"}, {\"country\": \"Rwanda\", \"year\": 2010, \"gdp\": 563.491487, \"hiv_aids\": 2.3, \"status\": \"Developing\"}, {\"country\": \"Samoa\", \"year\": 2010, \"gdp\": 3453.487434, \"hiv_aids\": 0.1, \"status\": \"Developing\"}, {\"country\": \"Sao Tome and Principe\", \"year\": 2010, \"gdp\": 1129.754961, \"hiv_aids\": 0.5, \"status\": \"Developing\"}, {\"country\": \"Senegal\", \"year\": 2010, \"gdp\": 11.631377, \"hiv_aids\": 0.4, \"status\": \"Developing\"}, {\"country\": \"Serbia\", \"year\": 2010, \"gdp\": 5411.87744, \"hiv_aids\": 0.1, \"status\": \"Developing\"}, {\"country\": \"Seychelles\", \"year\": 2010, \"gdp\": 184.68447, \"hiv_aids\": 0.1, \"status\": \"Developing\"}, {\"country\": \"Sierra Leone\", \"year\": 2010, \"gdp\": 45.128418, \"hiv_aids\": 1.6, \"status\": \"Developing\"}, {\"country\": \"Solomon Islands\", \"year\": 2010, \"gdp\": 1272.44825, \"hiv_aids\": 0.1, \"status\": \"Developing\"}, {\"country\": \"Spain\", \"year\": 2010, \"gdp\": 3736.228, \"hiv_aids\": 0.1, \"status\": \"Developed\"}, {\"country\": \"Sri Lanka\", \"year\": 2010, \"gdp\": 2819.511161, \"hiv_aids\": 0.1, \"status\": \"Developing\"}, {\"country\": \"Sudan\", \"year\": 2010, \"gdp\": 1476.47887, \"hiv_aids\": 0.3, \"status\": \"Developing\"}, {\"country\": \"Suriname\", \"year\": 2010, \"gdp\": 833.31332, \"hiv_aids\": 0.5, \"status\": \"Developing\"}, {\"country\": \"Sweden\", \"year\": 2010, \"gdp\": 5276.25591, \"hiv_aids\": 0.1, \"status\": \"Developed\"}, {\"country\": \"Tajikistan\", \"year\": 2010, \"gdp\": 738.3475227, \"hiv_aids\": 0.2, \"status\": \"Developing\"}, {\"country\": \"Thailand\", \"year\": 2010, \"gdp\": 575.32176, \"hiv_aids\": 0.2, \"status\": \"Developing\"}, {\"country\": \"Timor-Leste\", \"year\": 2010, \"gdp\": 849.8626972, \"hiv_aids\": 0.1, \"status\": \"Developing\"}, {\"country\": \"Tonga\", \"year\": 2010, \"gdp\": 3547.59975, \"hiv_aids\": 0.1, \"status\": \"Developing\"}, {\"country\": \"Tunisia\", \"year\": 2010, \"gdp\": 414.15177, \"hiv_aids\": 0.1, \"status\": \"Developing\"}, {\"country\": \"Turkey\", \"year\": 2010, \"gdp\": 1672.5693, \"hiv_aids\": 0.1, \"status\": \"Developing\"}, {\"country\": \"Turkmenistan\", \"year\": 2010, \"gdp\": 4439.23, \"hiv_aids\": 0.1, \"status\": \"Developing\"}, {\"country\": \"Ukraine\", \"year\": 2010, \"gdp\": 2965.142365, \"hiv_aids\": 0.2, \"status\": \"Developing\"}, {\"country\": \"United Arab Emirates\", \"year\": 2010, \"gdp\": 3549.14832, \"hiv_aids\": 0.1, \"status\": \"Developing\"}, {\"country\": \"Uzbekistan\", \"year\": 2010, \"gdp\": 1377.8214, \"hiv_aids\": 0.2, \"status\": \"Developing\"}, {\"country\": \"Vanuatu\", \"year\": 2010, \"gdp\": 2965.82434, \"hiv_aids\": 0.1, \"status\": \"Developing\"}]}}, {\"mode\": \"vega-lite\"});\n",
              "</script>"
            ],
            "text/plain": [
              "alt.LayerChart(...)"
            ]
          },
          "metadata": {},
          "execution_count": 26
        }
      ]
    },
    {
      "cell_type": "markdown",
      "source": [
        "We can also calculate the correlation coefficient with the NumPy module."
      ],
      "metadata": {
        "id": "_C3MBiwX2nov"
      }
    },
    {
      "cell_type": "code",
      "source": [
        "import numpy as np\n",
        "np.corrcoef(Health_factors_definitive['gdp'], Health_factors_definitive['hiv_aids'])"
      ],
      "metadata": {
        "colab": {
          "base_uri": "https://localhost:8080/"
        },
        "id": "3FHl4AYG12EX",
        "outputId": "f0ff076f-7dcd-4c99-b4d2-46332ab9f621"
      },
      "execution_count": 27,
      "outputs": [
        {
          "output_type": "execute_result",
          "data": {
            "text/plain": [
              "array([[ 1.        , -0.30127765],\n",
              "       [-0.30127765,  1.        ]])"
            ]
          },
          "metadata": {},
          "execution_count": 27
        }
      ]
    },
    {
      "cell_type": "markdown",
      "source": [
        "We observe that there is a negative correlation between a country's gdp and hiv_aids deaths per 1,000 live births. The correlation coefficient is equal to -0.301. Now let's only select the data belonging to the first quartile (25th percentile) and the data that belongs to the fourth quartile (75th percentile). For this, we need the NumPy module."
      ],
      "metadata": {
        "id": "fPLTd-qU_g08"
      }
    },
    {
      "cell_type": "code",
      "source": [
        "first_quartile_cutoffvalue = Health_factors_definitive['gdp'].quantile(.25)\n",
        "fourth_quartile_cutoffvalue = Health_factors_definitive['gdp'].quantile(.75)\n",
        "print(first_quartile_cutoffvalue)\n",
        "print(fourth_quartile_cutoffvalue)"
      ],
      "metadata": {
        "colab": {
          "base_uri": "https://localhost:8080/"
        },
        "id": "1feNZXDuAnI9",
        "outputId": "861a82d9-1b6d-4ccd-d066-0f3b7d564043"
      },
      "execution_count": 28,
      "outputs": [
        {
          "output_type": "stream",
          "name": "stdout",
          "text": [
            "575.4464527\n",
            "3661.994\n"
          ]
        }
      ]
    },
    {
      "cell_type": "markdown",
      "source": [
        "Accordingly, the value of the 25th percentile is 575.4 and the value of the 75th percentile is 3662.0. We will now select the data corresponding to the gdp values lower than 575.4 and higher than 3662.0. "
      ],
      "metadata": {
        "id": "Jitw50sbClUP"
      }
    },
    {
      "cell_type": "code",
      "source": [
        "Health_factors_quartiles = Health_factors_definitive.loc[(Health_factors_definitive.gdp < 575.4) | (Health_factors_definitive.gdp > 3662), ]\n",
        "print(Health_factors_quartiles)\n",
        "\n",
        "\n"
      ],
      "metadata": {
        "colab": {
          "base_uri": "https://localhost:8080/"
        },
        "id": "IlhpykR3C8qu",
        "outputId": "e826ee14-d7a7-499b-c2f8-2e7466702d0e"
      },
      "execution_count": 29,
      "outputs": [
        {
          "output_type": "stream",
          "name": "stdout",
          "text": [
            "                     country  year          gdp  hiv_aids      status\n",
            "5                Afghanistan  2010   553.328940       0.1  Developing\n",
            "21                   Albania  2010   494.358832       0.1  Developing\n",
            "37                   Algeria  2010  4463.394675       0.1  Developing\n",
            "149               Azerbaijan  2010  5842.857840       0.1  Developing\n",
            "229                  Belarus  2010    63.388770       0.1  Developing\n",
            "245                  Belgium  2010  4438.237410       0.1   Developed\n",
            "261                   Belize  2010  4344.151770       0.2  Developing\n",
            "325   Bosnia and Herzegovina  2010  4611.472980       0.1  Developing\n",
            "389                 Bulgaria  2010  6843.263289       0.1   Developed\n",
            "421                  Burundi  2010   231.194326       1.9  Developing\n",
            "565                    China  2010   456.512487       0.1  Developing\n",
            "630               Costa Rica  2010  8199.414621       0.1  Developing\n",
            "662                     Cuba  2010  5676.141430       0.1  Developing\n",
            "678                   Cyprus  2010  3818.463960       0.1   Developed\n",
            "742                  Denmark  2010  5841.411220       0.1   Developed\n",
            "775       Dominican Republic  2010  5451.669600       0.9  Developing\n",
            "791                  Ecuador  2010  4657.323610       0.1  Developing\n",
            "855                  Eritrea  2010   482.149940       0.9  Developing\n",
            "887                 Ethiopia  2010   341.399920       1.7  Developing\n",
            "919                  Finland  2010  4622.415160       0.1  Developing\n",
            "935                   France  2010   473.342790       0.1  Developing\n",
            "1047                 Grenada  2010  7365.666659       0.1  Developing\n",
            "1079                  Guinea  2010   438.751335       2.2  Developing\n",
            "1111                  Guyana  2010   326.281212       0.4  Developing\n",
            "1239                    Iraq  2010   452.749480       0.1  Developing\n",
            "1303                 Jamaica  2010  4682.728424       0.5  Developing\n",
            "1319                   Japan  2010  4457.676390       0.1   Developed\n",
            "1335                  Jordan  2010  3679.192750       0.1  Developing\n",
            "1351              Kazakhstan  2010    97.649972       0.1  Developing\n",
            "1463                 Lebanon  2010  8763.826274       0.1  Developing\n",
            "1495                 Liberia  2010   327.425970       1.8  Developing\n",
            "1559              Madagascar  2010   412.739341       0.5  Developing\n",
            "1623                    Mali  2010    78.377632       1.5  Developing\n",
            "1656              Mauritania  2010   123.383675       1.2  Developing\n",
            "1672               Mauritius  2010     8.376432       0.2  Developing\n",
            "1688                  Mexico  2010  8959.581416       0.1  Developing\n",
            "1721                Mongolia  2010   265.353659       0.1  Developing\n",
            "1737              Montenegro  2010  6682.281158       0.1  Developing\n",
            "1834             Netherlands  2010  5338.254830       0.1   Developed\n",
            "1882                   Niger  2010   348.151511       0.9  Developing\n",
            "1947                Pakistan  2010    14.142268       0.1  Developing\n",
            "1964                  Panama  2010  7937.259931       0.1  Developing\n",
            "2012                    Peru  2010   522.493191       0.2  Developing\n",
            "2124                 Romania  2010  8297.483621       0.1   Developed\n",
            "2156                  Rwanda  2010   563.491487       2.3  Developing\n",
            "2254                 Senegal  2010    11.631377       0.4  Developing\n",
            "2270                  Serbia  2010  5411.877440       0.1  Developing\n",
            "2286              Seychelles  2010   184.684470       0.1  Developing\n",
            "2302            Sierra Leone  2010    45.128418       1.6  Developing\n",
            "2430                   Spain  2010  3736.228000       0.1   Developed\n",
            "2510                  Sweden  2010  5276.255910       0.1   Developed\n",
            "2574                Thailand  2010   575.321760       0.2  Developing\n",
            "2670                 Tunisia  2010   414.151770       0.1  Developing\n",
            "2702            Turkmenistan  2010  4439.230000       0.1  Developing\n"
          ]
        }
      ]
    },
    {
      "cell_type": "code",
      "source": [
        "Health_factors_quartiles.describe(include = ['object'])"
      ],
      "metadata": {
        "colab": {
          "base_uri": "https://localhost:8080/",
          "height": 175
        },
        "id": "KHpyqztnFk62",
        "outputId": "2aba44ae-17cb-43c8-ca6e-f23e724dfee3"
      },
      "execution_count": 30,
      "outputs": [
        {
          "output_type": "execute_result",
          "data": {
            "text/plain": [
              "            country      status\n",
              "count            54          54\n",
              "unique           54           2\n",
              "top     Afghanistan  Developing\n",
              "freq              1          45"
            ],
            "text/html": [
              "\n",
              "  <div id=\"df-ff33bf22-bbbf-4691-ad43-7763153984d3\">\n",
              "    <div class=\"colab-df-container\">\n",
              "      <div>\n",
              "<style scoped>\n",
              "    .dataframe tbody tr th:only-of-type {\n",
              "        vertical-align: middle;\n",
              "    }\n",
              "\n",
              "    .dataframe tbody tr th {\n",
              "        vertical-align: top;\n",
              "    }\n",
              "\n",
              "    .dataframe thead th {\n",
              "        text-align: right;\n",
              "    }\n",
              "</style>\n",
              "<table border=\"1\" class=\"dataframe\">\n",
              "  <thead>\n",
              "    <tr style=\"text-align: right;\">\n",
              "      <th></th>\n",
              "      <th>country</th>\n",
              "      <th>status</th>\n",
              "    </tr>\n",
              "  </thead>\n",
              "  <tbody>\n",
              "    <tr>\n",
              "      <th>count</th>\n",
              "      <td>54</td>\n",
              "      <td>54</td>\n",
              "    </tr>\n",
              "    <tr>\n",
              "      <th>unique</th>\n",
              "      <td>54</td>\n",
              "      <td>2</td>\n",
              "    </tr>\n",
              "    <tr>\n",
              "      <th>top</th>\n",
              "      <td>Afghanistan</td>\n",
              "      <td>Developing</td>\n",
              "    </tr>\n",
              "    <tr>\n",
              "      <th>freq</th>\n",
              "      <td>1</td>\n",
              "      <td>45</td>\n",
              "    </tr>\n",
              "  </tbody>\n",
              "</table>\n",
              "</div>\n",
              "      <button class=\"colab-df-convert\" onclick=\"convertToInteractive('df-ff33bf22-bbbf-4691-ad43-7763153984d3')\"\n",
              "              title=\"Convert this dataframe to an interactive table.\"\n",
              "              style=\"display:none;\">\n",
              "        \n",
              "  <svg xmlns=\"http://www.w3.org/2000/svg\" height=\"24px\"viewBox=\"0 0 24 24\"\n",
              "       width=\"24px\">\n",
              "    <path d=\"M0 0h24v24H0V0z\" fill=\"none\"/>\n",
              "    <path d=\"M18.56 5.44l.94 2.06.94-2.06 2.06-.94-2.06-.94-.94-2.06-.94 2.06-2.06.94zm-11 1L8.5 8.5l.94-2.06 2.06-.94-2.06-.94L8.5 2.5l-.94 2.06-2.06.94zm10 10l.94 2.06.94-2.06 2.06-.94-2.06-.94-.94-2.06-.94 2.06-2.06.94z\"/><path d=\"M17.41 7.96l-1.37-1.37c-.4-.4-.92-.59-1.43-.59-.52 0-1.04.2-1.43.59L10.3 9.45l-7.72 7.72c-.78.78-.78 2.05 0 2.83L4 21.41c.39.39.9.59 1.41.59.51 0 1.02-.2 1.41-.59l7.78-7.78 2.81-2.81c.8-.78.8-2.07 0-2.86zM5.41 20L4 18.59l7.72-7.72 1.47 1.35L5.41 20z\"/>\n",
              "  </svg>\n",
              "      </button>\n",
              "      \n",
              "  <style>\n",
              "    .colab-df-container {\n",
              "      display:flex;\n",
              "      flex-wrap:wrap;\n",
              "      gap: 12px;\n",
              "    }\n",
              "\n",
              "    .colab-df-convert {\n",
              "      background-color: #E8F0FE;\n",
              "      border: none;\n",
              "      border-radius: 50%;\n",
              "      cursor: pointer;\n",
              "      display: none;\n",
              "      fill: #1967D2;\n",
              "      height: 32px;\n",
              "      padding: 0 0 0 0;\n",
              "      width: 32px;\n",
              "    }\n",
              "\n",
              "    .colab-df-convert:hover {\n",
              "      background-color: #E2EBFA;\n",
              "      box-shadow: 0px 1px 2px rgba(60, 64, 67, 0.3), 0px 1px 3px 1px rgba(60, 64, 67, 0.15);\n",
              "      fill: #174EA6;\n",
              "    }\n",
              "\n",
              "    [theme=dark] .colab-df-convert {\n",
              "      background-color: #3B4455;\n",
              "      fill: #D2E3FC;\n",
              "    }\n",
              "\n",
              "    [theme=dark] .colab-df-convert:hover {\n",
              "      background-color: #434B5C;\n",
              "      box-shadow: 0px 1px 3px 1px rgba(0, 0, 0, 0.15);\n",
              "      filter: drop-shadow(0px 1px 2px rgba(0, 0, 0, 0.3));\n",
              "      fill: #FFFFFF;\n",
              "    }\n",
              "  </style>\n",
              "\n",
              "      <script>\n",
              "        const buttonEl =\n",
              "          document.querySelector('#df-ff33bf22-bbbf-4691-ad43-7763153984d3 button.colab-df-convert');\n",
              "        buttonEl.style.display =\n",
              "          google.colab.kernel.accessAllowed ? 'block' : 'none';\n",
              "\n",
              "        async function convertToInteractive(key) {\n",
              "          const element = document.querySelector('#df-ff33bf22-bbbf-4691-ad43-7763153984d3');\n",
              "          const dataTable =\n",
              "            await google.colab.kernel.invokeFunction('convertToInteractive',\n",
              "                                                     [key], {});\n",
              "          if (!dataTable) return;\n",
              "\n",
              "          const docLinkHtml = 'Like what you see? Visit the ' +\n",
              "            '<a target=\"_blank\" href=https://colab.research.google.com/notebooks/data_table.ipynb>data table notebook</a>'\n",
              "            + ' to learn more about interactive tables.';\n",
              "          element.innerHTML = '';\n",
              "          dataTable['output_type'] = 'display_data';\n",
              "          await google.colab.output.renderOutput(dataTable, element);\n",
              "          const docLink = document.createElement('div');\n",
              "          docLink.innerHTML = docLinkHtml;\n",
              "          element.appendChild(docLink);\n",
              "        }\n",
              "      </script>\n",
              "    </div>\n",
              "  </div>\n",
              "  "
            ]
          },
          "metadata": {},
          "execution_count": 30
        }
      ]
    },
    {
      "cell_type": "markdown",
      "source": [
        "Now, 54 countries are included of which 45 developing and 9 are developed. Let's make a scatterplot with these data to see the correlation between gdp and hiv_aids deaths per 1,000 live births of only the first and fourth quartile data."
      ],
      "metadata": {
        "id": "BBB7UG2pF7l3"
      }
    },
    {
      "cell_type": "code",
      "source": [
        "alt.Chart(Health_factors_quartiles).mark_point().encode(\n",
        "    x='gdp:Q',\n",
        "    y='hiv_aids:Q'\n",
        ")"
      ],
      "metadata": {
        "colab": {
          "base_uri": "https://localhost:8080/",
          "height": 369
        },
        "id": "ICYcMTyIGII3",
        "outputId": "a7bcf872-e5e2-4795-ea62-879a52ec6735"
      },
      "execution_count": 31,
      "outputs": [
        {
          "output_type": "execute_result",
          "data": {
            "text/html": [
              "\n",
              "<div id=\"altair-viz-80d4f2bbcae44fd380656363c5762bf4\"></div>\n",
              "<script type=\"text/javascript\">\n",
              "  var VEGA_DEBUG = (typeof VEGA_DEBUG == \"undefined\") ? {} : VEGA_DEBUG;\n",
              "  (function(spec, embedOpt){\n",
              "    let outputDiv = document.currentScript.previousElementSibling;\n",
              "    if (outputDiv.id !== \"altair-viz-80d4f2bbcae44fd380656363c5762bf4\") {\n",
              "      outputDiv = document.getElementById(\"altair-viz-80d4f2bbcae44fd380656363c5762bf4\");\n",
              "    }\n",
              "    const paths = {\n",
              "      \"vega\": \"https://cdn.jsdelivr.net/npm//vega@5?noext\",\n",
              "      \"vega-lib\": \"https://cdn.jsdelivr.net/npm//vega-lib?noext\",\n",
              "      \"vega-lite\": \"https://cdn.jsdelivr.net/npm//vega-lite@4.17.0?noext\",\n",
              "      \"vega-embed\": \"https://cdn.jsdelivr.net/npm//vega-embed@6?noext\",\n",
              "    };\n",
              "\n",
              "    function maybeLoadScript(lib, version) {\n",
              "      var key = `${lib.replace(\"-\", \"\")}_version`;\n",
              "      return (VEGA_DEBUG[key] == version) ?\n",
              "        Promise.resolve(paths[lib]) :\n",
              "        new Promise(function(resolve, reject) {\n",
              "          var s = document.createElement('script');\n",
              "          document.getElementsByTagName(\"head\")[0].appendChild(s);\n",
              "          s.async = true;\n",
              "          s.onload = () => {\n",
              "            VEGA_DEBUG[key] = version;\n",
              "            return resolve(paths[lib]);\n",
              "          };\n",
              "          s.onerror = () => reject(`Error loading script: ${paths[lib]}`);\n",
              "          s.src = paths[lib];\n",
              "        });\n",
              "    }\n",
              "\n",
              "    function showError(err) {\n",
              "      outputDiv.innerHTML = `<div class=\"error\" style=\"color:red;\">${err}</div>`;\n",
              "      throw err;\n",
              "    }\n",
              "\n",
              "    function displayChart(vegaEmbed) {\n",
              "      vegaEmbed(outputDiv, spec, embedOpt)\n",
              "        .catch(err => showError(`Javascript Error: ${err.message}<br>This usually means there's a typo in your chart specification. See the javascript console for the full traceback.`));\n",
              "    }\n",
              "\n",
              "    if(typeof define === \"function\" && define.amd) {\n",
              "      requirejs.config({paths});\n",
              "      require([\"vega-embed\"], displayChart, err => showError(`Error loading script: ${err.message}`));\n",
              "    } else {\n",
              "      maybeLoadScript(\"vega\", \"5\")\n",
              "        .then(() => maybeLoadScript(\"vega-lite\", \"4.17.0\"))\n",
              "        .then(() => maybeLoadScript(\"vega-embed\", \"6\"))\n",
              "        .catch(showError)\n",
              "        .then(() => displayChart(vegaEmbed));\n",
              "    }\n",
              "  })({\"config\": {\"view\": {\"continuousWidth\": 400, \"continuousHeight\": 300}}, \"data\": {\"name\": \"data-0b036eb5178480093e38452ebe818774\"}, \"mark\": \"point\", \"encoding\": {\"x\": {\"field\": \"gdp\", \"type\": \"quantitative\"}, \"y\": {\"field\": \"hiv_aids\", \"type\": \"quantitative\"}}, \"$schema\": \"https://vega.github.io/schema/vega-lite/v4.17.0.json\", \"datasets\": {\"data-0b036eb5178480093e38452ebe818774\": [{\"country\": \"Afghanistan\", \"year\": 2010, \"gdp\": 553.32894, \"hiv_aids\": 0.1, \"status\": \"Developing\"}, {\"country\": \"Albania\", \"year\": 2010, \"gdp\": 494.358832, \"hiv_aids\": 0.1, \"status\": \"Developing\"}, {\"country\": \"Algeria\", \"year\": 2010, \"gdp\": 4463.394675, \"hiv_aids\": 0.1, \"status\": \"Developing\"}, {\"country\": \"Azerbaijan\", \"year\": 2010, \"gdp\": 5842.85784, \"hiv_aids\": 0.1, \"status\": \"Developing\"}, {\"country\": \"Belarus\", \"year\": 2010, \"gdp\": 63.38877, \"hiv_aids\": 0.1, \"status\": \"Developing\"}, {\"country\": \"Belgium\", \"year\": 2010, \"gdp\": 4438.23741, \"hiv_aids\": 0.1, \"status\": \"Developed\"}, {\"country\": \"Belize\", \"year\": 2010, \"gdp\": 4344.15177, \"hiv_aids\": 0.2, \"status\": \"Developing\"}, {\"country\": \"Bosnia and Herzegovina\", \"year\": 2010, \"gdp\": 4611.47298, \"hiv_aids\": 0.1, \"status\": \"Developing\"}, {\"country\": \"Bulgaria\", \"year\": 2010, \"gdp\": 6843.263289, \"hiv_aids\": 0.1, \"status\": \"Developed\"}, {\"country\": \"Burundi\", \"year\": 2010, \"gdp\": 231.1943256, \"hiv_aids\": 1.9, \"status\": \"Developing\"}, {\"country\": \"China\", \"year\": 2010, \"gdp\": 456.512487, \"hiv_aids\": 0.1, \"status\": \"Developing\"}, {\"country\": \"Costa Rica\", \"year\": 2010, \"gdp\": 8199.414621, \"hiv_aids\": 0.1, \"status\": \"Developing\"}, {\"country\": \"Cuba\", \"year\": 2010, \"gdp\": 5676.14143, \"hiv_aids\": 0.1, \"status\": \"Developing\"}, {\"country\": \"Cyprus\", \"year\": 2010, \"gdp\": 3818.46396, \"hiv_aids\": 0.1, \"status\": \"Developed\"}, {\"country\": \"Denmark\", \"year\": 2010, \"gdp\": 5841.41122, \"hiv_aids\": 0.1, \"status\": \"Developed\"}, {\"country\": \"Dominican Republic\", \"year\": 2010, \"gdp\": 5451.6696, \"hiv_aids\": 0.9, \"status\": \"Developing\"}, {\"country\": \"Ecuador\", \"year\": 2010, \"gdp\": 4657.32361, \"hiv_aids\": 0.1, \"status\": \"Developing\"}, {\"country\": \"Eritrea\", \"year\": 2010, \"gdp\": 482.14994, \"hiv_aids\": 0.9, \"status\": \"Developing\"}, {\"country\": \"Ethiopia\", \"year\": 2010, \"gdp\": 341.39992, \"hiv_aids\": 1.7, \"status\": \"Developing\"}, {\"country\": \"Finland\", \"year\": 2010, \"gdp\": 4622.41516, \"hiv_aids\": 0.1, \"status\": \"Developing\"}, {\"country\": \"France\", \"year\": 2010, \"gdp\": 473.34279, \"hiv_aids\": 0.1, \"status\": \"Developing\"}, {\"country\": \"Grenada\", \"year\": 2010, \"gdp\": 7365.666659, \"hiv_aids\": 0.1, \"status\": \"Developing\"}, {\"country\": \"Guinea\", \"year\": 2010, \"gdp\": 438.7513346, \"hiv_aids\": 2.2, \"status\": \"Developing\"}, {\"country\": \"Guyana\", \"year\": 2010, \"gdp\": 326.281212, \"hiv_aids\": 0.4, \"status\": \"Developing\"}, {\"country\": \"Iraq\", \"year\": 2010, \"gdp\": 452.74948, \"hiv_aids\": 0.1, \"status\": \"Developing\"}, {\"country\": \"Jamaica\", \"year\": 2010, \"gdp\": 4682.728424, \"hiv_aids\": 0.5, \"status\": \"Developing\"}, {\"country\": \"Japan\", \"year\": 2010, \"gdp\": 4457.67639, \"hiv_aids\": 0.1, \"status\": \"Developed\"}, {\"country\": \"Jordan\", \"year\": 2010, \"gdp\": 3679.19275, \"hiv_aids\": 0.1, \"status\": \"Developing\"}, {\"country\": \"Kazakhstan\", \"year\": 2010, \"gdp\": 97.649972, \"hiv_aids\": 0.1, \"status\": \"Developing\"}, {\"country\": \"Lebanon\", \"year\": 2010, \"gdp\": 8763.826274, \"hiv_aids\": 0.1, \"status\": \"Developing\"}, {\"country\": \"Liberia\", \"year\": 2010, \"gdp\": 327.42597, \"hiv_aids\": 1.8, \"status\": \"Developing\"}, {\"country\": \"Madagascar\", \"year\": 2010, \"gdp\": 412.739341, \"hiv_aids\": 0.5, \"status\": \"Developing\"}, {\"country\": \"Mali\", \"year\": 2010, \"gdp\": 78.377632, \"hiv_aids\": 1.5, \"status\": \"Developing\"}, {\"country\": \"Mauritania\", \"year\": 2010, \"gdp\": 123.383675, \"hiv_aids\": 1.2, \"status\": \"Developing\"}, {\"country\": \"Mauritius\", \"year\": 2010, \"gdp\": 8.376432, \"hiv_aids\": 0.2, \"status\": \"Developing\"}, {\"country\": \"Mexico\", \"year\": 2010, \"gdp\": 8959.581416, \"hiv_aids\": 0.1, \"status\": \"Developing\"}, {\"country\": \"Mongolia\", \"year\": 2010, \"gdp\": 265.353659, \"hiv_aids\": 0.1, \"status\": \"Developing\"}, {\"country\": \"Montenegro\", \"year\": 2010, \"gdp\": 6682.281158, \"hiv_aids\": 0.1, \"status\": \"Developing\"}, {\"country\": \"Netherlands\", \"year\": 2010, \"gdp\": 5338.25483, \"hiv_aids\": 0.1, \"status\": \"Developed\"}, {\"country\": \"Niger\", \"year\": 2010, \"gdp\": 348.151511, \"hiv_aids\": 0.9, \"status\": \"Developing\"}, {\"country\": \"Pakistan\", \"year\": 2010, \"gdp\": 14.142268, \"hiv_aids\": 0.1, \"status\": \"Developing\"}, {\"country\": \"Panama\", \"year\": 2010, \"gdp\": 7937.259931, \"hiv_aids\": 0.1, \"status\": \"Developing\"}, {\"country\": \"Peru\", \"year\": 2010, \"gdp\": 522.493191, \"hiv_aids\": 0.2, \"status\": \"Developing\"}, {\"country\": \"Romania\", \"year\": 2010, \"gdp\": 8297.483621, \"hiv_aids\": 0.1, \"status\": \"Developed\"}, {\"country\": \"Rwanda\", \"year\": 2010, \"gdp\": 563.491487, \"hiv_aids\": 2.3, \"status\": \"Developing\"}, {\"country\": \"Senegal\", \"year\": 2010, \"gdp\": 11.631377, \"hiv_aids\": 0.4, \"status\": \"Developing\"}, {\"country\": \"Serbia\", \"year\": 2010, \"gdp\": 5411.87744, \"hiv_aids\": 0.1, \"status\": \"Developing\"}, {\"country\": \"Seychelles\", \"year\": 2010, \"gdp\": 184.68447, \"hiv_aids\": 0.1, \"status\": \"Developing\"}, {\"country\": \"Sierra Leone\", \"year\": 2010, \"gdp\": 45.128418, \"hiv_aids\": 1.6, \"status\": \"Developing\"}, {\"country\": \"Spain\", \"year\": 2010, \"gdp\": 3736.228, \"hiv_aids\": 0.1, \"status\": \"Developed\"}, {\"country\": \"Sweden\", \"year\": 2010, \"gdp\": 5276.25591, \"hiv_aids\": 0.1, \"status\": \"Developed\"}, {\"country\": \"Thailand\", \"year\": 2010, \"gdp\": 575.32176, \"hiv_aids\": 0.2, \"status\": \"Developing\"}, {\"country\": \"Tunisia\", \"year\": 2010, \"gdp\": 414.15177, \"hiv_aids\": 0.1, \"status\": \"Developing\"}, {\"country\": \"Turkmenistan\", \"year\": 2010, \"gdp\": 4439.23, \"hiv_aids\": 0.1, \"status\": \"Developing\"}]}}, {\"mode\": \"vega-lite\"});\n",
              "</script>"
            ],
            "text/plain": [
              "alt.Chart(...)"
            ]
          },
          "metadata": {},
          "execution_count": 31
        }
      ]
    },
    {
      "cell_type": "markdown",
      "source": [
        "The scatterplot shows the same data points; just the datapoints with the interquartile range (IQR) are excluded. Therefore, a scatterplot does not provide additional relevant information in this regard. Let's make a bar chart."
      ],
      "metadata": {
        "id": "C5BjOCxzGXB2"
      }
    },
    {
      "cell_type": "code",
      "source": [
        "alt.Chart(Health_factors_quartiles).mark_bar().encode(\n",
        "    x='gdp:Q',\n",
        "    y='hiv_aids:Q'\n",
        ")"
      ],
      "metadata": {
        "colab": {
          "base_uri": "https://localhost:8080/",
          "height": 369
        },
        "id": "TLHlI1CWGk-v",
        "outputId": "125142e4-cd22-430a-e1a9-8e9b6db519c6"
      },
      "execution_count": 32,
      "outputs": [
        {
          "output_type": "execute_result",
          "data": {
            "text/html": [
              "\n",
              "<div id=\"altair-viz-3e3bd477864a44f496510762243d4d69\"></div>\n",
              "<script type=\"text/javascript\">\n",
              "  var VEGA_DEBUG = (typeof VEGA_DEBUG == \"undefined\") ? {} : VEGA_DEBUG;\n",
              "  (function(spec, embedOpt){\n",
              "    let outputDiv = document.currentScript.previousElementSibling;\n",
              "    if (outputDiv.id !== \"altair-viz-3e3bd477864a44f496510762243d4d69\") {\n",
              "      outputDiv = document.getElementById(\"altair-viz-3e3bd477864a44f496510762243d4d69\");\n",
              "    }\n",
              "    const paths = {\n",
              "      \"vega\": \"https://cdn.jsdelivr.net/npm//vega@5?noext\",\n",
              "      \"vega-lib\": \"https://cdn.jsdelivr.net/npm//vega-lib?noext\",\n",
              "      \"vega-lite\": \"https://cdn.jsdelivr.net/npm//vega-lite@4.17.0?noext\",\n",
              "      \"vega-embed\": \"https://cdn.jsdelivr.net/npm//vega-embed@6?noext\",\n",
              "    };\n",
              "\n",
              "    function maybeLoadScript(lib, version) {\n",
              "      var key = `${lib.replace(\"-\", \"\")}_version`;\n",
              "      return (VEGA_DEBUG[key] == version) ?\n",
              "        Promise.resolve(paths[lib]) :\n",
              "        new Promise(function(resolve, reject) {\n",
              "          var s = document.createElement('script');\n",
              "          document.getElementsByTagName(\"head\")[0].appendChild(s);\n",
              "          s.async = true;\n",
              "          s.onload = () => {\n",
              "            VEGA_DEBUG[key] = version;\n",
              "            return resolve(paths[lib]);\n",
              "          };\n",
              "          s.onerror = () => reject(`Error loading script: ${paths[lib]}`);\n",
              "          s.src = paths[lib];\n",
              "        });\n",
              "    }\n",
              "\n",
              "    function showError(err) {\n",
              "      outputDiv.innerHTML = `<div class=\"error\" style=\"color:red;\">${err}</div>`;\n",
              "      throw err;\n",
              "    }\n",
              "\n",
              "    function displayChart(vegaEmbed) {\n",
              "      vegaEmbed(outputDiv, spec, embedOpt)\n",
              "        .catch(err => showError(`Javascript Error: ${err.message}<br>This usually means there's a typo in your chart specification. See the javascript console for the full traceback.`));\n",
              "    }\n",
              "\n",
              "    if(typeof define === \"function\" && define.amd) {\n",
              "      requirejs.config({paths});\n",
              "      require([\"vega-embed\"], displayChart, err => showError(`Error loading script: ${err.message}`));\n",
              "    } else {\n",
              "      maybeLoadScript(\"vega\", \"5\")\n",
              "        .then(() => maybeLoadScript(\"vega-lite\", \"4.17.0\"))\n",
              "        .then(() => maybeLoadScript(\"vega-embed\", \"6\"))\n",
              "        .catch(showError)\n",
              "        .then(() => displayChart(vegaEmbed));\n",
              "    }\n",
              "  })({\"config\": {\"view\": {\"continuousWidth\": 400, \"continuousHeight\": 300}}, \"data\": {\"name\": \"data-0b036eb5178480093e38452ebe818774\"}, \"mark\": \"bar\", \"encoding\": {\"x\": {\"field\": \"gdp\", \"type\": \"quantitative\"}, \"y\": {\"field\": \"hiv_aids\", \"type\": \"quantitative\"}}, \"$schema\": \"https://vega.github.io/schema/vega-lite/v4.17.0.json\", \"datasets\": {\"data-0b036eb5178480093e38452ebe818774\": [{\"country\": \"Afghanistan\", \"year\": 2010, \"gdp\": 553.32894, \"hiv_aids\": 0.1, \"status\": \"Developing\"}, {\"country\": \"Albania\", \"year\": 2010, \"gdp\": 494.358832, \"hiv_aids\": 0.1, \"status\": \"Developing\"}, {\"country\": \"Algeria\", \"year\": 2010, \"gdp\": 4463.394675, \"hiv_aids\": 0.1, \"status\": \"Developing\"}, {\"country\": \"Azerbaijan\", \"year\": 2010, \"gdp\": 5842.85784, \"hiv_aids\": 0.1, \"status\": \"Developing\"}, {\"country\": \"Belarus\", \"year\": 2010, \"gdp\": 63.38877, \"hiv_aids\": 0.1, \"status\": \"Developing\"}, {\"country\": \"Belgium\", \"year\": 2010, \"gdp\": 4438.23741, \"hiv_aids\": 0.1, \"status\": \"Developed\"}, {\"country\": \"Belize\", \"year\": 2010, \"gdp\": 4344.15177, \"hiv_aids\": 0.2, \"status\": \"Developing\"}, {\"country\": \"Bosnia and Herzegovina\", \"year\": 2010, \"gdp\": 4611.47298, \"hiv_aids\": 0.1, \"status\": \"Developing\"}, {\"country\": \"Bulgaria\", \"year\": 2010, \"gdp\": 6843.263289, \"hiv_aids\": 0.1, \"status\": \"Developed\"}, {\"country\": \"Burundi\", \"year\": 2010, \"gdp\": 231.1943256, \"hiv_aids\": 1.9, \"status\": \"Developing\"}, {\"country\": \"China\", \"year\": 2010, \"gdp\": 456.512487, \"hiv_aids\": 0.1, \"status\": \"Developing\"}, {\"country\": \"Costa Rica\", \"year\": 2010, \"gdp\": 8199.414621, \"hiv_aids\": 0.1, \"status\": \"Developing\"}, {\"country\": \"Cuba\", \"year\": 2010, \"gdp\": 5676.14143, \"hiv_aids\": 0.1, \"status\": \"Developing\"}, {\"country\": \"Cyprus\", \"year\": 2010, \"gdp\": 3818.46396, \"hiv_aids\": 0.1, \"status\": \"Developed\"}, {\"country\": \"Denmark\", \"year\": 2010, \"gdp\": 5841.41122, \"hiv_aids\": 0.1, \"status\": \"Developed\"}, {\"country\": \"Dominican Republic\", \"year\": 2010, \"gdp\": 5451.6696, \"hiv_aids\": 0.9, \"status\": \"Developing\"}, {\"country\": \"Ecuador\", \"year\": 2010, \"gdp\": 4657.32361, \"hiv_aids\": 0.1, \"status\": \"Developing\"}, {\"country\": \"Eritrea\", \"year\": 2010, \"gdp\": 482.14994, \"hiv_aids\": 0.9, \"status\": \"Developing\"}, {\"country\": \"Ethiopia\", \"year\": 2010, \"gdp\": 341.39992, \"hiv_aids\": 1.7, \"status\": \"Developing\"}, {\"country\": \"Finland\", \"year\": 2010, \"gdp\": 4622.41516, \"hiv_aids\": 0.1, \"status\": \"Developing\"}, {\"country\": \"France\", \"year\": 2010, \"gdp\": 473.34279, \"hiv_aids\": 0.1, \"status\": \"Developing\"}, {\"country\": \"Grenada\", \"year\": 2010, \"gdp\": 7365.666659, \"hiv_aids\": 0.1, \"status\": \"Developing\"}, {\"country\": \"Guinea\", \"year\": 2010, \"gdp\": 438.7513346, \"hiv_aids\": 2.2, \"status\": \"Developing\"}, {\"country\": \"Guyana\", \"year\": 2010, \"gdp\": 326.281212, \"hiv_aids\": 0.4, \"status\": \"Developing\"}, {\"country\": \"Iraq\", \"year\": 2010, \"gdp\": 452.74948, \"hiv_aids\": 0.1, \"status\": \"Developing\"}, {\"country\": \"Jamaica\", \"year\": 2010, \"gdp\": 4682.728424, \"hiv_aids\": 0.5, \"status\": \"Developing\"}, {\"country\": \"Japan\", \"year\": 2010, \"gdp\": 4457.67639, \"hiv_aids\": 0.1, \"status\": \"Developed\"}, {\"country\": \"Jordan\", \"year\": 2010, \"gdp\": 3679.19275, \"hiv_aids\": 0.1, \"status\": \"Developing\"}, {\"country\": \"Kazakhstan\", \"year\": 2010, \"gdp\": 97.649972, \"hiv_aids\": 0.1, \"status\": \"Developing\"}, {\"country\": \"Lebanon\", \"year\": 2010, \"gdp\": 8763.826274, \"hiv_aids\": 0.1, \"status\": \"Developing\"}, {\"country\": \"Liberia\", \"year\": 2010, \"gdp\": 327.42597, \"hiv_aids\": 1.8, \"status\": \"Developing\"}, {\"country\": \"Madagascar\", \"year\": 2010, \"gdp\": 412.739341, \"hiv_aids\": 0.5, \"status\": \"Developing\"}, {\"country\": \"Mali\", \"year\": 2010, \"gdp\": 78.377632, \"hiv_aids\": 1.5, \"status\": \"Developing\"}, {\"country\": \"Mauritania\", \"year\": 2010, \"gdp\": 123.383675, \"hiv_aids\": 1.2, \"status\": \"Developing\"}, {\"country\": \"Mauritius\", \"year\": 2010, \"gdp\": 8.376432, \"hiv_aids\": 0.2, \"status\": \"Developing\"}, {\"country\": \"Mexico\", \"year\": 2010, \"gdp\": 8959.581416, \"hiv_aids\": 0.1, \"status\": \"Developing\"}, {\"country\": \"Mongolia\", \"year\": 2010, \"gdp\": 265.353659, \"hiv_aids\": 0.1, \"status\": \"Developing\"}, {\"country\": \"Montenegro\", \"year\": 2010, \"gdp\": 6682.281158, \"hiv_aids\": 0.1, \"status\": \"Developing\"}, {\"country\": \"Netherlands\", \"year\": 2010, \"gdp\": 5338.25483, \"hiv_aids\": 0.1, \"status\": \"Developed\"}, {\"country\": \"Niger\", \"year\": 2010, \"gdp\": 348.151511, \"hiv_aids\": 0.9, \"status\": \"Developing\"}, {\"country\": \"Pakistan\", \"year\": 2010, \"gdp\": 14.142268, \"hiv_aids\": 0.1, \"status\": \"Developing\"}, {\"country\": \"Panama\", \"year\": 2010, \"gdp\": 7937.259931, \"hiv_aids\": 0.1, \"status\": \"Developing\"}, {\"country\": \"Peru\", \"year\": 2010, \"gdp\": 522.493191, \"hiv_aids\": 0.2, \"status\": \"Developing\"}, {\"country\": \"Romania\", \"year\": 2010, \"gdp\": 8297.483621, \"hiv_aids\": 0.1, \"status\": \"Developed\"}, {\"country\": \"Rwanda\", \"year\": 2010, \"gdp\": 563.491487, \"hiv_aids\": 2.3, \"status\": \"Developing\"}, {\"country\": \"Senegal\", \"year\": 2010, \"gdp\": 11.631377, \"hiv_aids\": 0.4, \"status\": \"Developing\"}, {\"country\": \"Serbia\", \"year\": 2010, \"gdp\": 5411.87744, \"hiv_aids\": 0.1, \"status\": \"Developing\"}, {\"country\": \"Seychelles\", \"year\": 2010, \"gdp\": 184.68447, \"hiv_aids\": 0.1, \"status\": \"Developing\"}, {\"country\": \"Sierra Leone\", \"year\": 2010, \"gdp\": 45.128418, \"hiv_aids\": 1.6, \"status\": \"Developing\"}, {\"country\": \"Spain\", \"year\": 2010, \"gdp\": 3736.228, \"hiv_aids\": 0.1, \"status\": \"Developed\"}, {\"country\": \"Sweden\", \"year\": 2010, \"gdp\": 5276.25591, \"hiv_aids\": 0.1, \"status\": \"Developed\"}, {\"country\": \"Thailand\", \"year\": 2010, \"gdp\": 575.32176, \"hiv_aids\": 0.2, \"status\": \"Developing\"}, {\"country\": \"Tunisia\", \"year\": 2010, \"gdp\": 414.15177, \"hiv_aids\": 0.1, \"status\": \"Developing\"}, {\"country\": \"Turkmenistan\", \"year\": 2010, \"gdp\": 4439.23, \"hiv_aids\": 0.1, \"status\": \"Developing\"}]}}, {\"mode\": \"vega-lite\"});\n",
              "</script>"
            ],
            "text/plain": [
              "alt.Chart(...)"
            ]
          },
          "metadata": {},
          "execution_count": 32
        }
      ]
    },
    {
      "cell_type": "markdown",
      "source": [
        "The bar chart also simply shows a depletion of the datapoints within the IQR. Therefore, only selecting the datapoints that fall outside of the IQR does not provide additional relevant information in light of our research question. Let's go back to our initial dataframe Health_factors_definitive. We haven't described the qualitative data of the Health_factors_definitive dataframe yet."
      ],
      "metadata": {
        "id": "2miA2PpGG4vK"
      }
    },
    {
      "cell_type": "code",
      "source": [
        "Health_factors_definitive.describe(include = ['object'])"
      ],
      "metadata": {
        "colab": {
          "base_uri": "https://localhost:8080/",
          "height": 175
        },
        "id": "V0ueI_cGiXm5",
        "outputId": "c826d2b8-7151-4ca8-df66-7ba8fd100c62"
      },
      "execution_count": 33,
      "outputs": [
        {
          "output_type": "execute_result",
          "data": {
            "text/plain": [
              "            country      status\n",
              "count           109         109\n",
              "unique          109           2\n",
              "top     Afghanistan  Developing\n",
              "freq              1          97"
            ],
            "text/html": [
              "\n",
              "  <div id=\"df-81a04d6e-79e9-46ba-b0f1-970827d9eb17\">\n",
              "    <div class=\"colab-df-container\">\n",
              "      <div>\n",
              "<style scoped>\n",
              "    .dataframe tbody tr th:only-of-type {\n",
              "        vertical-align: middle;\n",
              "    }\n",
              "\n",
              "    .dataframe tbody tr th {\n",
              "        vertical-align: top;\n",
              "    }\n",
              "\n",
              "    .dataframe thead th {\n",
              "        text-align: right;\n",
              "    }\n",
              "</style>\n",
              "<table border=\"1\" class=\"dataframe\">\n",
              "  <thead>\n",
              "    <tr style=\"text-align: right;\">\n",
              "      <th></th>\n",
              "      <th>country</th>\n",
              "      <th>status</th>\n",
              "    </tr>\n",
              "  </thead>\n",
              "  <tbody>\n",
              "    <tr>\n",
              "      <th>count</th>\n",
              "      <td>109</td>\n",
              "      <td>109</td>\n",
              "    </tr>\n",
              "    <tr>\n",
              "      <th>unique</th>\n",
              "      <td>109</td>\n",
              "      <td>2</td>\n",
              "    </tr>\n",
              "    <tr>\n",
              "      <th>top</th>\n",
              "      <td>Afghanistan</td>\n",
              "      <td>Developing</td>\n",
              "    </tr>\n",
              "    <tr>\n",
              "      <th>freq</th>\n",
              "      <td>1</td>\n",
              "      <td>97</td>\n",
              "    </tr>\n",
              "  </tbody>\n",
              "</table>\n",
              "</div>\n",
              "      <button class=\"colab-df-convert\" onclick=\"convertToInteractive('df-81a04d6e-79e9-46ba-b0f1-970827d9eb17')\"\n",
              "              title=\"Convert this dataframe to an interactive table.\"\n",
              "              style=\"display:none;\">\n",
              "        \n",
              "  <svg xmlns=\"http://www.w3.org/2000/svg\" height=\"24px\"viewBox=\"0 0 24 24\"\n",
              "       width=\"24px\">\n",
              "    <path d=\"M0 0h24v24H0V0z\" fill=\"none\"/>\n",
              "    <path d=\"M18.56 5.44l.94 2.06.94-2.06 2.06-.94-2.06-.94-.94-2.06-.94 2.06-2.06.94zm-11 1L8.5 8.5l.94-2.06 2.06-.94-2.06-.94L8.5 2.5l-.94 2.06-2.06.94zm10 10l.94 2.06.94-2.06 2.06-.94-2.06-.94-.94-2.06-.94 2.06-2.06.94z\"/><path d=\"M17.41 7.96l-1.37-1.37c-.4-.4-.92-.59-1.43-.59-.52 0-1.04.2-1.43.59L10.3 9.45l-7.72 7.72c-.78.78-.78 2.05 0 2.83L4 21.41c.39.39.9.59 1.41.59.51 0 1.02-.2 1.41-.59l7.78-7.78 2.81-2.81c.8-.78.8-2.07 0-2.86zM5.41 20L4 18.59l7.72-7.72 1.47 1.35L5.41 20z\"/>\n",
              "  </svg>\n",
              "      </button>\n",
              "      \n",
              "  <style>\n",
              "    .colab-df-container {\n",
              "      display:flex;\n",
              "      flex-wrap:wrap;\n",
              "      gap: 12px;\n",
              "    }\n",
              "\n",
              "    .colab-df-convert {\n",
              "      background-color: #E8F0FE;\n",
              "      border: none;\n",
              "      border-radius: 50%;\n",
              "      cursor: pointer;\n",
              "      display: none;\n",
              "      fill: #1967D2;\n",
              "      height: 32px;\n",
              "      padding: 0 0 0 0;\n",
              "      width: 32px;\n",
              "    }\n",
              "\n",
              "    .colab-df-convert:hover {\n",
              "      background-color: #E2EBFA;\n",
              "      box-shadow: 0px 1px 2px rgba(60, 64, 67, 0.3), 0px 1px 3px 1px rgba(60, 64, 67, 0.15);\n",
              "      fill: #174EA6;\n",
              "    }\n",
              "\n",
              "    [theme=dark] .colab-df-convert {\n",
              "      background-color: #3B4455;\n",
              "      fill: #D2E3FC;\n",
              "    }\n",
              "\n",
              "    [theme=dark] .colab-df-convert:hover {\n",
              "      background-color: #434B5C;\n",
              "      box-shadow: 0px 1px 3px 1px rgba(0, 0, 0, 0.15);\n",
              "      filter: drop-shadow(0px 1px 2px rgba(0, 0, 0, 0.3));\n",
              "      fill: #FFFFFF;\n",
              "    }\n",
              "  </style>\n",
              "\n",
              "      <script>\n",
              "        const buttonEl =\n",
              "          document.querySelector('#df-81a04d6e-79e9-46ba-b0f1-970827d9eb17 button.colab-df-convert');\n",
              "        buttonEl.style.display =\n",
              "          google.colab.kernel.accessAllowed ? 'block' : 'none';\n",
              "\n",
              "        async function convertToInteractive(key) {\n",
              "          const element = document.querySelector('#df-81a04d6e-79e9-46ba-b0f1-970827d9eb17');\n",
              "          const dataTable =\n",
              "            await google.colab.kernel.invokeFunction('convertToInteractive',\n",
              "                                                     [key], {});\n",
              "          if (!dataTable) return;\n",
              "\n",
              "          const docLinkHtml = 'Like what you see? Visit the ' +\n",
              "            '<a target=\"_blank\" href=https://colab.research.google.com/notebooks/data_table.ipynb>data table notebook</a>'\n",
              "            + ' to learn more about interactive tables.';\n",
              "          element.innerHTML = '';\n",
              "          dataTable['output_type'] = 'display_data';\n",
              "          await google.colab.output.renderOutput(dataTable, element);\n",
              "          const docLink = document.createElement('div');\n",
              "          docLink.innerHTML = docLinkHtml;\n",
              "          element.appendChild(docLink);\n",
              "        }\n",
              "      </script>\n",
              "    </div>\n",
              "  </div>\n",
              "  "
            ]
          },
          "metadata": {},
          "execution_count": 33
        }
      ]
    },
    {
      "cell_type": "markdown",
      "source": [
        "The table above displays the descriptive statistics of the qualitative variables within our initial dataframe Health_factors_definitive. It is visible that all 109 countries are unique. This means that no countries in our dataframe are present in duplicate. Regarding the status, it is visible that 97 countries are labelled as 'developing' and 12 countries are labelled as 'developed'. We can also show this with a histogram."
      ],
      "metadata": {
        "id": "J46k2SRLikuY"
      }
    },
    {
      "cell_type": "code",
      "source": [
        "alt.Chart(Health_factors_definitive).mark_bar().encode(\n",
        "    x=alt.X('status:N', bin=False),\n",
        "    y='count():Q'\n",
        ")"
      ],
      "metadata": {
        "colab": {
          "base_uri": "https://localhost:8080/",
          "height": 410
        },
        "id": "hh3yZxbC3dg8",
        "outputId": "70c63f8d-889a-469f-c315-5053830946f9"
      },
      "execution_count": 34,
      "outputs": [
        {
          "output_type": "execute_result",
          "data": {
            "text/html": [
              "\n",
              "<div id=\"altair-viz-6237108664f14849bbf46cddb60c5df5\"></div>\n",
              "<script type=\"text/javascript\">\n",
              "  var VEGA_DEBUG = (typeof VEGA_DEBUG == \"undefined\") ? {} : VEGA_DEBUG;\n",
              "  (function(spec, embedOpt){\n",
              "    let outputDiv = document.currentScript.previousElementSibling;\n",
              "    if (outputDiv.id !== \"altair-viz-6237108664f14849bbf46cddb60c5df5\") {\n",
              "      outputDiv = document.getElementById(\"altair-viz-6237108664f14849bbf46cddb60c5df5\");\n",
              "    }\n",
              "    const paths = {\n",
              "      \"vega\": \"https://cdn.jsdelivr.net/npm//vega@5?noext\",\n",
              "      \"vega-lib\": \"https://cdn.jsdelivr.net/npm//vega-lib?noext\",\n",
              "      \"vega-lite\": \"https://cdn.jsdelivr.net/npm//vega-lite@4.17.0?noext\",\n",
              "      \"vega-embed\": \"https://cdn.jsdelivr.net/npm//vega-embed@6?noext\",\n",
              "    };\n",
              "\n",
              "    function maybeLoadScript(lib, version) {\n",
              "      var key = `${lib.replace(\"-\", \"\")}_version`;\n",
              "      return (VEGA_DEBUG[key] == version) ?\n",
              "        Promise.resolve(paths[lib]) :\n",
              "        new Promise(function(resolve, reject) {\n",
              "          var s = document.createElement('script');\n",
              "          document.getElementsByTagName(\"head\")[0].appendChild(s);\n",
              "          s.async = true;\n",
              "          s.onload = () => {\n",
              "            VEGA_DEBUG[key] = version;\n",
              "            return resolve(paths[lib]);\n",
              "          };\n",
              "          s.onerror = () => reject(`Error loading script: ${paths[lib]}`);\n",
              "          s.src = paths[lib];\n",
              "        });\n",
              "    }\n",
              "\n",
              "    function showError(err) {\n",
              "      outputDiv.innerHTML = `<div class=\"error\" style=\"color:red;\">${err}</div>`;\n",
              "      throw err;\n",
              "    }\n",
              "\n",
              "    function displayChart(vegaEmbed) {\n",
              "      vegaEmbed(outputDiv, spec, embedOpt)\n",
              "        .catch(err => showError(`Javascript Error: ${err.message}<br>This usually means there's a typo in your chart specification. See the javascript console for the full traceback.`));\n",
              "    }\n",
              "\n",
              "    if(typeof define === \"function\" && define.amd) {\n",
              "      requirejs.config({paths});\n",
              "      require([\"vega-embed\"], displayChart, err => showError(`Error loading script: ${err.message}`));\n",
              "    } else {\n",
              "      maybeLoadScript(\"vega\", \"5\")\n",
              "        .then(() => maybeLoadScript(\"vega-lite\", \"4.17.0\"))\n",
              "        .then(() => maybeLoadScript(\"vega-embed\", \"6\"))\n",
              "        .catch(showError)\n",
              "        .then(() => displayChart(vegaEmbed));\n",
              "    }\n",
              "  })({\"config\": {\"view\": {\"continuousWidth\": 400, \"continuousHeight\": 300}}, \"data\": {\"name\": \"data-4203d97b3550617b2bd06baec0c0ce0b\"}, \"mark\": \"bar\", \"encoding\": {\"x\": {\"bin\": false, \"field\": \"status\", \"type\": \"nominal\"}, \"y\": {\"aggregate\": \"count\", \"type\": \"quantitative\"}}, \"$schema\": \"https://vega.github.io/schema/vega-lite/v4.17.0.json\", \"datasets\": {\"data-4203d97b3550617b2bd06baec0c0ce0b\": [{\"country\": \"Afghanistan\", \"year\": 2010, \"gdp\": 553.32894, \"hiv_aids\": 0.1, \"status\": \"Developing\"}, {\"country\": \"Albania\", \"year\": 2010, \"gdp\": 494.358832, \"hiv_aids\": 0.1, \"status\": \"Developing\"}, {\"country\": \"Algeria\", \"year\": 2010, \"gdp\": 4463.394675, \"hiv_aids\": 0.1, \"status\": \"Developing\"}, {\"country\": \"Angola\", \"year\": 2010, \"gdp\": 3529.53482, \"hiv_aids\": 2.5, \"status\": \"Developing\"}, {\"country\": \"Argentina\", \"year\": 2010, \"gdp\": 1276.265, \"hiv_aids\": 0.1, \"status\": \"Developing\"}, {\"country\": \"Armenia\", \"year\": 2010, \"gdp\": 3218.381655, \"hiv_aids\": 0.1, \"status\": \"Developing\"}, {\"country\": \"Azerbaijan\", \"year\": 2010, \"gdp\": 5842.85784, \"hiv_aids\": 0.1, \"status\": \"Developing\"}, {\"country\": \"Bahrain\", \"year\": 2010, \"gdp\": 2722.1389, \"hiv_aids\": 0.1, \"status\": \"Developing\"}, {\"country\": \"Bangladesh\", \"year\": 2010, \"gdp\": 757.6717572, \"hiv_aids\": 0.1, \"status\": \"Developing\"}, {\"country\": \"Barbados\", \"year\": 2010, \"gdp\": 1595.91232, \"hiv_aids\": 0.1, \"status\": \"Developing\"}, {\"country\": \"Belarus\", \"year\": 2010, \"gdp\": 63.38877, \"hiv_aids\": 0.1, \"status\": \"Developing\"}, {\"country\": \"Belgium\", \"year\": 2010, \"gdp\": 4438.23741, \"hiv_aids\": 0.1, \"status\": \"Developed\"}, {\"country\": \"Belize\", \"year\": 2010, \"gdp\": 4344.15177, \"hiv_aids\": 0.2, \"status\": \"Developing\"}, {\"country\": \"Benin\", \"year\": 2010, \"gdp\": 757.695974, \"hiv_aids\": 1.4, \"status\": \"Developing\"}, {\"country\": \"Bhutan\", \"year\": 2010, \"gdp\": 2178.921383, \"hiv_aids\": 0.5, \"status\": \"Developing\"}, {\"country\": \"Bosnia and Herzegovina\", \"year\": 2010, \"gdp\": 4611.47298, \"hiv_aids\": 0.1, \"status\": \"Developing\"}, {\"country\": \"Bulgaria\", \"year\": 2010, \"gdp\": 6843.263289, \"hiv_aids\": 0.1, \"status\": \"Developed\"}, {\"country\": \"Burkina Faso\", \"year\": 2010, \"gdp\": 575.4464527, \"hiv_aids\": 1.0, \"status\": \"Developing\"}, {\"country\": \"Burundi\", \"year\": 2010, \"gdp\": 231.1943256, \"hiv_aids\": 1.9, \"status\": \"Developing\"}, {\"country\": \"Cabo Verde\", \"year\": 2010, \"gdp\": 3312.825985, \"hiv_aids\": 0.4, \"status\": \"Developing\"}, {\"country\": \"Cambodia\", \"year\": 2010, \"gdp\": 785.6928841, \"hiv_aids\": 0.5, \"status\": \"Developing\"}, {\"country\": \"Chile\", \"year\": 2010, \"gdp\": 1286.17764, \"hiv_aids\": 0.1, \"status\": \"Developing\"}, {\"country\": \"China\", \"year\": 2010, \"gdp\": 456.512487, \"hiv_aids\": 0.1, \"status\": \"Developing\"}, {\"country\": \"Colombia\", \"year\": 2010, \"gdp\": 625.65544, \"hiv_aids\": 0.1, \"status\": \"Developing\"}, {\"country\": \"Comoros\", \"year\": 2010, \"gdp\": 769.1742883, \"hiv_aids\": 0.1, \"status\": \"Developing\"}, {\"country\": \"Costa Rica\", \"year\": 2010, \"gdp\": 8199.414621, \"hiv_aids\": 0.1, \"status\": \"Developing\"}, {\"country\": \"Croatia\", \"year\": 2010, \"gdp\": 1355.74586, \"hiv_aids\": 0.1, \"status\": \"Developed\"}, {\"country\": \"Cuba\", \"year\": 2010, \"gdp\": 5676.14143, \"hiv_aids\": 0.1, \"status\": \"Developing\"}, {\"country\": \"Cyprus\", \"year\": 2010, \"gdp\": 3818.46396, \"hiv_aids\": 0.1, \"status\": \"Developed\"}, {\"country\": \"Denmark\", \"year\": 2010, \"gdp\": 5841.41122, \"hiv_aids\": 0.1, \"status\": \"Developed\"}, {\"country\": \"Dominican Republic\", \"year\": 2010, \"gdp\": 5451.6696, \"hiv_aids\": 0.9, \"status\": \"Developing\"}, {\"country\": \"Ecuador\", \"year\": 2010, \"gdp\": 4657.32361, \"hiv_aids\": 0.1, \"status\": \"Developing\"}, {\"country\": \"El Salvador\", \"year\": 2010, \"gdp\": 3474.392445, \"hiv_aids\": 0.3, \"status\": \"Developing\"}, {\"country\": \"Eritrea\", \"year\": 2010, \"gdp\": 482.14994, \"hiv_aids\": 0.9, \"status\": \"Developing\"}, {\"country\": \"Ethiopia\", \"year\": 2010, \"gdp\": 341.39992, \"hiv_aids\": 1.7, \"status\": \"Developing\"}, {\"country\": \"Fiji\", \"year\": 2010, \"gdp\": 3651.966784, \"hiv_aids\": 0.1, \"status\": \"Developing\"}, {\"country\": \"Finland\", \"year\": 2010, \"gdp\": 4622.41516, \"hiv_aids\": 0.1, \"status\": \"Developing\"}, {\"country\": \"France\", \"year\": 2010, \"gdp\": 473.34279, \"hiv_aids\": 0.1, \"status\": \"Developing\"}, {\"country\": \"Georgia\", \"year\": 2010, \"gdp\": 2964.47734, \"hiv_aids\": 0.1, \"status\": \"Developing\"}, {\"country\": \"Ghana\", \"year\": 2010, \"gdp\": 1312.67557, \"hiv_aids\": 1.9, \"status\": \"Developing\"}, {\"country\": \"Grenada\", \"year\": 2010, \"gdp\": 7365.666659, \"hiv_aids\": 0.1, \"status\": \"Developing\"}, {\"country\": \"Guatemala\", \"year\": 2010, \"gdp\": 2825.5247, \"hiv_aids\": 0.4, \"status\": \"Developing\"}, {\"country\": \"Guinea\", \"year\": 2010, \"gdp\": 438.7513346, \"hiv_aids\": 2.2, \"status\": \"Developing\"}, {\"country\": \"Guyana\", \"year\": 2010, \"gdp\": 326.281212, \"hiv_aids\": 0.4, \"status\": \"Developing\"}, {\"country\": \"Haiti\", \"year\": 2010, \"gdp\": 662.2795182, \"hiv_aids\": 1.9, \"status\": \"Developing\"}, {\"country\": \"Honduras\", \"year\": 2010, \"gdp\": 1932.85829, \"hiv_aids\": 0.4, \"status\": \"Developing\"}, {\"country\": \"Hungary\", \"year\": 2010, \"gdp\": 1325.53379, \"hiv_aids\": 0.1, \"status\": \"Developed\"}, {\"country\": \"India\", \"year\": 2010, \"gdp\": 1345.77153, \"hiv_aids\": 0.2, \"status\": \"Developing\"}, {\"country\": \"Indonesia\", \"year\": 2010, \"gdp\": 3113.48635, \"hiv_aids\": 0.3, \"status\": \"Developing\"}, {\"country\": \"Iraq\", \"year\": 2010, \"gdp\": 452.74948, \"hiv_aids\": 0.1, \"status\": \"Developing\"}, {\"country\": \"Israel\", \"year\": 2010, \"gdp\": 3661.994, \"hiv_aids\": 0.1, \"status\": \"Developing\"}, {\"country\": \"Jamaica\", \"year\": 2010, \"gdp\": 4682.728424, \"hiv_aids\": 0.5, \"status\": \"Developing\"}, {\"country\": \"Japan\", \"year\": 2010, \"gdp\": 4457.67639, \"hiv_aids\": 0.1, \"status\": \"Developed\"}, {\"country\": \"Jordan\", \"year\": 2010, \"gdp\": 3679.19275, \"hiv_aids\": 0.1, \"status\": \"Developing\"}, {\"country\": \"Kazakhstan\", \"year\": 2010, \"gdp\": 97.649972, \"hiv_aids\": 0.1, \"status\": \"Developing\"}, {\"country\": \"Kiribati\", \"year\": 2010, \"gdp\": 1493.1651, \"hiv_aids\": 0.1, \"status\": \"Developing\"}, {\"country\": \"Lebanon\", \"year\": 2010, \"gdp\": 8763.826274, \"hiv_aids\": 0.1, \"status\": \"Developing\"}, {\"country\": \"Liberia\", \"year\": 2010, \"gdp\": 327.42597, \"hiv_aids\": 1.8, \"status\": \"Developing\"}, {\"country\": \"Libya\", \"year\": 2010, \"gdp\": 1212.56217, \"hiv_aids\": 0.1, \"status\": \"Developing\"}, {\"country\": \"Madagascar\", \"year\": 2010, \"gdp\": 412.739341, \"hiv_aids\": 0.5, \"status\": \"Developing\"}, {\"country\": \"Malaysia\", \"year\": 2010, \"gdp\": 971.356987, \"hiv_aids\": 0.1, \"status\": \"Developing\"}, {\"country\": \"Maldives\", \"year\": 2010, \"gdp\": 633.79498, \"hiv_aids\": 0.1, \"status\": \"Developing\"}, {\"country\": \"Mali\", \"year\": 2010, \"gdp\": 78.377632, \"hiv_aids\": 1.5, \"status\": \"Developing\"}, {\"country\": \"Malta\", \"year\": 2010, \"gdp\": 2187.79469, \"hiv_aids\": 0.1, \"status\": \"Developed\"}, {\"country\": \"Mauritania\", \"year\": 2010, \"gdp\": 123.383675, \"hiv_aids\": 1.2, \"status\": \"Developing\"}, {\"country\": \"Mauritius\", \"year\": 2010, \"gdp\": 8.376432, \"hiv_aids\": 0.2, \"status\": \"Developing\"}, {\"country\": \"Mexico\", \"year\": 2010, \"gdp\": 8959.581416, \"hiv_aids\": 0.1, \"status\": \"Developing\"}, {\"country\": \"Mongolia\", \"year\": 2010, \"gdp\": 265.353659, \"hiv_aids\": 0.1, \"status\": \"Developing\"}, {\"country\": \"Montenegro\", \"year\": 2010, \"gdp\": 6682.281158, \"hiv_aids\": 0.1, \"status\": \"Developing\"}, {\"country\": \"Morocco\", \"year\": 2010, \"gdp\": 2834.2472, \"hiv_aids\": 0.1, \"status\": \"Developing\"}, {\"country\": \"Myanmar\", \"year\": 2010, \"gdp\": 987.7365832, \"hiv_aids\": 0.5, \"status\": \"Developing\"}, {\"country\": \"Nepal\", \"year\": 2010, \"gdp\": 592.1835216, \"hiv_aids\": 0.2, \"status\": \"Developing\"}, {\"country\": \"Netherlands\", \"year\": 2010, \"gdp\": 5338.25483, \"hiv_aids\": 0.1, \"status\": \"Developed\"}, {\"country\": \"Nicaragua\", \"year\": 2010, \"gdp\": 1526.497938, \"hiv_aids\": 0.1, \"status\": \"Developing\"}, {\"country\": \"Niger\", \"year\": 2010, \"gdp\": 348.151511, \"hiv_aids\": 0.9, \"status\": \"Developing\"}, {\"country\": \"Oman\", \"year\": 2010, \"gdp\": 1928.74739, \"hiv_aids\": 0.1, \"status\": \"Developing\"}, {\"country\": \"Pakistan\", \"year\": 2010, \"gdp\": 14.142268, \"hiv_aids\": 0.1, \"status\": \"Developing\"}, {\"country\": \"Panama\", \"year\": 2010, \"gdp\": 7937.259931, \"hiv_aids\": 0.1, \"status\": \"Developing\"}, {\"country\": \"Papua New Guinea\", \"year\": 2010, \"gdp\": 1366.879112, \"hiv_aids\": 1.1, \"status\": \"Developing\"}, {\"country\": \"Paraguay\", \"year\": 2010, \"gdp\": 3225.591754, \"hiv_aids\": 0.1, \"status\": \"Developing\"}, {\"country\": \"Peru\", \"year\": 2010, \"gdp\": 522.493191, \"hiv_aids\": 0.2, \"status\": \"Developing\"}, {\"country\": \"Philippines\", \"year\": 2010, \"gdp\": 2129.499242, \"hiv_aids\": 0.1, \"status\": \"Developing\"}, {\"country\": \"Qatar\", \"year\": 2010, \"gdp\": 736.22784, \"hiv_aids\": 0.1, \"status\": \"Developing\"}, {\"country\": \"Romania\", \"year\": 2010, \"gdp\": 8297.483621, \"hiv_aids\": 0.1, \"status\": \"Developed\"}, {\"country\": \"Russian Federation\", \"year\": 2010, \"gdp\": 1674.98771, \"hiv_aids\": 0.2, \"status\": \"Developing\"}, {\"country\": \"Rwanda\", \"year\": 2010, \"gdp\": 563.491487, \"hiv_aids\": 2.3, \"status\": \"Developing\"}, {\"country\": \"Samoa\", \"year\": 2010, \"gdp\": 3453.487434, \"hiv_aids\": 0.1, \"status\": \"Developing\"}, {\"country\": \"Sao Tome and Principe\", \"year\": 2010, \"gdp\": 1129.754961, \"hiv_aids\": 0.5, \"status\": \"Developing\"}, {\"country\": \"Senegal\", \"year\": 2010, \"gdp\": 11.631377, \"hiv_aids\": 0.4, \"status\": \"Developing\"}, {\"country\": \"Serbia\", \"year\": 2010, \"gdp\": 5411.87744, \"hiv_aids\": 0.1, \"status\": \"Developing\"}, {\"country\": \"Seychelles\", \"year\": 2010, \"gdp\": 184.68447, \"hiv_aids\": 0.1, \"status\": \"Developing\"}, {\"country\": \"Sierra Leone\", \"year\": 2010, \"gdp\": 45.128418, \"hiv_aids\": 1.6, \"status\": \"Developing\"}, {\"country\": \"Solomon Islands\", \"year\": 2010, \"gdp\": 1272.44825, \"hiv_aids\": 0.1, \"status\": \"Developing\"}, {\"country\": \"Spain\", \"year\": 2010, \"gdp\": 3736.228, \"hiv_aids\": 0.1, \"status\": \"Developed\"}, {\"country\": \"Sri Lanka\", \"year\": 2010, \"gdp\": 2819.511161, \"hiv_aids\": 0.1, \"status\": \"Developing\"}, {\"country\": \"Sudan\", \"year\": 2010, \"gdp\": 1476.47887, \"hiv_aids\": 0.3, \"status\": \"Developing\"}, {\"country\": \"Suriname\", \"year\": 2010, \"gdp\": 833.31332, \"hiv_aids\": 0.5, \"status\": \"Developing\"}, {\"country\": \"Sweden\", \"year\": 2010, \"gdp\": 5276.25591, \"hiv_aids\": 0.1, \"status\": \"Developed\"}, {\"country\": \"Tajikistan\", \"year\": 2010, \"gdp\": 738.3475227, \"hiv_aids\": 0.2, \"status\": \"Developing\"}, {\"country\": \"Thailand\", \"year\": 2010, \"gdp\": 575.32176, \"hiv_aids\": 0.2, \"status\": \"Developing\"}, {\"country\": \"Timor-Leste\", \"year\": 2010, \"gdp\": 849.8626972, \"hiv_aids\": 0.1, \"status\": \"Developing\"}, {\"country\": \"Tonga\", \"year\": 2010, \"gdp\": 3547.59975, \"hiv_aids\": 0.1, \"status\": \"Developing\"}, {\"country\": \"Tunisia\", \"year\": 2010, \"gdp\": 414.15177, \"hiv_aids\": 0.1, \"status\": \"Developing\"}, {\"country\": \"Turkey\", \"year\": 2010, \"gdp\": 1672.5693, \"hiv_aids\": 0.1, \"status\": \"Developing\"}, {\"country\": \"Turkmenistan\", \"year\": 2010, \"gdp\": 4439.23, \"hiv_aids\": 0.1, \"status\": \"Developing\"}, {\"country\": \"Ukraine\", \"year\": 2010, \"gdp\": 2965.142365, \"hiv_aids\": 0.2, \"status\": \"Developing\"}, {\"country\": \"United Arab Emirates\", \"year\": 2010, \"gdp\": 3549.14832, \"hiv_aids\": 0.1, \"status\": \"Developing\"}, {\"country\": \"Uzbekistan\", \"year\": 2010, \"gdp\": 1377.8214, \"hiv_aids\": 0.2, \"status\": \"Developing\"}, {\"country\": \"Vanuatu\", \"year\": 2010, \"gdp\": 2965.82434, \"hiv_aids\": 0.1, \"status\": \"Developing\"}]}}, {\"mode\": \"vega-lite\"});\n",
              "</script>"
            ],
            "text/plain": [
              "alt.Chart(...)"
            ]
          },
          "metadata": {},
          "execution_count": 34
        }
      ]
    },
    {
      "cell_type": "markdown",
      "source": [
        "As we saw in the scatterplot, there is a negative association between gdp and the amount of hiv_aids deaths per 1,000 live births. This finding suggests that countries with a higher gdp have a lower amount of hiv_aids deaths compared to countries with a lower gdp. Let's make an interactive visualization from this by making a regression line and using the formula for the interactive dropdown menu."
      ],
      "metadata": {
        "id": "qomjv-YlHn2v"
      }
    },
    {
      "cell_type": "code",
      "source": [
        "import ipywidgets as widgets\n",
        "from ipywidgets import interact\n",
        "from ipywidgets import fixed\n",
        "import statsmodels.api as sm\n",
        "\n",
        "Y = Health_factors_definitive['hiv_aids']\n",
        "X = Health_factors_definitive['gdp']\n",
        "X = sm.add_constant(X)\n",
        "model = sm.OLS(Y,X)\n",
        "results = model.fit()\n",
        "results.params\n"
      ],
      "metadata": {
        "colab": {
          "base_uri": "https://localhost:8080/"
        },
        "id": "BWnpgNvcH7KI",
        "outputId": "1727dd1a-4dc4-41b4-d1dd-3a7c24292acd"
      },
      "execution_count": 35,
      "outputs": [
        {
          "output_type": "execute_result",
          "data": {
            "text/plain": [
              "const    0.565446\n",
              "gdp     -0.000075\n",
              "dtype: float64"
            ]
          },
          "metadata": {},
          "execution_count": 35
        }
      ]
    },
    {
      "cell_type": "markdown",
      "source": [
        "The formula for the regression model is\n",
        "\n",
        "hiv_aids = 0.565446 - 0.000075 * gdp \n",
        "\n",
        "Let's make this formula interactive."
      ],
      "metadata": {
        "id": "tDm5bQJZfO3s"
      }
    },
    {
      "cell_type": "code",
      "source": [
        "def calc_hiv_aids(gdp):\n",
        "  return 0.565446 - 0.000075 * gdp\n",
        "\n",
        "interact(calc_hiv_aids, gdp = Health_factors_definitive['gdp'])\n",
        "\n"
      ],
      "metadata": {
        "colab": {
          "base_uri": "https://localhost:8080/",
          "height": 84,
          "referenced_widgets": [
            "4e6a3d352baa46cf88a09eea0c2b5e51",
            "961e207bec424295919113ee5a24293f",
            "eb4a3a0158994d5baddb08831c02511a",
            "b6db509b193b4e5ab3dca4869bdc8591",
            "0e2a9e2706ae4bff9a2156e526649c17",
            "cc0c77e58875419e9c82cbda6a6c48b2",
            "48831f6dc41b42ef89bb369f8ce9e06b"
          ]
        },
        "id": "Uo0nKoBffjWi",
        "outputId": "c81ee22e-c976-4995-e587-4206c7ee92e6"
      },
      "execution_count": 36,
      "outputs": [
        {
          "output_type": "display_data",
          "data": {
            "text/plain": [
              "interactive(children=(Dropdown(description='gdp', options=(553.32894, 494.358832, 4463.394675, 3529.53482, 127…"
            ],
            "application/vnd.jupyter.widget-view+json": {
              "version_major": 2,
              "version_minor": 0,
              "model_id": "4e6a3d352baa46cf88a09eea0c2b5e51"
            }
          },
          "metadata": {}
        },
        {
          "output_type": "execute_result",
          "data": {
            "text/plain": [
              "<function __main__.calc_hiv_aids(gdp)>"
            ]
          },
          "metadata": {},
          "execution_count": 36
        }
      ]
    },
    {
      "cell_type": "markdown",
      "source": [
        "This interactive formula allows the user to calculate the value of 'hiv_aids' deaths per 1,000 live births based on the value of 'gdp'. Higher gdp values will result in lower hiv_aids values and vice versa. "
      ],
      "metadata": {
        "id": "pEeWL02FisIi"
      }
    },
    {
      "cell_type": "markdown",
      "source": [
        "Each country has a different gdp and amount of hiv_aids deaths values. Let's additionally create an interactive bar chart in which the user can select the country."
      ],
      "metadata": {
        "id": "koqX_DZvJloU"
      }
    },
    {
      "cell_type": "code",
      "source": [
        "def select_country_data(country, Health_factors_definitive):\n",
        "  return Health_factors_definitive.loc[Health_factors_definitive['country'] == country, ]\n",
        "\n",
        "def visualize_country_data(country, Health_factors_definitive):\n",
        "  data_to_visualize = select_country_data(country, Health_factors_definitive)\n",
        "\n",
        "  bar_chart = alt.Chart(data_to_visualize).mark_bar().encode(\n",
        "      x='gdp:Q',\n",
        "      y='hiv_aids:Q', \n",
        "      tooltip='country',\n",
        "    )\n",
        "  display(bar_chart)\n",
        "\n"
      ],
      "metadata": {
        "id": "r3E1ObkaV-lE"
      },
      "execution_count": 37,
      "outputs": []
    },
    {
      "cell_type": "markdown",
      "source": [
        "let's see if the visualize_country_data function works properly with an example country."
      ],
      "metadata": {
        "id": "MPwvy21mwMqu"
      }
    },
    {
      "cell_type": "code",
      "source": [
        "visualize_country_data('Angola', Health_factors_definitive)"
      ],
      "metadata": {
        "colab": {
          "base_uri": "https://localhost:8080/",
          "height": 364
        },
        "id": "mrmyUHSIwSDe",
        "outputId": "57a9d29d-1b31-4737-9c0c-477b82cb6207"
      },
      "execution_count": 38,
      "outputs": [
        {
          "output_type": "display_data",
          "data": {
            "text/html": [
              "\n",
              "<div id=\"altair-viz-14179c79fdef4b76a45b7202cc5630a2\"></div>\n",
              "<script type=\"text/javascript\">\n",
              "  var VEGA_DEBUG = (typeof VEGA_DEBUG == \"undefined\") ? {} : VEGA_DEBUG;\n",
              "  (function(spec, embedOpt){\n",
              "    let outputDiv = document.currentScript.previousElementSibling;\n",
              "    if (outputDiv.id !== \"altair-viz-14179c79fdef4b76a45b7202cc5630a2\") {\n",
              "      outputDiv = document.getElementById(\"altair-viz-14179c79fdef4b76a45b7202cc5630a2\");\n",
              "    }\n",
              "    const paths = {\n",
              "      \"vega\": \"https://cdn.jsdelivr.net/npm//vega@5?noext\",\n",
              "      \"vega-lib\": \"https://cdn.jsdelivr.net/npm//vega-lib?noext\",\n",
              "      \"vega-lite\": \"https://cdn.jsdelivr.net/npm//vega-lite@4.17.0?noext\",\n",
              "      \"vega-embed\": \"https://cdn.jsdelivr.net/npm//vega-embed@6?noext\",\n",
              "    };\n",
              "\n",
              "    function maybeLoadScript(lib, version) {\n",
              "      var key = `${lib.replace(\"-\", \"\")}_version`;\n",
              "      return (VEGA_DEBUG[key] == version) ?\n",
              "        Promise.resolve(paths[lib]) :\n",
              "        new Promise(function(resolve, reject) {\n",
              "          var s = document.createElement('script');\n",
              "          document.getElementsByTagName(\"head\")[0].appendChild(s);\n",
              "          s.async = true;\n",
              "          s.onload = () => {\n",
              "            VEGA_DEBUG[key] = version;\n",
              "            return resolve(paths[lib]);\n",
              "          };\n",
              "          s.onerror = () => reject(`Error loading script: ${paths[lib]}`);\n",
              "          s.src = paths[lib];\n",
              "        });\n",
              "    }\n",
              "\n",
              "    function showError(err) {\n",
              "      outputDiv.innerHTML = `<div class=\"error\" style=\"color:red;\">${err}</div>`;\n",
              "      throw err;\n",
              "    }\n",
              "\n",
              "    function displayChart(vegaEmbed) {\n",
              "      vegaEmbed(outputDiv, spec, embedOpt)\n",
              "        .catch(err => showError(`Javascript Error: ${err.message}<br>This usually means there's a typo in your chart specification. See the javascript console for the full traceback.`));\n",
              "    }\n",
              "\n",
              "    if(typeof define === \"function\" && define.amd) {\n",
              "      requirejs.config({paths});\n",
              "      require([\"vega-embed\"], displayChart, err => showError(`Error loading script: ${err.message}`));\n",
              "    } else {\n",
              "      maybeLoadScript(\"vega\", \"5\")\n",
              "        .then(() => maybeLoadScript(\"vega-lite\", \"4.17.0\"))\n",
              "        .then(() => maybeLoadScript(\"vega-embed\", \"6\"))\n",
              "        .catch(showError)\n",
              "        .then(() => displayChart(vegaEmbed));\n",
              "    }\n",
              "  })({\"config\": {\"view\": {\"continuousWidth\": 400, \"continuousHeight\": 300}}, \"data\": {\"name\": \"data-f1fd19f09a0a0591fc9d023eec4ca4aa\"}, \"mark\": \"bar\", \"encoding\": {\"tooltip\": {\"field\": \"country\", \"type\": \"nominal\"}, \"x\": {\"field\": \"gdp\", \"type\": \"quantitative\"}, \"y\": {\"field\": \"hiv_aids\", \"type\": \"quantitative\"}}, \"$schema\": \"https://vega.github.io/schema/vega-lite/v4.17.0.json\", \"datasets\": {\"data-f1fd19f09a0a0591fc9d023eec4ca4aa\": [{\"country\": \"Angola\", \"year\": 2010, \"gdp\": 3529.53482, \"hiv_aids\": 2.5, \"status\": \"Developing\"}]}}, {\"mode\": \"vega-lite\"});\n",
              "</script>"
            ],
            "text/plain": [
              "alt.Chart(...)"
            ]
          },
          "metadata": {}
        }
      ]
    },
    {
      "cell_type": "markdown",
      "source": [
        "The function set-up is completed succesfully. Now, let's pass the function to interact to make the bar chart interactive for the user. "
      ],
      "metadata": {
        "id": "yNBjv9iQwTZh"
      }
    },
    {
      "cell_type": "code",
      "source": [
        "interact(visualize_country_data,\n",
        "         country = Health_factors_definitive['country'],\n",
        "         Health_factors_definitive = fixed(Health_factors_definitive))\n"
      ],
      "metadata": {
        "colab": {
          "base_uri": "https://localhost:8080/",
          "height": 418,
          "referenced_widgets": [
            "e5296e1354ac435faba6dc2a9ae99c60",
            "80db57bd8b884218b9f5a4425cc88515",
            "9af24291f4384aceb81b5077e0ba10f1",
            "e7d0cd2f8bb64bbf8ab78b77fab6a19f",
            "39753a702f254a37b862cda611575e8f",
            "8de030a8c1854216a825fa5bc62a6530",
            "d0bcb268728848378fa6587dce1a2b6b"
          ]
        },
        "id": "VgIbY7Vrzsn2",
        "outputId": "e6acdbeb-2611-4970-942b-27a89b0722d3"
      },
      "execution_count": 39,
      "outputs": [
        {
          "output_type": "display_data",
          "data": {
            "text/plain": [
              "interactive(children=(Dropdown(description='country', options=('Afghanistan', 'Albania', 'Algeria', 'Angola', …"
            ],
            "application/vnd.jupyter.widget-view+json": {
              "version_major": 2,
              "version_minor": 0,
              "model_id": "e5296e1354ac435faba6dc2a9ae99c60"
            }
          },
          "metadata": {}
        },
        {
          "output_type": "execute_result",
          "data": {
            "text/plain": [
              "<function __main__.visualize_country_data(country, Health_factors_definitive)>"
            ]
          },
          "metadata": {},
          "execution_count": 39
        }
      ]
    },
    {
      "cell_type": "markdown",
      "source": [
        "Now, we have created an interactive bar chart in which the user can select the country of interest to check the values of gdp and hiv_aids."
      ],
      "metadata": {
        "id": "jHoqm9_cz9Xn"
      }
    },
    {
      "cell_type": "markdown",
      "source": [
        "5. **Conclusion**"
      ],
      "metadata": {
        "id": "0OiBjN14Ux6o"
      }
    },
    {
      "cell_type": "markdown",
      "source": [
        "The initial research question of our research was: \n",
        "\n",
        "Does a country's welfare have an influence on HIV/AIDS incidence and vaccination rate? We divided this research question into two sub-research questions:\n",
        "\n",
        "- Was there an association between a country's GDP and incidences of HIV/AIDS (high and low GDP vs amount of population infected with HIV/AIDS) in 2010?\n",
        "(25 percentile (low) and 75 percentile (high) gdp)\n",
        " \n",
        "- Do countries with a low total expenditure have more incidences of diseases caused by not-vaccinating infants (polio, measles, diphtheria) \n",
        "\n",
        "In response to the first research question, we did find an association between a country's GDP and incidences of HIV/AIDS in 2010. Countries with a lower gdp appear to have a higher amount of HIV/AIDS deaths per 1,000 live births compared to countries with a higher gdp. In this study, gdp is taken as a measure of welfare. Therefore, countries with better welfare tend to have less lives lost due to HIV/AIDS compared to countries with a lesser welfare. Only selecting the data that belongs to the first and fourth quartile was not additionally relevant. \n",
        "\n"
      ],
      "metadata": {
        "id": "VX-q9t1eU0VA"
      }
    },
    {
      "cell_type": "markdown",
      "source": [
        "There was equal contribution in this project. Julian Zeegers answered the first sub-research question with the present Colab. Angella Namuyomba answered the second sub-research question in a separate Colab."
      ],
      "metadata": {
        "id": "23tT6_hdegAx"
      }
    }
  ]
}